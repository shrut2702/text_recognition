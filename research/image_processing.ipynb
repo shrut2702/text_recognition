{
 "cells": [
  {
   "cell_type": "code",
   "execution_count": 1,
   "metadata": {},
   "outputs": [],
   "source": [
    "import os"
   ]
  },
  {
   "cell_type": "code",
   "execution_count": 2,
   "metadata": {},
   "outputs": [
    {
     "data": {
      "text/plain": [
       "'e:\\\\GCET\\\\Machine Learning\\\\Deep Learning Projects\\\\text_recognition\\\\research'"
      ]
     },
     "execution_count": 2,
     "metadata": {},
     "output_type": "execute_result"
    }
   ],
   "source": [
    "%pwd"
   ]
  },
  {
   "cell_type": "code",
   "execution_count": 3,
   "metadata": {},
   "outputs": [],
   "source": [
    "os.chdir('../')"
   ]
  },
  {
   "cell_type": "code",
   "execution_count": 4,
   "metadata": {},
   "outputs": [
    {
     "data": {
      "text/plain": [
       "'e:\\\\GCET\\\\Machine Learning\\\\Deep Learning Projects\\\\text_recognition'"
      ]
     },
     "execution_count": 4,
     "metadata": {},
     "output_type": "execute_result"
    }
   ],
   "source": [
    "%pwd"
   ]
  },
  {
   "cell_type": "markdown",
   "metadata": {},
   "source": [
    "# Demo Image import"
   ]
  },
  {
   "cell_type": "code",
   "execution_count": 5,
   "metadata": {},
   "outputs": [],
   "source": [
    "from dataclasses import dataclass\n",
    "from pathlib import Path\n",
    "\n",
    "@dataclass(frozen=True)\n",
    "class DemoImageConfig:\n",
    "    image_url: str\n",
    "    image_dir: Path"
   ]
  },
  {
   "cell_type": "code",
   "execution_count": 7,
   "metadata": {},
   "outputs": [],
   "source": [
    "from mlOCR.constants import *\n",
    "from mlOCR.utils.common import read_yaml, create_directories\n",
    "#from mlOCR.entity.config_entity import ImageProcessingConfig,DemoImageConfig\n",
    "\n",
    "class ConfigurationManager:\n",
    "    def __init__(\n",
    "        self,\n",
    "        config_filepath = CONFIG_FILE_PATH,\n",
    "        params_filepath = PARAMS_FILE_PATH,\n",
    "        schema_filepath = SCHEMA_FILE_PATH):\n",
    "\n",
    "        self.config = read_yaml(config_filepath)\n",
    "        self.params = read_yaml(params_filepath)\n",
    "        self.schema = read_yaml(schema_filepath)\n",
    "\n",
    "        create_directories([self.config.artifacts_root])\n",
    "\n",
    "    def get_demo_image_config(self)->DemoImageConfig:\n",
    "        config=self.config.demo_image\n",
    "\n",
    "        create_directories([config.image_dir])\n",
    "\n",
    "        demo_image_config=DemoImageConfig(\n",
    "            image_url=config.image_url,\n",
    "            image_dir=config.image_dir\n",
    "        )\n",
    "\n",
    "        return demo_image_config"
   ]
  },
  {
   "cell_type": "code",
   "execution_count": 8,
   "metadata": {},
   "outputs": [],
   "source": [
    "import requests\n",
    "import os\n",
    "from mlOCR import logger\n",
    "\n",
    "class DemoImage:\n",
    "    def __init__(self,DemoImageConfig):\n",
    "        self.url=DemoImageConfig.image_url\n",
    "        self.image_dir=DemoImageConfig.image_dir\n",
    "\n",
    "    def download_image(self):\n",
    "        filename='demo.jpg'\n",
    "        if not os.path.exists(os.path.join(self.image_dir, filename)):\n",
    "            response=requests.get(self.url)\n",
    "\n",
    "            if response.status_code == 200:\n",
    "                with open(os.path.join(self.image_dir, filename), \"wb\") as file:\n",
    "                    file.write(response.content)\n",
    "                logger.info(f'{filename} downloaded successfully!')\n",
    "            else:\n",
    "                logger.info(f'Error downloading {filename}!')\n",
    "        else:\n",
    "            logger.info(f'{filename} already exists!')\n",
    "            \n"
   ]
  },
  {
   "cell_type": "code",
   "execution_count": 8,
   "metadata": {},
   "outputs": [
    {
     "name": "stdout",
     "output_type": "stream",
     "text": [
      "[2025-03-03 15:58:21,327: INFO: common: yaml file: config\\config.yaml loaded successfully]\n",
      "[2025-03-03 15:58:21,329: INFO: common: yaml file: params.yaml loaded successfully]\n",
      "[2025-03-03 15:58:21,330: INFO: common: yaml file: schema.yaml loaded successfully]\n",
      "[2025-03-03 15:58:21,331: INFO: common: created directory at: artifacts]\n",
      "[2025-03-03 15:58:21,332: INFO: common: created directory at: artifacts/image/input]\n",
      "[2025-03-03 15:58:21,332: INFO: 3457974689: demo.jpg already exists!]\n"
     ]
    }
   ],
   "source": [
    "try:\n",
    "    config=ConfigurationManager()\n",
    "    demo_image_config=config.get_demo_image_config()\n",
    "    demo_image=DemoImage(demo_image_config)\n",
    "    demo_image.download_image()\n",
    "except Exception as e:\n",
    "    logger.exception(e)\n",
    "    raise e"
   ]
  },
  {
   "cell_type": "markdown",
   "metadata": {},
   "source": [
    "# Image Processing"
   ]
  },
  {
   "cell_type": "code",
   "execution_count": 9,
   "metadata": {},
   "outputs": [],
   "source": [
    "#entity\n",
    "@dataclass(frozen=True)\n",
    "class ImageProcessingConfig:\n",
    "    image_path: Path\n",
    "    result_path: Path\n",
    "    norm_mean: tuple\n",
    "    norm_variance: tuple\n",
    "    canvas_size: int\n",
    "    mag_ratio:float"
   ]
  },
  {
   "cell_type": "code",
   "execution_count": 10,
   "metadata": {},
   "outputs": [],
   "source": [
    "#config\n",
    "class ConfigurationManager:\n",
    "    def __init__(\n",
    "        self,\n",
    "        config_filepath = CONFIG_FILE_PATH,\n",
    "        params_filepath = PARAMS_FILE_PATH,\n",
    "        schema_filepath = SCHEMA_FILE_PATH):\n",
    "\n",
    "        self.config = read_yaml(config_filepath)\n",
    "        self.params = read_yaml(params_filepath)\n",
    "        self.schema = read_yaml(schema_filepath)\n",
    "\n",
    "        create_directories([self.config.artifacts_root])\n",
    "\n",
    "    def get_image_processing_config(self)->ImageProcessingConfig:\n",
    "        config=self.config.image_processing\n",
    "        params=self.params.craft_image_processing\n",
    "\n",
    "        create_directories([config.result_path])\n",
    "\n",
    "        image_processing_config=ImageProcessingConfig(\n",
    "            image_path=Path(config.image_path),\n",
    "            result_path=Path(config.result_path),\n",
    "            norm_mean=tuple(params.norm_mean.translate(str.maketrans('','','()')).split(',')),\n",
    "            norm_variance=tuple(params.norm_variance.translate(str.maketrans('','','()')).split(',')),\n",
    "            canvas_size=int(params.canvas_size),\n",
    "            mag_ratio=float(params.mag_ratio)\n",
    "        )\n",
    "\n",
    "        return image_processing_config"
   ]
  },
  {
   "cell_type": "code",
   "execution_count": 11,
   "metadata": {},
   "outputs": [],
   "source": [
    "#component\n",
    "\n",
    "import numpy as np\n",
    "from skimage import io\n",
    "import cv2\n",
    "\n",
    "class ImageProcessing:\n",
    "    def __init__(self,ImageProcessingConfig):\n",
    "        self.image_path=ImageProcessingConfig.image_path\n",
    "        self.result_path=ImageProcessingConfig.result_path\n",
    "        self.canvas_size=ImageProcessingConfig.canvas_size\n",
    "        self.mag_ratio=ImageProcessingConfig.mag_ratio\n",
    "        self.norm_mean=ImageProcessingConfig.norm_mean\n",
    "        self.norm_variance=ImageProcessingConfig.norm_variance\n",
    "\n",
    "        self.norm_mean=np.array([self.norm_mean[0],self.norm_mean[1],self.norm_mean[2]],dtype=np.float32)\n",
    "        self.norm_variance=np.array([self.norm_variance[0],self.norm_variance[1],self.norm_variance[2]],dtype=np.float32)\n",
    "\n",
    "        \n",
    "    def loadImage(self):\n",
    "        img = io.imread(self.image_path)           # RGB order\n",
    "        if img.shape[0] == 2: img = img[0]\n",
    "        if len(img.shape) == 2 : img = cv2.cvtColor(img, cv2.COLOR_GRAY2RGB)\n",
    "        if img.shape[2] == 4:   img = img[:,:,:3]\n",
    "        img = np.array(img)\n",
    "\n",
    "        return img\n",
    "    \n",
    "    def normalizeMeanVariance(self,in_img):\n",
    "        # should be RGB order\n",
    "        img = in_img.copy().astype(np.float32)\n",
    "\n",
    "        norm_mean_array = self.norm_mean * 255.0\n",
    "        norm_variance_array = self.norm_variance * 255.0\n",
    "\n",
    "        img -= norm_mean_array\n",
    "        img /= norm_variance_array\n",
    "        return img\n",
    "\n",
    "    def denormalizeMeanVariance(self,in_img):\n",
    "        # should be RGB order\n",
    "        img = in_img.copy()\n",
    "        img *= self.norm_variance\n",
    "        img += self.norm_mean\n",
    "        img *= 255.0\n",
    "        img = np.clip(img, 0, 255).astype(np.uint8)\n",
    "        return img\n",
    "    \n",
    "    def resize_aspect_ratio(self,img, interpolation=cv2.INTER_LINEAR):\n",
    "        mag_ratio=self.mag_ratio\n",
    "        square_size=self.canvas_size\n",
    "\n",
    "        height, width, channel = img.shape\n",
    "\n",
    "        # magnify image size\n",
    "        target_size = mag_ratio * max(height, width)\n",
    "\n",
    "        # set original image size\n",
    "        if target_size > square_size:\n",
    "            target_size = square_size\n",
    "        \n",
    "        ratio = target_size / max(height, width)    \n",
    "\n",
    "        target_h, target_w = int(height * ratio), int(width * ratio)\n",
    "        proc = cv2.resize(img, (target_w, target_h), interpolation = interpolation)\n",
    "\n",
    "\n",
    "        # make canvas and paste image\n",
    "        target_h32, target_w32 = target_h, target_w\n",
    "        if target_h % 32 != 0:\n",
    "            target_h32 = target_h + (32 - target_h % 32)\n",
    "        if target_w % 32 != 0:\n",
    "            target_w32 = target_w + (32 - target_w % 32)\n",
    "        resized = np.zeros((target_h32, target_w32, channel), dtype=np.float32)\n",
    "        resized[0:target_h, 0:target_w, :] = proc\n",
    "        target_h, target_w = target_h32, target_w32\n",
    "\n",
    "        size_heatmap = (int(target_w/2), int(target_h/2))\n",
    "\n",
    "        return resized, ratio, size_heatmap\n",
    "    "
   ]
  },
  {
   "cell_type": "code",
   "execution_count": 12,
   "metadata": {},
   "outputs": [
    {
     "name": "stdout",
     "output_type": "stream",
     "text": [
      "[2025-03-04 12:40:38,680: INFO: common: yaml file: config\\config.yaml loaded successfully]\n",
      "[2025-03-04 12:40:38,709: INFO: common: yaml file: params.yaml loaded successfully]\n",
      "[2025-03-04 12:40:38,713: INFO: common: yaml file: schema.yaml loaded successfully]\n",
      "[2025-03-04 12:40:38,717: INFO: common: created directory at: artifacts]\n",
      "[2025-03-04 12:40:38,721: INFO: common: created directory at: artifacts/image/result]\n",
      "[2025-03-04 12:40:38,782: INFO: common: Image saved at: artifacts\\image\\result]\n",
      "[2025-03-04 12:40:38,815: INFO: common: Image saved at: artifacts\\image\\result]\n",
      "[2025-03-04 12:40:38,816: INFO: common: binary file resized_data.pkl saved at: artifacts\\image\\result]\n"
     ]
    }
   ],
   "source": [
    "# pipeline\n",
    "from mlOCR.utils.common import save_image,save_bin\n",
    "\n",
    "try:\n",
    "    config=ConfigurationManager()\n",
    "    image_processing_config=config.get_image_processing_config()\n",
    "    image_processing=ImageProcessing(image_processing_config)\n",
    "    image=image_processing.loadImage()\n",
    "    save_image(image,'demo_transformed.jpg',image_processing.result_path)\n",
    "    resized_image,ratio,size_heatmap=image_processing.resize_aspect_ratio(image)\n",
    "    normalized_image=image_processing.normalizeMeanVariance(resized_image)\n",
    "    save_image(normalized_image,'demo_normalized.jpg',image_processing.result_path)\n",
    "    resized_data={'ratio':ratio,'size_heatmap':size_heatmap}\n",
    "    save_bin(resized_data,'resized_data.pkl',image_processing.result_path)\n",
    "except Exception as e:\n",
    "    logger.exception(e)\n",
    "    raise e"
   ]
  },
  {
   "cell_type": "code",
   "execution_count": 6,
   "metadata": {},
   "outputs": [
    {
     "name": "stdout",
     "output_type": "stream",
     "text": [
      "[2025-03-03 16:22:12,910: INFO: common: yaml file: config\\config.yaml loaded successfully]\n",
      "[2025-03-03 16:22:12,913: INFO: common: yaml file: params.yaml loaded successfully]\n",
      "[2025-03-03 16:22:12,916: INFO: common: yaml file: schema.yaml loaded successfully]\n",
      "[2025-03-03 16:22:12,917: INFO: common: created directory at: artifacts]\n",
      "[2025-03-03 16:22:12,919: INFO: common: created directory at: artifacts/image/input]\n",
      "[2025-03-03 16:22:13,168: INFO: Demo_Image: demo.jpg downloaded successfully!]\n",
      "[2025-03-03 16:22:13,171: INFO: common: yaml file: config\\config.yaml loaded successfully]\n",
      "[2025-03-03 16:22:13,173: INFO: common: yaml file: params.yaml loaded successfully]\n",
      "[2025-03-03 16:22:13,174: INFO: common: yaml file: schema.yaml loaded successfully]\n",
      "[2025-03-03 16:22:13,175: INFO: common: created directory at: artifacts]\n",
      "[2025-03-03 16:22:13,176: INFO: common: created directory at: artifacts/image/result]\n",
      "[2025-03-03 16:22:13,219: INFO: common: Image saved at: artifacts\\image\\result]\n",
      "[2025-03-03 16:22:13,252: INFO: common: Image saved at: artifacts\\image\\result]\n",
      "[2025-03-03 16:22:13,256: INFO: common: binary file resized_data.pkl saved at: artifacts\\image\\result]\n"
     ]
    }
   ],
   "source": [
    "from mlOCR.pipeline.stage_00_demo_image import DemoImagePipeline\n",
    "from mlOCR.pipeline.stage_01_image_processing import ImageProcessingPipeline\n",
    "\n",
    "obj1=DemoImagePipeline()\n",
    "obj1.main()\n",
    "obj2=ImageProcessingPipeline()\n",
    "obj2.main()"
   ]
  }
 ],
 "metadata": {
  "kernelspec": {
   "display_name": "vir_env",
   "language": "python",
   "name": "python3"
  },
  "language_info": {
   "codemirror_mode": {
    "name": "ipython",
    "version": 3
   },
   "file_extension": ".py",
   "mimetype": "text/x-python",
   "name": "python",
   "nbconvert_exporter": "python",
   "pygments_lexer": "ipython3",
   "version": "3.12.3"
  }
 },
 "nbformat": 4,
 "nbformat_minor": 2
}
