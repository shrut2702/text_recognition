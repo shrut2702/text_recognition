{
 "cells": [
  {
   "cell_type": "code",
   "execution_count": 1,
   "id": "45bf4e7c",
   "metadata": {},
   "outputs": [],
   "source": [
    "import os\n",
    "\n",
    "os.environ[\"KERAS_BACKEND\"] = \"tensorflow\"\n",
    "\n",
    "import numpy as np\n",
    "import matplotlib.pyplot as plt\n",
    "\n",
    "from pathlib import Path\n",
    "\n",
    "import tensorflow as tf\n",
    "import keras\n",
    "from keras import ops\n",
    "from keras import layers"
   ]
  },
  {
   "cell_type": "code",
   "execution_count": 2,
   "id": "474093f0",
   "metadata": {},
   "outputs": [
    {
     "data": {
      "text/plain": [
       "'e:\\\\GCET\\\\Machine Learning\\\\Deep Learning Projects\\\\text_recognition\\\\research'"
      ]
     },
     "execution_count": 2,
     "metadata": {},
     "output_type": "execute_result"
    }
   ],
   "source": [
    "%pwd"
   ]
  },
  {
   "cell_type": "code",
   "execution_count": 3,
   "id": "61660ba6",
   "metadata": {},
   "outputs": [],
   "source": [
    "os.chdir('../')"
   ]
  },
  {
   "cell_type": "code",
   "execution_count": 4,
   "id": "1895fc69",
   "metadata": {},
   "outputs": [
    {
     "data": {
      "text/plain": [
       "'e:\\\\GCET\\\\Machine Learning\\\\Deep Learning Projects\\\\text_recognition'"
      ]
     },
     "execution_count": 4,
     "metadata": {},
     "output_type": "execute_result"
    }
   ],
   "source": [
    "%pwd"
   ]
  },
  {
   "cell_type": "code",
   "execution_count": 5,
   "id": "0e7cbaef",
   "metadata": {},
   "outputs": [],
   "source": [
    "from pathlib import Path\n",
    "dataset_dir='D:/mnt/ramdisk/max/90kDICT32px'   #annotation.txt\n",
    "#dataset_dir='artifacts/Dataset/Word_Level_Training_Set/'"
   ]
  },
  {
   "cell_type": "code",
   "execution_count": 6,
   "id": "21d1e9f6",
   "metadata": {},
   "outputs": [
    {
     "data": {
      "text/plain": [
       "' initial_img_path=[]\\ninitial_text_label=[]\\n\\nwith open(os.path.join(dataset_dir,\\'train_filtered.txt\\'), \"r\", encoding=\"utf-8\") as file:\\n    lines = file.readlines()\\n    for i,line in enumerate(lines):\\n        try:\\n            path=line.split(\"\\t\")[0]\\n            label=line.split(\"\\t\")[1][:-1]\\n        except Exception as e:\\n            print(e,\" \",i,\" \",line)\\n\\n        initial_img_path.append(os.path.join(dataset_dir,path))\\n        initial_text_label.append(label) '"
      ]
     },
     "execution_count": 6,
     "metadata": {},
     "output_type": "execute_result"
    }
   ],
   "source": [
    "initial_img_path=[]\n",
    "initial_text_label=[]\n",
    "\n",
    "with open(os.path.join(dataset_dir,'annotation.txt'), \"r\", encoding=\"utf-8\") as file:\n",
    "    lines = file.readlines()\n",
    "    for i,line in enumerate(lines):\n",
    "        try:\n",
    "            path=line.split(\" \")[0]\n",
    "            dir_name, file_name = os.path.split(path)\n",
    "            label=file_name.split(\"_\")[1]\n",
    "        except Exception as e:\n",
    "            print(e,\" \",i,\" \",line)\n",
    "\n",
    "        initial_img_path.append(os.path.join(dataset_dir,path))\n",
    "        initial_text_label.append(label)\n",
    "\n",
    "\"\"\" initial_img_path=[]\n",
    "initial_text_label=[]\n",
    "\n",
    "with open(os.path.join(dataset_dir,'train_filtered.txt'), \"r\", encoding=\"utf-8\") as file:\n",
    "    lines = file.readlines()\n",
    "    for i,line in enumerate(lines):\n",
    "        try:\n",
    "            path=line.split(\"\\t\")[0]\n",
    "            label=line.split(\"\\t\")[1][:-1]\n",
    "        except Exception as e:\n",
    "            print(e,\" \",i,\" \",line)\n",
    "\n",
    "        initial_img_path.append(os.path.join(dataset_dir,path))\n",
    "        initial_text_label.append(label) \"\"\""
   ]
  },
  {
   "cell_type": "code",
   "execution_count": 7,
   "id": "f1d81dd9",
   "metadata": {},
   "outputs": [
    {
     "name": "stdout",
     "output_type": "stream",
     "text": [
      "8919273 8919273\n"
     ]
    }
   ],
   "source": [
    "print(len(initial_img_path), len(initial_text_label))"
   ]
  },
  {
   "cell_type": "code",
   "execution_count": 8,
   "id": "67222e52",
   "metadata": {},
   "outputs": [
    {
     "name": "stdout",
     "output_type": "stream",
     "text": [
      "62\n",
      "['0', '1', '2', '3', '4', '5', '6', '7', '8', '9', 'A', 'B', 'C', 'D', 'E', 'F', 'G', 'H', 'I', 'J', 'K', 'L', 'M', 'N', 'O', 'P', 'Q', 'R', 'S', 'T', 'U', 'V', 'W', 'X', 'Y', 'Z', 'a', 'b', 'c', 'd', 'e', 'f', 'g', 'h', 'i', 'j', 'k', 'l', 'm', 'n', 'o', 'p', 'q', 'r', 's', 't', 'u', 'v', 'w', 'x', 'y', 'z']\n"
     ]
    }
   ],
   "source": [
    "vocab=set(\"\".join(map(str,initial_text_label)))\n",
    "#vocab.add('X')  #because X is not there in filtered images(removed cropped and bad images from the directory)\n",
    "\n",
    "vocab=[char for char in vocab if char.isalnum()]\n",
    "char_list=sorted(vocab)\n",
    "print(len(char_list))\n",
    "print(char_list)"
   ]
  },
  {
   "cell_type": "code",
   "execution_count": 9,
   "id": "3757027f",
   "metadata": {},
   "outputs": [],
   "source": [
    "#Removing labels and images with non-alphanumeric characters\n",
    "img_path=[]\n",
    "text_labels=[]\n",
    "\n",
    "for i,(path,label) in enumerate(zip(initial_img_path,initial_text_label)):\n",
    "    if all(char in char_list for char in label):\n",
    "        img_path.append(path)\n",
    "        text_labels.append(label)"
   ]
  },
  {
   "cell_type": "code",
   "execution_count": 10,
   "id": "f11fe6a1",
   "metadata": {},
   "outputs": [
    {
     "name": "stdout",
     "output_type": "stream",
     "text": [
      "8919273 8919273\n"
     ]
    }
   ],
   "source": [
    "print(len(img_path), len(text_labels))"
   ]
  },
  {
   "cell_type": "code",
   "execution_count": 11,
   "id": "c207ac2a",
   "metadata": {},
   "outputs": [],
   "source": [
    "mask = np.vectorize(len)(text_labels) <= 11  #<=11\n",
    "#mask = (np.vectorize(len)(text_labels) >= 8) & (np.vectorize(len)(text_labels) <= 10)\n",
    "\n",
    "img_path=np.array(img_path)\n",
    "text_labels=np.array(text_labels)\n",
    "\n",
    "filtered_img_paths = img_path[mask]\n",
    "filtered_text_labels = text_labels[mask]"
   ]
  },
  {
   "cell_type": "code",
   "execution_count": 12,
   "id": "64baa5dc",
   "metadata": {},
   "outputs": [
    {
     "name": "stdout",
     "output_type": "stream",
     "text": [
      "8082518 8082518\n"
     ]
    }
   ],
   "source": [
    "print(len(filtered_img_paths), len(filtered_text_labels))"
   ]
  },
  {
   "cell_type": "code",
   "execution_count": 13,
   "id": "ba4f851b",
   "metadata": {},
   "outputs": [],
   "source": [
    "# Filter out numeric images and labels\n",
    "numeric_mask = np.vectorize(lambda label: label.isnumeric())(filtered_text_labels)\n",
    "\n",
    "numeric_img_path = filtered_img_paths[numeric_mask]\n",
    "numeric_text_labels = filtered_text_labels[numeric_mask]"
   ]
  },
  {
   "cell_type": "code",
   "execution_count": 14,
   "id": "b8491d57",
   "metadata": {},
   "outputs": [
    {
     "data": {
      "text/plain": [
       "(12470, 12470)"
      ]
     },
     "execution_count": 14,
     "metadata": {},
     "output_type": "execute_result"
    }
   ],
   "source": [
    "len(numeric_img_path), len(numeric_text_labels)"
   ]
  },
  {
   "cell_type": "code",
   "execution_count": 15,
   "id": "f1d103c4",
   "metadata": {},
   "outputs": [],
   "source": [
    "# Randomly select 45000 images\n",
    "\n",
    "import numpy as np\n",
    "\n",
    "#size=len(img_path)\n",
    "size=len(filtered_img_paths)\n",
    "random_indices = np.random.choice(size, 45000, replace=False)"
   ]
  },
  {
   "cell_type": "code",
   "execution_count": 16,
   "id": "2d488340",
   "metadata": {},
   "outputs": [],
   "source": [
    "\"\"\" img_path=np.array(img_path)\n",
    "text_labels=np.array(text_labels)\n",
    "\n",
    "img_path=img_path[random_indices]\n",
    "text_labels=text_labels[random_indices] \"\"\"\n",
    "\n",
    "#img_path=np.array(img_path)\n",
    "#text_labels=np.array(text_labels)\n",
    "\n",
    "filtered_img_paths=filtered_img_paths[random_indices]\n",
    "filtered_text_labels=filtered_text_labels[random_indices]"
   ]
  },
  {
   "cell_type": "code",
   "execution_count": 17,
   "id": "4a557096",
   "metadata": {},
   "outputs": [
    {
     "name": "stdout",
     "output_type": "stream",
     "text": [
      "45000 45000\n"
     ]
    }
   ],
   "source": [
    "print(len(filtered_img_paths), len(filtered_text_labels))"
   ]
  },
  {
   "cell_type": "code",
   "execution_count": 18,
   "id": "495890ad",
   "metadata": {},
   "outputs": [
    {
     "name": "stdout",
     "output_type": "stream",
     "text": [
      "57470 57470\n"
     ]
    }
   ],
   "source": [
    "merged_img_paths = np.concatenate((filtered_img_paths, numeric_img_path))\n",
    "merged_text_labels = np.concatenate((filtered_text_labels, numeric_text_labels))\n",
    "\n",
    "print(len(merged_img_paths), len(merged_text_labels))"
   ]
  },
  {
   "cell_type": "code",
   "execution_count": 19,
   "id": "ab3f2f67",
   "metadata": {},
   "outputs": [],
   "source": [
    "\"\"\" import cv2\n",
    "\n",
    "for idx,path in enumerate(img_path):\n",
    "    img = cv2.imread(path, cv2.IMREAD_GRAYSCALE)\n",
    "    if img is None:\n",
    "        img_path = np.delete(img_path, idx)\n",
    "        text_labels = np.delete(text_labels, idx)\n",
    "    elif len(img.shape) != 2:\n",
    "        img_path = np.delete(img_path, idx)\n",
    "        text_labels = np.delete(text_labels, idx) \"\"\"\n",
    "\n",
    "import cv2\n",
    "\n",
    "for idx,path in enumerate(merged_img_paths):\n",
    "    img = cv2.imread(path, cv2.IMREAD_GRAYSCALE)\n",
    "    if img is None:\n",
    "        merged_img_paths = np.delete(merged_img_paths, idx)\n",
    "        merged_text_labels = np.delete(merged_text_labels, idx)\n",
    "    elif len(img.shape) != 2:\n",
    "        merged_img_paths = np.delete(merged_img_paths, idx)\n",
    "        merged_text_labels = np.delete(merged_text_labels, idx)"
   ]
  },
  {
   "cell_type": "code",
   "execution_count": 20,
   "id": "0449f269",
   "metadata": {},
   "outputs": [
    {
     "name": "stdout",
     "output_type": "stream",
     "text": [
      "57470 57470\n"
     ]
    }
   ],
   "source": [
    "#print(len(img_path), len(text_labels))\n",
    "print(len(merged_img_paths), len(merged_text_labels))"
   ]
  },
  {
   "cell_type": "code",
   "execution_count": 21,
   "id": "a9085ab4",
   "metadata": {},
   "outputs": [
    {
     "data": {
      "text/plain": [
       "23"
      ]
     },
     "execution_count": 21,
     "metadata": {},
     "output_type": "execute_result"
    }
   ],
   "source": [
    "max_label_len = max([len(str(text)) for text in initial_text_label])\n",
    "max_label_len"
   ]
  },
  {
   "cell_type": "code",
   "execution_count": 22,
   "id": "c3f76ac5",
   "metadata": {},
   "outputs": [
    {
     "data": {
      "text/plain": [
       "np.float64(5.0)"
      ]
     },
     "execution_count": 22,
     "metadata": {},
     "output_type": "execute_result"
    }
   ],
   "source": [
    "len_text_labels = np.vectorize(len)(text_labels)\n",
    "\n",
    "np.quantile(len_text_labels, 0.1)"
   ]
  },
  {
   "cell_type": "code",
   "execution_count": null,
   "id": "109374f3",
   "metadata": {},
   "outputs": [],
   "source": [
    "\"\"\" mask = np.vectorize(len)(text_labels) <= 11  #<=11\n",
    "#mask = (np.vectorize(len)(text_labels) >= 8) & (np.vectorize(len)(text_labels) <= 10)\n",
    "filtered_img_paths = img_path[mask]\n",
    "filtered_text_labels = text_labels[mask] \"\"\""
   ]
  },
  {
   "cell_type": "code",
   "execution_count": null,
   "id": "6d6d65b8",
   "metadata": {},
   "outputs": [
    {
     "name": "stdout",
     "output_type": "stream",
     "text": [
      "27244 27244\n"
     ]
    }
   ],
   "source": [
    "\"\"\" print(len(filtered_img_paths), len(filtered_text_labels)) \"\"\""
   ]
  },
  {
   "cell_type": "code",
   "execution_count": 23,
   "id": "e37145f5",
   "metadata": {},
   "outputs": [
    {
     "data": {
      "text/plain": [
       "11"
      ]
     },
     "execution_count": 23,
     "metadata": {},
     "output_type": "execute_result"
    }
   ],
   "source": [
    "max_label_len = max([len(str(text)) for text in merged_text_labels])\n",
    "max_label_len"
   ]
  },
  {
   "cell_type": "code",
   "execution_count": 24,
   "id": "af1774e4",
   "metadata": {},
   "outputs": [],
   "source": [
    "char_to_num = layers.StringLookup(\n",
    "    vocabulary=list(char_list),\n",
    "    mask_token=None,\n",
    "    oov_token=None  # disables [UNK]\n",
    ")"
   ]
  },
  {
   "cell_type": "code",
   "execution_count": 25,
   "id": "bc36092b",
   "metadata": {},
   "outputs": [],
   "source": [
    "num_to_char = layers.StringLookup(\n",
    "    vocabulary=list(char_list),\n",
    "    mask_token=None,\n",
    "    oov_token=\"*\" ,   # Dummy string just to keep Keras happy\n",
    "    invert=True\n",
    ")"
   ]
  },
  {
   "cell_type": "code",
   "execution_count": 26,
   "id": "8abb3608",
   "metadata": {},
   "outputs": [],
   "source": [
    "def split_data(images, labels, train_size=0.9, shuffle=True):\n",
    "    # 1. Get the total size of the dataset\n",
    "    size = len(images)\n",
    "    # 2. Make an indices array and shuffle it, if required\n",
    "    indices = ops.arange(size)\n",
    "    if shuffle:\n",
    "        indices = keras.random.shuffle(indices)\n",
    "    # 3. Get the size of training samples\n",
    "    train_samples = int(size * train_size)\n",
    "    # 4. Split data into training and validation sets\n",
    "    x_train, y_train = images[indices[:train_samples]], labels[indices[:train_samples]]\n",
    "    x_valid, y_valid = images[indices[train_samples:]], labels[indices[train_samples:]]\n",
    "    return x_train, x_valid, y_train, y_valid"
   ]
  },
  {
   "cell_type": "code",
   "execution_count": 27,
   "id": "377c6e95",
   "metadata": {},
   "outputs": [],
   "source": [
    "x_train, x_valid, y_train, y_valid = split_data(merged_img_paths, merged_text_labels)"
   ]
  },
  {
   "cell_type": "code",
   "execution_count": 28,
   "id": "ab43f02f",
   "metadata": {},
   "outputs": [],
   "source": [
    "img_height=56\n",
    "img_width=224"
   ]
  },
  {
   "cell_type": "code",
   "execution_count": 29,
   "id": "bdfcf17c",
   "metadata": {},
   "outputs": [
    {
     "data": {
      "text/plain": [
       "' def encode_single_sample(img_path, label):\\n    img = cv2.imread(img_path, cv2.IMREAD_GRAYSCALE)\\n\\n    # 3. Otsu threshold to detect background vs text\\n    _, thresh = cv2.threshold(img.squeeze(), 0, 255, cv2.THRESH_BINARY + cv2.THRESH_OTSU)\\n\\n    # 4. Count white vs black pixels\\n    white = np.sum(thresh == 255)\\n    black = np.sum(thresh == 0)\\n\\n    # 5. If background is dark (more black than white), invert\\n    if black > white:\\n        img = cv2.bitwise_not(img)\\n\\n    # 6. Resize and normalize\\n    img = cv2.resize(img, (112, 28), interpolation=cv2.INTER_LINEAR)\\n    img = img.astype(np.float32) / 255.0\\n\\n    # 7. Add channel dimension and apply Gaussian blur\\n    img = np.expand_dims(img, axis=-1)\\n    blur = cv2.GaussianBlur(img, (1,1), 0)\\n    _, binary_img = cv2.threshold(blur, 0, 255, cv2.THRESH_BINARY + cv2.THRESH_OTSU)\\n\\n    # 8. Final normalization and shape adjustment\\n    img = binary_img.astype(np.float32) / 255.0\\n    img = np.expand_dims(img, axis=-1)\\n    img = tf.convert_to_tensor(img, dtype=tf.float32)\\n    img = ops.transpose(img, axes=[1, 0, 2])\\n\\n    # 9. Convert label\\n    label = char_to_num(tf.strings.unicode_split(label, input_encoding=\"UTF-8\"))\\n\\n    return {\"image\": img, \"label\": label} '"
      ]
     },
     "execution_count": 29,
     "metadata": {},
     "output_type": "execute_result"
    }
   ],
   "source": [
    "\"\"\" def encode_single_sample(img_path, label):\n",
    "    # 1. Read image\n",
    "    img = tf.io.read_file(img_path)\n",
    "    # 2. Decode and convert to grayscale\n",
    "    img = tf.io.decode_png(img, channels=1)\n",
    "    # 3. Convert to float32 in [0, 1] range\n",
    "    img = tf.image.convert_image_dtype(img, tf.float32)\n",
    "    # 4. Resize to the desired size\n",
    "    img = ops.image.resize(img, [img_height, img_width])\n",
    "    # 5. Transpose the image because we want the time\n",
    "    # dimension to correspond to the width of the image.\n",
    "    img = ops.transpose(img, axes=[1, 0, 2])\n",
    "    # 6. Map the characters in label to numbers\n",
    "    label = char_to_num(tf.strings.unicode_split(label, input_encoding=\"UTF-8\"))\n",
    "\n",
    "    #pad_value = tf.cast(len(char_list), tf.int64)\n",
    "    #label = tf.pad(label, paddings=[[0, max_label_len - tf.shape(label)[0]]], constant_values=pad_value)\n",
    "    # 7. Return a dict as our model is expecting two inputs\n",
    "    return {\"image\": img, \"label\": label} \"\"\"\n",
    "\n",
    "\"\"\" def encode_single_sample(img_path, label):\n",
    "    img = cv2.imread(img_path, cv2.IMREAD_GRAYSCALE)\n",
    "    \n",
    "    # 3. Otsu threshold to detect background vs text\n",
    "    _, thresh = cv2.threshold(img.squeeze(), 0, 255, cv2.THRESH_BINARY + cv2.THRESH_OTSU)\n",
    "    \n",
    "    # 4. Count white vs black pixels\n",
    "    white = np.sum(thresh == 255)\n",
    "    black = np.sum(thresh == 0)\n",
    "    \n",
    "    # 5. If background is dark (more black than white), invert\n",
    "    if black > white:\n",
    "        img = cv2.bitwise_not(img)\n",
    "\n",
    "    # 6. Resize and normalize\n",
    "    img = cv2.resize(img, (112, 28), interpolation=cv2.INTER_LINEAR)\n",
    "    img = img.astype(np.float32) / 255.0\n",
    "    \n",
    "    # 7. Add channel dimension and apply Gaussian blur\n",
    "    img = np.expand_dims(img, axis=-1)\n",
    "    blur = cv2.GaussianBlur(img, (1,1), 0)\n",
    "    _, binary_img = cv2.threshold(blur, 0, 255, cv2.THRESH_BINARY + cv2.THRESH_OTSU)\n",
    "    \n",
    "    # 8. Final normalization and shape adjustment\n",
    "    img = binary_img.astype(np.float32) / 255.0\n",
    "    img = np.expand_dims(img, axis=-1)\n",
    "    img = tf.convert_to_tensor(img, dtype=tf.float32)\n",
    "    img = ops.transpose(img, axes=[1, 0, 2])\n",
    "\n",
    "    # 9. Convert label\n",
    "    label = char_to_num(tf.strings.unicode_split(label, input_encoding=\"UTF-8\"))\n",
    "\n",
    "    return {\"image\": img, \"label\": label} \"\"\""
   ]
  },
  {
   "cell_type": "code",
   "execution_count": 30,
   "id": "fecd4f9a",
   "metadata": {},
   "outputs": [],
   "source": [
    "def encode_single_sample(img_path, label):\n",
    "    img_path = img_path.numpy().decode('utf-8')\n",
    "    label = label.numpy().decode('utf-8')\n",
    "\n",
    "    img = cv2.imread(img_path, cv2.IMREAD_GRAYSCALE)\n",
    "\n",
    "    # IMPORTANT: img must be uint8 for threshold\n",
    "    _, thresh = cv2.threshold(img, 0, 255, cv2.THRESH_BINARY + cv2.THRESH_OTSU)\n",
    "    \n",
    "    white = np.sum(thresh == 255)\n",
    "    black = np.sum(thresh == 0)\n",
    "\n",
    "    if black > white:\n",
    "        img = cv2.bitwise_not(img)\n",
    "\n",
    "    img = cv2.resize(img, (224, 56), interpolation=cv2.INTER_LINEAR)\n",
    "    \n",
    "    # Only now normalize after thresholding!\n",
    "    img = img.astype(np.float32) / 255.0\n",
    "    img = np.expand_dims(img, axis=-1)\n",
    "\n",
    "    # # Apply Gaussian Blur\n",
    "    # blur = cv2.GaussianBlur(img, (1,1), 0)\n",
    "\n",
    "    # # Convert blur back to uint8 before thresholding again\n",
    "    # blur_uint8 = np.clip(blur * 255.0, 0, 255).astype(np.uint8)\n",
    "\n",
    "    # _, binary_img = cv2.threshold(blur_uint8, 0, 255, cv2.THRESH_BINARY + cv2.THRESH_OTSU)\n",
    "\n",
    "    # # Normalize final binary image\n",
    "    # img = binary_img.astype(np.float32) / 255.0\n",
    "    \n",
    "    img = tf.convert_to_tensor(img, dtype=tf.float32)\n",
    "    img = tf.transpose(img, perm=[1, 0, 2])\n",
    "\n",
    "    label = char_to_num(tf.strings.unicode_split(label, input_encoding=\"UTF-8\"))\n",
    "\n",
    "    return img, label\n",
    "\n",
    "\n",
    "\n",
    "def encode_single_sample_wrapper(img_path, label):\n",
    "    img, label = tf.py_function(\n",
    "        func=encode_single_sample,\n",
    "        inp=[img_path, label],\n",
    "        Tout=[tf.float32, tf.int64]   # <-- list, not dict\n",
    "    )\n",
    "    \n",
    "    # You must set shapes manually because tf.py_function loses shape information\n",
    "    img.set_shape([28, 112, 1])\n",
    "    label.set_shape([None])  # variable length label\n",
    "\n",
    "    return {\"image\": img, \"label\": label}\n",
    "\n"
   ]
  },
  {
   "cell_type": "code",
   "execution_count": 31,
   "id": "4756727f",
   "metadata": {},
   "outputs": [],
   "source": [
    "\"\"\" batch_size = 100\n",
    "\n",
    "train_dataset = tf.data.Dataset.from_tensor_slices((x_train, y_train))\n",
    "train_dataset = (\n",
    "    train_dataset.map(encode_single_sample, num_parallel_calls=tf.data.AUTOTUNE)\n",
    "    .batch(batch_size)\n",
    "    .prefetch(buffer_size=tf.data.AUTOTUNE)\n",
    ")\n",
    "\n",
    "validation_dataset = tf.data.Dataset.from_tensor_slices((x_valid, y_valid))\n",
    "validation_dataset = (\n",
    "    validation_dataset.map(encode_single_sample, num_parallel_calls=tf.data.AUTOTUNE)\n",
    "    .batch(batch_size)\n",
    "    .prefetch(buffer_size=tf.data.AUTOTUNE)\n",
    ")\n",
    " \"\"\"\n",
    "batch_size = 100\n",
    "\n",
    "train_dataset = tf.data.Dataset.from_tensor_slices((x_train, y_train))\n",
    "train_dataset = (\n",
    "    train_dataset\n",
    "    .map(encode_single_sample_wrapper, num_parallel_calls=tf.data.AUTOTUNE)\n",
    "    .padded_batch(batch_size, \n",
    "        padded_shapes={\"image\": [None, None, 1], \"label\": [None]},\n",
    "        padding_values={\"image\": 0.0, \"label\": tf.cast(len(char_to_num.get_vocabulary()), tf.int64)})\n",
    "    .prefetch(buffer_size=tf.data.AUTOTUNE)\n",
    ")\n",
    "\n",
    "validation_dataset = tf.data.Dataset.from_tensor_slices((x_valid, y_valid))\n",
    "validation_dataset = (\n",
    "    validation_dataset\n",
    "    .map(encode_single_sample_wrapper, num_parallel_calls=tf.data.AUTOTUNE)\n",
    "    .padded_batch(batch_size, \n",
    "        padded_shapes={\"image\": [None, None, 1], \"label\": [None]},\n",
    "        padding_values={\"image\": 0.0, \"label\": tf.cast(len(char_to_num.get_vocabulary()), tf.int64)})\n",
    "    .prefetch(buffer_size=tf.data.AUTOTUNE)\n",
    ")\n"
   ]
  },
  {
   "cell_type": "code",
   "execution_count": 32,
   "id": "0efd065a",
   "metadata": {},
   "outputs": [
    {
     "data": {
      "image/png": "[encoded data removed]",
      "text/plain": [
       "<Figure size 1000x500 with 16 Axes>"
      ]
     },
     "metadata": {},
     "output_type": "display_data"
    }
   ],
   "source": [
    "_, ax = plt.subplots(4, 4, figsize=(10, 5))\n",
    "for batch in validation_dataset.take(2):\n",
    "    images = batch[\"image\"]\n",
    "    labels = batch[\"label\"]\n",
    "    for i in range(16):\n",
    "        img = (images[i] * 255).numpy().astype(\"uint8\")\n",
    "        label = tf.strings.reduce_join(num_to_char(labels[i])).numpy().decode(\"utf-8\")\n",
    "        #label = labels[i]\n",
    "        #print(len(label), label)\n",
    "        ax[i // 4, i % 4].imshow(img[:, :, 0].T, cmap=\"gray\")\n",
    "        ax[i // 4, i % 4].set_title(label)\n",
    "        ax[i // 4, i % 4].axis(\"off\")\n",
    "plt.show()"
   ]
  },
  {
   "cell_type": "markdown",
   "id": "f5b1a5de",
   "metadata": {},
   "source": [
    "# **Model**"
   ]
  },
  {
   "cell_type": "code",
   "execution_count": 33,
   "id": "1d34cf1a",
   "metadata": {},
   "outputs": [],
   "source": [
    "def ctc_label_dense_to_sparse(labels, label_lengths):\n",
    "    label_shape = ops.shape(labels)\n",
    "    num_batches_tns = ops.stack([label_shape[0]])\n",
    "    max_num_labels_tns = ops.stack([label_shape[1]])\n",
    "\n",
    "    def range_less_than(old_input, current_input):\n",
    "        return ops.expand_dims(ops.arange(ops.shape(old_input)[1]), 0) < tf.fill(\n",
    "            max_num_labels_tns, current_input\n",
    "        )\n",
    "\n",
    "    init = ops.cast(tf.fill([1, label_shape[1]], 0), dtype=\"bool\")\n",
    "    dense_mask = tf.compat.v1.scan(\n",
    "        range_less_than, label_lengths, initializer=init, parallel_iterations=1\n",
    "    )\n",
    "    dense_mask = dense_mask[:, 0, :]\n",
    "\n",
    "    label_array = ops.reshape(\n",
    "        ops.tile(ops.arange(0, label_shape[1]), num_batches_tns), label_shape\n",
    "    )\n",
    "    label_ind = tf.compat.v1.boolean_mask(label_array, dense_mask)\n",
    "\n",
    "    batch_array = ops.transpose(\n",
    "        ops.reshape(\n",
    "            ops.tile(ops.arange(0, label_shape[0]), max_num_labels_tns),\n",
    "            tf.reverse(label_shape, [0]),\n",
    "        )\n",
    "    )\n",
    "    batch_ind = tf.compat.v1.boolean_mask(batch_array, dense_mask)\n",
    "    indices = ops.transpose(\n",
    "        ops.reshape(ops.concatenate([batch_ind, label_ind], axis=0), [2, -1])\n",
    "    )\n",
    "\n",
    "    vals_sparse = tf.compat.v1.gather_nd(labels, indices)\n",
    "\n",
    "    return tf.SparseTensor(\n",
    "        ops.cast(indices, dtype=\"int64\"), \n",
    "        vals_sparse, \n",
    "        ops.cast(label_shape, dtype=\"int64\")\n",
    "    )\n"
   ]
  },
  {
   "cell_type": "code",
   "execution_count": 34,
   "id": "5f054a36",
   "metadata": {},
   "outputs": [],
   "source": [
    "\"\"\" def ctc_batch_cost(y_true, y_pred, input_length, label_length):\n",
    "    label_length = ops.cast(ops.squeeze(label_length, axis=-1), dtype=\"int32\")\n",
    "    input_length = ops.cast(ops.squeeze(input_length, axis=-1), dtype=\"int32\")\n",
    "    sparse_labels = ops.cast(\n",
    "        ctc_label_dense_to_sparse(y_true, label_length), dtype=\"int32\"\n",
    "    )\n",
    "\n",
    "    y_pred = ops.log(ops.transpose(y_pred, axes=[1, 0, 2]) + keras.backend.epsilon())\n",
    "\n",
    "    return ops.expand_dims(\n",
    "        tf.compat.v1.nn.ctc_loss(\n",
    "            inputs=y_pred, labels=sparse_labels, sequence_length=input_length\n",
    "        ),\n",
    "        1,\n",
    "    ) \"\"\"\n",
    "\n",
    "def ctc_batch_cost(y_true, y_pred, input_length, label_length, blank_index=63, blank_penalty_weight=0.4):\n",
    "    \"\"\"\n",
    "    Compute CTC loss with an additional penalty for blank index probability.\n",
    "    \n",
    "    Args:\n",
    "        y_true: Ground truth labels, shape [batch, max_label_len].\n",
    "        y_pred: Predicted logits, shape [batch, max_timesteps, num_classes].\n",
    "        input_length: Length of input sequences, shape [batch].\n",
    "        label_length: Length of label sequences, shape [batch].\n",
    "        blank_index: Index of the blank label (default: 63).\n",
    "        blank_penalty_weight: Weight for the blank probability penalty (default: 0.1).\n",
    "    \n",
    "    Returns:\n",
    "        CTC loss with blank penalty, shape [batch, 1].\n",
    "    \"\"\"\n",
    "    # Cast and squeeze input/label lengths\n",
    "    label_length = ops.cast(ops.squeeze(label_length, axis=-1), dtype=\"int32\")\n",
    "    input_length = ops.cast(ops.squeeze(input_length, axis=-1), dtype=\"int32\")\n",
    "\n",
    "    # Convert dense labels to sparse format\n",
    "    sparse_labels = ops.cast(\n",
    "        ctc_label_dense_to_sparse(y_true, label_length), dtype=\"int32\"\n",
    "    )\n",
    "\n",
    "    # Transpose y_pred to [time, batch, classes] and apply log with epsilon for stability\n",
    "    y_pred_log = ops.log(ops.transpose(y_pred, axes=[1, 0, 2]) + keras.backend.epsilon())\n",
    "\n",
    "    # Compute standard CTC loss\n",
    "    ctc_loss = tf.compat.v1.nn.ctc_loss(\n",
    "        inputs=y_pred_log,\n",
    "        labels=sparse_labels,\n",
    "        sequence_length=input_length\n",
    "    )\n",
    "\n",
    "    # Compute blank probability penalty\n",
    "    # y_pred has shape [batch, max_timesteps, num_classes], get blank index probabilities\n",
    "    blank_prob = tf.reduce_mean(y_pred[:, :, blank_index])\n",
    "\n",
    "    # Combine CTC loss with blank penalty\n",
    "    total_loss = ctc_loss + blank_penalty_weight * blank_prob\n",
    "\n",
    "    # Return loss with expanded dimensions\n",
    "    return ops.expand_dims(total_loss, 1)"
   ]
  },
  {
   "cell_type": "code",
   "execution_count": 35,
   "id": "940b379c",
   "metadata": {},
   "outputs": [],
   "source": [
    "class CTCLayer(layers.Layer):\n",
    "    def __init__(self, name=None):\n",
    "        super().__init__(name=name)\n",
    "        self.loss_fn = ctc_batch_cost\n",
    "\n",
    "    def call(self, y_true, y_pred):\n",
    "        # Compute the training-time loss value and add it\n",
    "        # to the layer using `self.add_loss()`.\n",
    "        batch_len = ops.cast(ops.shape(y_true)[0], dtype=\"int64\")\n",
    "        input_length = ops.cast(ops.shape(y_pred)[1], dtype=\"int64\")\n",
    "        label_length = ops.cast(ops.shape(y_true)[1], dtype=\"int64\")\n",
    "\n",
    "        input_length = input_length * ops.ones(shape=(batch_len, 1), dtype=\"int64\")\n",
    "        label_length = label_length * ops.ones(shape=(batch_len, 1), dtype=\"int64\")\n",
    "\n",
    "        loss = self.loss_fn(y_true, y_pred, input_length, label_length)\n",
    "        self.add_loss(loss)\n",
    "\n",
    "        # At test time, just return the computed predictions\n",
    "        return y_pred"
   ]
  },
  {
   "cell_type": "code",
   "execution_count": null,
   "id": "ca3dc043",
   "metadata": {},
   "outputs": [],
   "source": [
    "def build_model():\n",
    "    # Inputs to the model\n",
    "    input_img = layers.Input(\n",
    "        shape=(img_width, img_height, 1), name=\"image\", dtype=\"float32\"\n",
    "    )\n",
    "    labels = layers.Input(name=\"label\", shape=(None,), dtype=\"float32\")\n",
    "\n",
    "    # First conv block\n",
    "    x = layers.Conv2D(\n",
    "        32,\n",
    "        (3, 3),\n",
    "        activation=\"relu\",\n",
    "        kernel_initializer=\"he_normal\",\n",
    "        padding=\"same\",\n",
    "        name=\"Conv1\",\n",
    "    )(input_img)\n",
    "    x = layers.MaxPooling2D((2, 2), name=\"pool1\")(x)\n",
    "\n",
    "    # Second conv block\n",
    "    x = layers.Conv2D(\n",
    "        64,\n",
    "        (3, 3),\n",
    "        activation=\"relu\",\n",
    "        kernel_initializer=\"he_normal\",\n",
    "        padding=\"same\",\n",
    "        name=\"Conv2\",\n",
    "    )(x)\n",
    "    x = layers.MaxPooling2D((2, 2), name=\"pool2\")(x)\n",
    "\n",
    "    # Third conv block\n",
    "    x = layers.Conv2D(\n",
    "        64,\n",
    "        (3, 3),\n",
    "        activation=\"relu\",\n",
    "        kernel_initializer=\"he_normal\",\n",
    "        padding=\"same\",\n",
    "        name=\"Conv3\",\n",
    "    )(x)\n",
    "    x = layers.MaxPooling2D((2, 2), name=\"pool3\")(x)\n",
    "\n",
    "    # Fourth conv block\n",
    "    x = layers.Conv2D(\n",
    "        64,\n",
    "        (3, 3),\n",
    "        activation=\"relu\",\n",
    "        kernel_initializer=\"he_normal\",\n",
    "        padding=\"same\",\n",
    "        name=\"Conv4\",\n",
    "    )(x)\n",
    "    x = layers.MaxPooling2D((2, 2), name=\"pool4\")(x)\n",
    "\n",
    "    # We have used two max pool with pool size and strides 2.\n",
    "    # Hence, downsampled feature maps are 16x smaller. The number of\n",
    "    # filters in the last layer is 64. Reshape accordingly before\n",
    "    # passing the output to the RNN part of the model\n",
    "    new_shape = ((img_width // 16), (img_height // 16) * 64)\n",
    "    #new_shape = ((img_width // 4), (img_height // 4) * 64)\n",
    "    x = layers.Reshape(target_shape=new_shape, name=\"reshape\")(x)\n",
    "    x = layers.Dense(64, activation=\"relu\", name=\"dense1\")(x)\n",
    "    x = layers.Dropout(0.2)(x)\n",
    "\n",
    "    # RNNs\n",
    "    x = layers.Bidirectional(layers.LSTM(128, return_sequences=True, dropout=0.25))(x)\n",
    "    x = layers.Bidirectional(layers.LSTM(64, return_sequences=True, dropout=0.25))(x)\n",
    "\n",
    "    # Output layer\n",
    "    x = layers.Dense(\n",
    "        len(char_to_num.get_vocabulary()) + 1, activation=\"softmax\", name=\"dense2\"\n",
    "    )(x)\n",
    "\n",
    "    # Add CTC layer for calculating CTC loss at each step\n",
    "    output = CTCLayer(name=\"ctc_loss\")(labels, x)\n",
    "\n",
    "    # Define the model\n",
    "    model = keras.models.Model(\n",
    "        inputs=[input_img, labels], outputs=output, name=\"ocr_model_v1\"\n",
    "    )\n",
    "    # Optimizer\n",
    "    opt = keras.optimizers.Adam()\n",
    "    # Compile the model and return\n",
    "    model.compile(optimizer=opt)\n",
    "    return model"
   ]
  },
  {
   "cell_type": "code",
   "execution_count": 39,
   "id": "a733770a",
   "metadata": {},
   "outputs": [
    {
     "data": {
      "text/html": [
       "<pre style=\"white-space:pre;overflow-x:auto;line-height:normal;font-family:Menlo,'DejaVu Sans Mono',consolas,'Courier New',monospace\"><span style=\"font-weight: bold\">Model: \"ocr_model_v1\"</span>\n",
       "</pre>\n"
      ],
      "text/plain": [
       "\u001b[1mModel: \"ocr_model_v1\"\u001b[0m\n"
      ]
     },
     "metadata": {},
     "output_type": "display_data"
    },
    {
     "data": {
      "text/html": [
       "<pre style=\"white-space:pre;overflow-x:auto;line-height:normal;font-family:Menlo,'DejaVu Sans Mono',consolas,'Courier New',monospace\">┏━━━━━━━━━━━━━━━━━━━━━┳━━━━━━━━━━━━━━━━━━━┳━━━━━━━━━━━━┳━━━━━━━━━━━━━━━━━━━┓\n",
       "┃<span style=\"font-weight: bold\"> Layer (type)        </span>┃<span style=\"font-weight: bold\"> Output Shape      </span>┃<span style=\"font-weight: bold\">    Param # </span>┃<span style=\"font-weight: bold\"> Connected to      </span>┃\n",
       "┡━━━━━━━━━━━━━━━━━━━━━╇━━━━━━━━━━━━━━━━━━━╇━━━━━━━━━━━━╇━━━━━━━━━━━━━━━━━━━┩\n",
       "│ image (<span style=\"color: #0087ff; text-decoration-color: #0087ff\">InputLayer</span>)  │ (<span style=\"color: #00d7ff; text-decoration-color: #00d7ff\">None</span>, <span style=\"color: #00af00; text-decoration-color: #00af00\">224</span>, <span style=\"color: #00af00; text-decoration-color: #00af00\">56</span>,   │          <span style=\"color: #00af00; text-decoration-color: #00af00\">0</span> │ -                 │\n",
       "│                     │ <span style=\"color: #00af00; text-decoration-color: #00af00\">1</span>)                │            │                   │\n",
       "├─────────────────────┼───────────────────┼────────────┼───────────────────┤\n",
       "│ Conv1 (<span style=\"color: #0087ff; text-decoration-color: #0087ff\">Conv2D</span>)      │ (<span style=\"color: #00d7ff; text-decoration-color: #00d7ff\">None</span>, <span style=\"color: #00af00; text-decoration-color: #00af00\">224</span>, <span style=\"color: #00af00; text-decoration-color: #00af00\">56</span>,   │        <span style=\"color: #00af00; text-decoration-color: #00af00\">320</span> │ image[<span style=\"color: #00af00; text-decoration-color: #00af00\">0</span>][<span style=\"color: #00af00; text-decoration-color: #00af00\">0</span>]       │\n",
       "│                     │ <span style=\"color: #00af00; text-decoration-color: #00af00\">32</span>)               │            │                   │\n",
       "├─────────────────────┼───────────────────┼────────────┼───────────────────┤\n",
       "│ pool1               │ (<span style=\"color: #00d7ff; text-decoration-color: #00d7ff\">None</span>, <span style=\"color: #00af00; text-decoration-color: #00af00\">112</span>, <span style=\"color: #00af00; text-decoration-color: #00af00\">28</span>,   │          <span style=\"color: #00af00; text-decoration-color: #00af00\">0</span> │ Conv1[<span style=\"color: #00af00; text-decoration-color: #00af00\">0</span>][<span style=\"color: #00af00; text-decoration-color: #00af00\">0</span>]       │\n",
       "│ (<span style=\"color: #0087ff; text-decoration-color: #0087ff\">MaxPooling2D</span>)      │ <span style=\"color: #00af00; text-decoration-color: #00af00\">32</span>)               │            │                   │\n",
       "├─────────────────────┼───────────────────┼────────────┼───────────────────┤\n",
       "│ Conv2 (<span style=\"color: #0087ff; text-decoration-color: #0087ff\">Conv2D</span>)      │ (<span style=\"color: #00d7ff; text-decoration-color: #00d7ff\">None</span>, <span style=\"color: #00af00; text-decoration-color: #00af00\">112</span>, <span style=\"color: #00af00; text-decoration-color: #00af00\">28</span>,   │     <span style=\"color: #00af00; text-decoration-color: #00af00\">18,496</span> │ pool1[<span style=\"color: #00af00; text-decoration-color: #00af00\">0</span>][<span style=\"color: #00af00; text-decoration-color: #00af00\">0</span>]       │\n",
       "│                     │ <span style=\"color: #00af00; text-decoration-color: #00af00\">64</span>)               │            │                   │\n",
       "├─────────────────────┼───────────────────┼────────────┼───────────────────┤\n",
       "│ pool2               │ (<span style=\"color: #00d7ff; text-decoration-color: #00d7ff\">None</span>, <span style=\"color: #00af00; text-decoration-color: #00af00\">56</span>, <span style=\"color: #00af00; text-decoration-color: #00af00\">14</span>,    │          <span style=\"color: #00af00; text-decoration-color: #00af00\">0</span> │ Conv2[<span style=\"color: #00af00; text-decoration-color: #00af00\">0</span>][<span style=\"color: #00af00; text-decoration-color: #00af00\">0</span>]       │\n",
       "│ (<span style=\"color: #0087ff; text-decoration-color: #0087ff\">MaxPooling2D</span>)      │ <span style=\"color: #00af00; text-decoration-color: #00af00\">64</span>)               │            │                   │\n",
       "├─────────────────────┼───────────────────┼────────────┼───────────────────┤\n",
       "│ Conv3 (<span style=\"color: #0087ff; text-decoration-color: #0087ff\">Conv2D</span>)      │ (<span style=\"color: #00d7ff; text-decoration-color: #00d7ff\">None</span>, <span style=\"color: #00af00; text-decoration-color: #00af00\">56</span>, <span style=\"color: #00af00; text-decoration-color: #00af00\">14</span>,    │     <span style=\"color: #00af00; text-decoration-color: #00af00\">36,928</span> │ pool2[<span style=\"color: #00af00; text-decoration-color: #00af00\">0</span>][<span style=\"color: #00af00; text-decoration-color: #00af00\">0</span>]       │\n",
       "│                     │ <span style=\"color: #00af00; text-decoration-color: #00af00\">64</span>)               │            │                   │\n",
       "├─────────────────────┼───────────────────┼────────────┼───────────────────┤\n",
       "│ pool3               │ (<span style=\"color: #00d7ff; text-decoration-color: #00d7ff\">None</span>, <span style=\"color: #00af00; text-decoration-color: #00af00\">28</span>, <span style=\"color: #00af00; text-decoration-color: #00af00\">7</span>, <span style=\"color: #00af00; text-decoration-color: #00af00\">64</span>) │          <span style=\"color: #00af00; text-decoration-color: #00af00\">0</span> │ Conv3[<span style=\"color: #00af00; text-decoration-color: #00af00\">0</span>][<span style=\"color: #00af00; text-decoration-color: #00af00\">0</span>]       │\n",
       "│ (<span style=\"color: #0087ff; text-decoration-color: #0087ff\">MaxPooling2D</span>)      │                   │            │                   │\n",
       "├─────────────────────┼───────────────────┼────────────┼───────────────────┤\n",
       "│ Conv4 (<span style=\"color: #0087ff; text-decoration-color: #0087ff\">Conv2D</span>)      │ (<span style=\"color: #00d7ff; text-decoration-color: #00d7ff\">None</span>, <span style=\"color: #00af00; text-decoration-color: #00af00\">28</span>, <span style=\"color: #00af00; text-decoration-color: #00af00\">7</span>, <span style=\"color: #00af00; text-decoration-color: #00af00\">64</span>) │     <span style=\"color: #00af00; text-decoration-color: #00af00\">36,928</span> │ pool3[<span style=\"color: #00af00; text-decoration-color: #00af00\">0</span>][<span style=\"color: #00af00; text-decoration-color: #00af00\">0</span>]       │\n",
       "├─────────────────────┼───────────────────┼────────────┼───────────────────┤\n",
       "│ pool4               │ (<span style=\"color: #00d7ff; text-decoration-color: #00d7ff\">None</span>, <span style=\"color: #00af00; text-decoration-color: #00af00\">14</span>, <span style=\"color: #00af00; text-decoration-color: #00af00\">3</span>, <span style=\"color: #00af00; text-decoration-color: #00af00\">64</span>) │          <span style=\"color: #00af00; text-decoration-color: #00af00\">0</span> │ Conv4[<span style=\"color: #00af00; text-decoration-color: #00af00\">0</span>][<span style=\"color: #00af00; text-decoration-color: #00af00\">0</span>]       │\n",
       "│ (<span style=\"color: #0087ff; text-decoration-color: #0087ff\">MaxPooling2D</span>)      │                   │            │                   │\n",
       "├─────────────────────┼───────────────────┼────────────┼───────────────────┤\n",
       "│ reshape (<span style=\"color: #0087ff; text-decoration-color: #0087ff\">Reshape</span>)   │ (<span style=\"color: #00d7ff; text-decoration-color: #00d7ff\">None</span>, <span style=\"color: #00af00; text-decoration-color: #00af00\">14</span>, <span style=\"color: #00af00; text-decoration-color: #00af00\">192</span>)   │          <span style=\"color: #00af00; text-decoration-color: #00af00\">0</span> │ pool4[<span style=\"color: #00af00; text-decoration-color: #00af00\">0</span>][<span style=\"color: #00af00; text-decoration-color: #00af00\">0</span>]       │\n",
       "├─────────────────────┼───────────────────┼────────────┼───────────────────┤\n",
       "│ dense1 (<span style=\"color: #0087ff; text-decoration-color: #0087ff\">Dense</span>)      │ (<span style=\"color: #00d7ff; text-decoration-color: #00d7ff\">None</span>, <span style=\"color: #00af00; text-decoration-color: #00af00\">14</span>, <span style=\"color: #00af00; text-decoration-color: #00af00\">64</span>)    │     <span style=\"color: #00af00; text-decoration-color: #00af00\">12,352</span> │ reshape[<span style=\"color: #00af00; text-decoration-color: #00af00\">0</span>][<span style=\"color: #00af00; text-decoration-color: #00af00\">0</span>]     │\n",
       "├─────────────────────┼───────────────────┼────────────┼───────────────────┤\n",
       "│ dropout_1 (<span style=\"color: #0087ff; text-decoration-color: #0087ff\">Dropout</span>) │ (<span style=\"color: #00d7ff; text-decoration-color: #00d7ff\">None</span>, <span style=\"color: #00af00; text-decoration-color: #00af00\">14</span>, <span style=\"color: #00af00; text-decoration-color: #00af00\">64</span>)    │          <span style=\"color: #00af00; text-decoration-color: #00af00\">0</span> │ dense1[<span style=\"color: #00af00; text-decoration-color: #00af00\">0</span>][<span style=\"color: #00af00; text-decoration-color: #00af00\">0</span>]      │\n",
       "├─────────────────────┼───────────────────┼────────────┼───────────────────┤\n",
       "│ bidirectional_2     │ (<span style=\"color: #00d7ff; text-decoration-color: #00d7ff\">None</span>, <span style=\"color: #00af00; text-decoration-color: #00af00\">14</span>, <span style=\"color: #00af00; text-decoration-color: #00af00\">256</span>)   │    <span style=\"color: #00af00; text-decoration-color: #00af00\">197,632</span> │ dropout_1[<span style=\"color: #00af00; text-decoration-color: #00af00\">0</span>][<span style=\"color: #00af00; text-decoration-color: #00af00\">0</span>]   │\n",
       "│ (<span style=\"color: #0087ff; text-decoration-color: #0087ff\">Bidirectional</span>)     │                   │            │                   │\n",
       "├─────────────────────┼───────────────────┼────────────┼───────────────────┤\n",
       "│ bidirectional_3     │ (<span style=\"color: #00d7ff; text-decoration-color: #00d7ff\">None</span>, <span style=\"color: #00af00; text-decoration-color: #00af00\">14</span>, <span style=\"color: #00af00; text-decoration-color: #00af00\">128</span>)   │    <span style=\"color: #00af00; text-decoration-color: #00af00\">164,352</span> │ bidirectional_2[<span style=\"color: #00af00; text-decoration-color: #00af00\">…</span> │\n",
       "│ (<span style=\"color: #0087ff; text-decoration-color: #0087ff\">Bidirectional</span>)     │                   │            │                   │\n",
       "├─────────────────────┼───────────────────┼────────────┼───────────────────┤\n",
       "│ label (<span style=\"color: #0087ff; text-decoration-color: #0087ff\">InputLayer</span>)  │ (<span style=\"color: #00d7ff; text-decoration-color: #00d7ff\">None</span>, <span style=\"color: #00d7ff; text-decoration-color: #00d7ff\">None</span>)      │          <span style=\"color: #00af00; text-decoration-color: #00af00\">0</span> │ -                 │\n",
       "├─────────────────────┼───────────────────┼────────────┼───────────────────┤\n",
       "│ dense2 (<span style=\"color: #0087ff; text-decoration-color: #0087ff\">Dense</span>)      │ (<span style=\"color: #00d7ff; text-decoration-color: #00d7ff\">None</span>, <span style=\"color: #00af00; text-decoration-color: #00af00\">14</span>, <span style=\"color: #00af00; text-decoration-color: #00af00\">64</span>)    │      <span style=\"color: #00af00; text-decoration-color: #00af00\">8,256</span> │ bidirectional_3[<span style=\"color: #00af00; text-decoration-color: #00af00\">…</span> │\n",
       "├─────────────────────┼───────────────────┼────────────┼───────────────────┤\n",
       "│ ctc_loss (<span style=\"color: #0087ff; text-decoration-color: #0087ff\">CTCLayer</span>) │ (<span style=\"color: #00d7ff; text-decoration-color: #00d7ff\">None</span>, <span style=\"color: #00af00; text-decoration-color: #00af00\">14</span>, <span style=\"color: #00af00; text-decoration-color: #00af00\">64</span>)    │          <span style=\"color: #00af00; text-decoration-color: #00af00\">0</span> │ label[<span style=\"color: #00af00; text-decoration-color: #00af00\">0</span>][<span style=\"color: #00af00; text-decoration-color: #00af00\">0</span>],      │\n",
       "│                     │                   │            │ dense2[<span style=\"color: #00af00; text-decoration-color: #00af00\">0</span>][<span style=\"color: #00af00; text-decoration-color: #00af00\">0</span>]      │\n",
       "└─────────────────────┴───────────────────┴────────────┴───────────────────┘\n",
       "</pre>\n"
      ],
      "text/plain": [
       "┏━━━━━━━━━━━━━━━━━━━━━┳━━━━━━━━━━━━━━━━━━━┳━━━━━━━━━━━━┳━━━━━━━━━━━━━━━━━━━┓\n",
       "┃\u001b[1m \u001b[0m\u001b[1mLayer (type)       \u001b[0m\u001b[1m \u001b[0m┃\u001b[1m \u001b[0m\u001b[1mOutput Shape     \u001b[0m\u001b[1m \u001b[0m┃\u001b[1m \u001b[0m\u001b[1m   Param #\u001b[0m\u001b[1m \u001b[0m┃\u001b[1m \u001b[0m\u001b[1mConnected to     \u001b[0m\u001b[1m \u001b[0m┃\n",
       "┡━━━━━━━━━━━━━━━━━━━━━╇━━━━━━━━━━━━━━━━━━━╇━━━━━━━━━━━━╇━━━━━━━━━━━━━━━━━━━┩\n",
       "│ image (\u001b[38;5;33mInputLayer\u001b[0m)  │ (\u001b[38;5;45mNone\u001b[0m, \u001b[38;5;34m224\u001b[0m, \u001b[38;5;34m56\u001b[0m,   │          \u001b[38;5;34m0\u001b[0m │ -                 │\n",
       "│                     │ \u001b[38;5;34m1\u001b[0m)                │            │                   │\n",
       "├─────────────────────┼───────────────────┼────────────┼───────────────────┤\n",
       "│ Conv1 (\u001b[38;5;33mConv2D\u001b[0m)      │ (\u001b[38;5;45mNone\u001b[0m, \u001b[38;5;34m224\u001b[0m, \u001b[38;5;34m56\u001b[0m,   │        \u001b[38;5;34m320\u001b[0m │ image[\u001b[38;5;34m0\u001b[0m][\u001b[38;5;34m0\u001b[0m]       │\n",
       "│                     │ \u001b[38;5;34m32\u001b[0m)               │            │                   │\n",
       "├─────────────────────┼───────────────────┼────────────┼───────────────────┤\n",
       "│ pool1               │ (\u001b[38;5;45mNone\u001b[0m, \u001b[38;5;34m112\u001b[0m, \u001b[38;5;34m28\u001b[0m,   │          \u001b[38;5;34m0\u001b[0m │ Conv1[\u001b[38;5;34m0\u001b[0m][\u001b[38;5;34m0\u001b[0m]       │\n",
       "│ (\u001b[38;5;33mMaxPooling2D\u001b[0m)      │ \u001b[38;5;34m32\u001b[0m)               │            │                   │\n",
       "├─────────────────────┼───────────────────┼────────────┼───────────────────┤\n",
       "│ Conv2 (\u001b[38;5;33mConv2D\u001b[0m)      │ (\u001b[38;5;45mNone\u001b[0m, \u001b[38;5;34m112\u001b[0m, \u001b[38;5;34m28\u001b[0m,   │     \u001b[38;5;34m18,496\u001b[0m │ pool1[\u001b[38;5;34m0\u001b[0m][\u001b[38;5;34m0\u001b[0m]       │\n",
       "│                     │ \u001b[38;5;34m64\u001b[0m)               │            │                   │\n",
       "├─────────────────────┼───────────────────┼────────────┼───────────────────┤\n",
       "│ pool2               │ (\u001b[38;5;45mNone\u001b[0m, \u001b[38;5;34m56\u001b[0m, \u001b[38;5;34m14\u001b[0m,    │          \u001b[38;5;34m0\u001b[0m │ Conv2[\u001b[38;5;34m0\u001b[0m][\u001b[38;5;34m0\u001b[0m]       │\n",
       "│ (\u001b[38;5;33mMaxPooling2D\u001b[0m)      │ \u001b[38;5;34m64\u001b[0m)               │            │                   │\n",
       "├─────────────────────┼───────────────────┼────────────┼───────────────────┤\n",
       "│ Conv3 (\u001b[38;5;33mConv2D\u001b[0m)      │ (\u001b[38;5;45mNone\u001b[0m, \u001b[38;5;34m56\u001b[0m, \u001b[38;5;34m14\u001b[0m,    │     \u001b[38;5;34m36,928\u001b[0m │ pool2[\u001b[38;5;34m0\u001b[0m][\u001b[38;5;34m0\u001b[0m]       │\n",
       "│                     │ \u001b[38;5;34m64\u001b[0m)               │            │                   │\n",
       "├─────────────────────┼───────────────────┼────────────┼───────────────────┤\n",
       "│ pool3               │ (\u001b[38;5;45mNone\u001b[0m, \u001b[38;5;34m28\u001b[0m, \u001b[38;5;34m7\u001b[0m, \u001b[38;5;34m64\u001b[0m) │          \u001b[38;5;34m0\u001b[0m │ Conv3[\u001b[38;5;34m0\u001b[0m][\u001b[38;5;34m0\u001b[0m]       │\n",
       "│ (\u001b[38;5;33mMaxPooling2D\u001b[0m)      │                   │            │                   │\n",
       "├─────────────────────┼───────────────────┼────────────┼───────────────────┤\n",
       "│ Conv4 (\u001b[38;5;33mConv2D\u001b[0m)      │ (\u001b[38;5;45mNone\u001b[0m, \u001b[38;5;34m28\u001b[0m, \u001b[38;5;34m7\u001b[0m, \u001b[38;5;34m64\u001b[0m) │     \u001b[38;5;34m36,928\u001b[0m │ pool3[\u001b[38;5;34m0\u001b[0m][\u001b[38;5;34m0\u001b[0m]       │\n",
       "├─────────────────────┼───────────────────┼────────────┼───────────────────┤\n",
       "│ pool4               │ (\u001b[38;5;45mNone\u001b[0m, \u001b[38;5;34m14\u001b[0m, \u001b[38;5;34m3\u001b[0m, \u001b[38;5;34m64\u001b[0m) │          \u001b[38;5;34m0\u001b[0m │ Conv4[\u001b[38;5;34m0\u001b[0m][\u001b[38;5;34m0\u001b[0m]       │\n",
       "│ (\u001b[38;5;33mMaxPooling2D\u001b[0m)      │                   │            │                   │\n",
       "├─────────────────────┼───────────────────┼────────────┼───────────────────┤\n",
       "│ reshape (\u001b[38;5;33mReshape\u001b[0m)   │ (\u001b[38;5;45mNone\u001b[0m, \u001b[38;5;34m14\u001b[0m, \u001b[38;5;34m192\u001b[0m)   │          \u001b[38;5;34m0\u001b[0m │ pool4[\u001b[38;5;34m0\u001b[0m][\u001b[38;5;34m0\u001b[0m]       │\n",
       "├─────────────────────┼───────────────────┼────────────┼───────────────────┤\n",
       "│ dense1 (\u001b[38;5;33mDense\u001b[0m)      │ (\u001b[38;5;45mNone\u001b[0m, \u001b[38;5;34m14\u001b[0m, \u001b[38;5;34m64\u001b[0m)    │     \u001b[38;5;34m12,352\u001b[0m │ reshape[\u001b[38;5;34m0\u001b[0m][\u001b[38;5;34m0\u001b[0m]     │\n",
       "├─────────────────────┼───────────────────┼────────────┼───────────────────┤\n",
       "│ dropout_1 (\u001b[38;5;33mDropout\u001b[0m) │ (\u001b[38;5;45mNone\u001b[0m, \u001b[38;5;34m14\u001b[0m, \u001b[38;5;34m64\u001b[0m)    │          \u001b[38;5;34m0\u001b[0m │ dense1[\u001b[38;5;34m0\u001b[0m][\u001b[38;5;34m0\u001b[0m]      │\n",
       "├─────────────────────┼───────────────────┼────────────┼───────────────────┤\n",
       "│ bidirectional_2     │ (\u001b[38;5;45mNone\u001b[0m, \u001b[38;5;34m14\u001b[0m, \u001b[38;5;34m256\u001b[0m)   │    \u001b[38;5;34m197,632\u001b[0m │ dropout_1[\u001b[38;5;34m0\u001b[0m][\u001b[38;5;34m0\u001b[0m]   │\n",
       "│ (\u001b[38;5;33mBidirectional\u001b[0m)     │                   │            │                   │\n",
       "├─────────────────────┼───────────────────┼────────────┼───────────────────┤\n",
       "│ bidirectional_3     │ (\u001b[38;5;45mNone\u001b[0m, \u001b[38;5;34m14\u001b[0m, \u001b[38;5;34m128\u001b[0m)   │    \u001b[38;5;34m164,352\u001b[0m │ bidirectional_2[\u001b[38;5;34m…\u001b[0m │\n",
       "│ (\u001b[38;5;33mBidirectional\u001b[0m)     │                   │            │                   │\n",
       "├─────────────────────┼───────────────────┼────────────┼───────────────────┤\n",
       "│ label (\u001b[38;5;33mInputLayer\u001b[0m)  │ (\u001b[38;5;45mNone\u001b[0m, \u001b[38;5;45mNone\u001b[0m)      │          \u001b[38;5;34m0\u001b[0m │ -                 │\n",
       "├─────────────────────┼───────────────────┼────────────┼───────────────────┤\n",
       "│ dense2 (\u001b[38;5;33mDense\u001b[0m)      │ (\u001b[38;5;45mNone\u001b[0m, \u001b[38;5;34m14\u001b[0m, \u001b[38;5;34m64\u001b[0m)    │      \u001b[38;5;34m8,256\u001b[0m │ bidirectional_3[\u001b[38;5;34m…\u001b[0m │\n",
       "├─────────────────────┼───────────────────┼────────────┼───────────────────┤\n",
       "│ ctc_loss (\u001b[38;5;33mCTCLayer\u001b[0m) │ (\u001b[38;5;45mNone\u001b[0m, \u001b[38;5;34m14\u001b[0m, \u001b[38;5;34m64\u001b[0m)    │          \u001b[38;5;34m0\u001b[0m │ label[\u001b[38;5;34m0\u001b[0m][\u001b[38;5;34m0\u001b[0m],      │\n",
       "│                     │                   │            │ dense2[\u001b[38;5;34m0\u001b[0m][\u001b[38;5;34m0\u001b[0m]      │\n",
       "└─────────────────────┴───────────────────┴────────────┴───────────────────┘\n"
      ]
     },
     "metadata": {},
     "output_type": "display_data"
    },
    {
     "data": {
      "text/html": [
       "<pre style=\"white-space:pre;overflow-x:auto;line-height:normal;font-family:Menlo,'DejaVu Sans Mono',consolas,'Courier New',monospace\"><span style=\"font-weight: bold\"> Total params: </span><span style=\"color: #00af00; text-decoration-color: #00af00\">475,264</span> (1.81 MB)\n",
       "</pre>\n"
      ],
      "text/plain": [
       "\u001b[1m Total params: \u001b[0m\u001b[38;5;34m475,264\u001b[0m (1.81 MB)\n"
      ]
     },
     "metadata": {},
     "output_type": "display_data"
    },
    {
     "data": {
      "text/html": [
       "<pre style=\"white-space:pre;overflow-x:auto;line-height:normal;font-family:Menlo,'DejaVu Sans Mono',consolas,'Courier New',monospace\"><span style=\"font-weight: bold\"> Trainable params: </span><span style=\"color: #00af00; text-decoration-color: #00af00\">475,264</span> (1.81 MB)\n",
       "</pre>\n"
      ],
      "text/plain": [
       "\u001b[1m Trainable params: \u001b[0m\u001b[38;5;34m475,264\u001b[0m (1.81 MB)\n"
      ]
     },
     "metadata": {},
     "output_type": "display_data"
    },
    {
     "data": {
      "text/html": [
       "<pre style=\"white-space:pre;overflow-x:auto;line-height:normal;font-family:Menlo,'DejaVu Sans Mono',consolas,'Courier New',monospace\"><span style=\"font-weight: bold\"> Non-trainable params: </span><span style=\"color: #00af00; text-decoration-color: #00af00\">0</span> (0.00 B)\n",
       "</pre>\n"
      ],
      "text/plain": [
       "\u001b[1m Non-trainable params: \u001b[0m\u001b[38;5;34m0\u001b[0m (0.00 B)\n"
      ]
     },
     "metadata": {},
     "output_type": "display_data"
    }
   ],
   "source": [
    "model = build_model()\n",
    "model.summary()"
   ]
  },
  {
   "cell_type": "code",
   "execution_count": 41,
   "id": "6ec76dea",
   "metadata": {},
   "outputs": [],
   "source": [
    "# TODO restore epoch count.\n",
    "epochs = 8\n",
    "early_stopping_patience = 4\n",
    "# Add early stopping\n",
    "callbacks = [\n",
    "    #tf.keras.callbacks.ReduceLROnPlateau(monitor='val_loss', factor=0.3, patience=2, verbose=1, mode='min', min_delta=0.0001),\n",
    "    tf.keras.callbacks.EarlyStopping(monitor='val_loss', patience=early_stopping_patience, verbose=1, restore_best_weights=True),\n",
    "    tf.keras.callbacks.ModelCheckpoint(filepath=\"artifacts/models/crnn/crnn_synthdata_keras_9_11char_epoch_{epoch:02d}.h5\", save_best_only=False, verbose=1, save_weights_only=False)\n",
    "]"
   ]
  },
  {
   "cell_type": "code",
   "execution_count": 41,
   "id": "b32241cf",
   "metadata": {},
   "outputs": [],
   "source": [
    "#model.optimizer.learning_rate.assign(0.0001)"
   ]
  },
  {
   "cell_type": "code",
   "execution_count": 42,
   "id": "79714af1",
   "metadata": {},
   "outputs": [
    {
     "name": "stdout",
     "output_type": "stream",
     "text": [
      "Epoch 1/8\n",
      "\u001b[1m518/518\u001b[0m \u001b[32m━━━━━━━━━━━━━━━━━━━━\u001b[0m\u001b[37m\u001b[0m \u001b[1m0s\u001b[0m 453ms/step - loss: 2749.4995\n",
      "Epoch 1: saving model to artifacts/models/crnn/crnn_synthdata_keras_9_11char_epoch_01.h5\n"
     ]
    },
    {
     "name": "stderr",
     "output_type": "stream",
     "text": [
      "WARNING:absl:You are saving your model as an HDF5 file via `model.save()` or `keras.saving.save_model(model)`. This file format is considered legacy. We recommend using instead the native Keras format, e.g. `model.save('my_model.keras')` or `keras.saving.save_model(model, 'my_model.keras')`. \n"
     ]
    },
    {
     "name": "stdout",
     "output_type": "stream",
     "text": [
      "\u001b[1m518/518\u001b[0m \u001b[32m━━━━━━━━━━━━━━━━━━━━\u001b[0m\u001b[37m\u001b[0m \u001b[1m260s\u001b[0m 490ms/step - loss: 2749.1084 - val_loss: 2282.2112\n",
      "Epoch 2/8\n",
      "\u001b[1m518/518\u001b[0m \u001b[32m━━━━━━━━━━━━━━━━━━━━\u001b[0m\u001b[37m\u001b[0m \u001b[1m0s\u001b[0m 474ms/step - loss: 2233.3062\n",
      "Epoch 2: saving model to artifacts/models/crnn/crnn_synthdata_keras_9_11char_epoch_02.h5\n"
     ]
    },
    {
     "name": "stderr",
     "output_type": "stream",
     "text": [
      "WARNING:absl:You are saving your model as an HDF5 file via `model.save()` or `keras.saving.save_model(model)`. This file format is considered legacy. We recommend using instead the native Keras format, e.g. `model.save('my_model.keras')` or `keras.saving.save_model(model, 'my_model.keras')`. \n"
     ]
    },
    {
     "name": "stdout",
     "output_type": "stream",
     "text": [
      "\u001b[1m518/518\u001b[0m \u001b[32m━━━━━━━━━━━━━━━━━━━━\u001b[0m\u001b[37m\u001b[0m \u001b[1m265s\u001b[0m 511ms/step - loss: 2233.1492 - val_loss: 1894.2164\n",
      "Epoch 3/8\n",
      "\u001b[1m518/518\u001b[0m \u001b[32m━━━━━━━━━━━━━━━━━━━━\u001b[0m\u001b[37m\u001b[0m \u001b[1m0s\u001b[0m 481ms/step - loss: 1870.9943\n",
      "Epoch 3: saving model to artifacts/models/crnn/crnn_synthdata_keras_9_11char_epoch_03.h5\n"
     ]
    },
    {
     "name": "stderr",
     "output_type": "stream",
     "text": [
      "WARNING:absl:You are saving your model as an HDF5 file via `model.save()` or `keras.saving.save_model(model)`. This file format is considered legacy. We recommend using instead the native Keras format, e.g. `model.save('my_model.keras')` or `keras.saving.save_model(model, 'my_model.keras')`. \n"
     ]
    },
    {
     "name": "stdout",
     "output_type": "stream",
     "text": [
      "\u001b[1m518/518\u001b[0m \u001b[32m━━━━━━━━━━━━━━━━━━━━\u001b[0m\u001b[37m\u001b[0m \u001b[1m269s\u001b[0m 519ms/step - loss: 1870.7528 - val_loss: 1356.9569\n",
      "Epoch 4/8\n",
      "\u001b[1m518/518\u001b[0m \u001b[32m━━━━━━━━━━━━━━━━━━━━\u001b[0m\u001b[37m\u001b[0m \u001b[1m0s\u001b[0m 486ms/step - loss: 1358.5214\n",
      "Epoch 4: saving model to artifacts/models/crnn/crnn_synthdata_keras_9_11char_epoch_04.h5\n"
     ]
    },
    {
     "name": "stderr",
     "output_type": "stream",
     "text": [
      "WARNING:absl:You are saving your model as an HDF5 file via `model.save()` or `keras.saving.save_model(model)`. This file format is considered legacy. We recommend using instead the native Keras format, e.g. `model.save('my_model.keras')` or `keras.saving.save_model(model, 'my_model.keras')`. \n"
     ]
    },
    {
     "name": "stdout",
     "output_type": "stream",
     "text": [
      "\u001b[1m518/518\u001b[0m \u001b[32m━━━━━━━━━━━━━━━━━━━━\u001b[0m\u001b[37m\u001b[0m \u001b[1m271s\u001b[0m 523ms/step - loss: 1358.3036 - val_loss: 918.3271\n",
      "Epoch 5/8\n",
      "\u001b[1m518/518\u001b[0m \u001b[32m━━━━━━━━━━━━━━━━━━━━\u001b[0m\u001b[37m\u001b[0m \u001b[1m0s\u001b[0m 542ms/step - loss: 999.0354\n",
      "Epoch 5: saving model to artifacts/models/crnn/crnn_synthdata_keras_9_11char_epoch_05.h5\n"
     ]
    },
    {
     "name": "stderr",
     "output_type": "stream",
     "text": [
      "WARNING:absl:You are saving your model as an HDF5 file via `model.save()` or `keras.saving.save_model(model)`. This file format is considered legacy. We recommend using instead the native Keras format, e.g. `model.save('my_model.keras')` or `keras.saving.save_model(model, 'my_model.keras')`. \n"
     ]
    },
    {
     "name": "stdout",
     "output_type": "stream",
     "text": [
      "\u001b[1m518/518\u001b[0m \u001b[32m━━━━━━━━━━━━━━━━━━━━\u001b[0m\u001b[37m\u001b[0m \u001b[1m303s\u001b[0m 585ms/step - loss: 998.9283 - val_loss: 728.3852\n",
      "Epoch 6/8\n",
      "\u001b[1m518/518\u001b[0m \u001b[32m━━━━━━━━━━━━━━━━━━━━\u001b[0m\u001b[37m\u001b[0m \u001b[1m0s\u001b[0m 2s/step - loss: 827.8747\n",
      "Epoch 6: saving model to artifacts/models/crnn/crnn_synthdata_keras_9_11char_epoch_06.h5\n"
     ]
    },
    {
     "name": "stderr",
     "output_type": "stream",
     "text": [
      "WARNING:absl:You are saving your model as an HDF5 file via `model.save()` or `keras.saving.save_model(model)`. This file format is considered legacy. We recommend using instead the native Keras format, e.g. `model.save('my_model.keras')` or `keras.saving.save_model(model, 'my_model.keras')`. \n"
     ]
    },
    {
     "name": "stdout",
     "output_type": "stream",
     "text": [
      "\u001b[1m518/518\u001b[0m \u001b[32m━━━━━━━━━━━━━━━━━━━━\u001b[0m\u001b[37m\u001b[0m \u001b[1m881s\u001b[0m 2s/step - loss: 827.8154 - val_loss: 668.7029\n",
      "Epoch 7/8\n",
      "\u001b[1m518/518\u001b[0m \u001b[32m━━━━━━━━━━━━━━━━━━━━\u001b[0m\u001b[37m\u001b[0m \u001b[1m0s\u001b[0m 533ms/step - loss: 730.3593\n",
      "Epoch 7: saving model to artifacts/models/crnn/crnn_synthdata_keras_9_11char_epoch_07.h5\n"
     ]
    },
    {
     "name": "stderr",
     "output_type": "stream",
     "text": [
      "WARNING:absl:You are saving your model as an HDF5 file via `model.save()` or `keras.saving.save_model(model)`. This file format is considered legacy. We recommend using instead the native Keras format, e.g. `model.save('my_model.keras')` or `keras.saving.save_model(model, 'my_model.keras')`. \n"
     ]
    },
    {
     "name": "stdout",
     "output_type": "stream",
     "text": [
      "\u001b[1m518/518\u001b[0m \u001b[32m━━━━━━━━━━━━━━━━━━━━\u001b[0m\u001b[37m\u001b[0m \u001b[1m297s\u001b[0m 573ms/step - loss: 730.3163 - val_loss: 602.8936\n",
      "Epoch 8/8\n",
      "\u001b[1m518/518\u001b[0m \u001b[32m━━━━━━━━━━━━━━━━━━━━\u001b[0m\u001b[37m\u001b[0m \u001b[1m0s\u001b[0m 528ms/step - loss: 668.7609\n",
      "Epoch 8: saving model to artifacts/models/crnn/crnn_synthdata_keras_9_11char_epoch_08.h5\n"
     ]
    },
    {
     "name": "stderr",
     "output_type": "stream",
     "text": [
      "WARNING:absl:You are saving your model as an HDF5 file via `model.save()` or `keras.saving.save_model(model)`. This file format is considered legacy. We recommend using instead the native Keras format, e.g. `model.save('my_model.keras')` or `keras.saving.save_model(model, 'my_model.keras')`. \n"
     ]
    },
    {
     "name": "stdout",
     "output_type": "stream",
     "text": [
      "\u001b[1m518/518\u001b[0m \u001b[32m━━━━━━━━━━━━━━━━━━━━\u001b[0m\u001b[37m\u001b[0m \u001b[1m294s\u001b[0m 567ms/step - loss: 668.7247 - val_loss: 554.8574\n",
      "Restoring model weights from the end of the best epoch: 8.\n"
     ]
    }
   ],
   "source": [
    "# Train the model\n",
    "history = model.fit(\n",
    "    train_dataset,\n",
    "    validation_data=validation_dataset,\n",
    "    epochs=epochs,\n",
    "    callbacks=callbacks\n",
    ")"
   ]
  },
  {
   "cell_type": "markdown",
   "id": "c6cfaf8a",
   "metadata": {},
   "source": [
    "### Freezing the dense layer and training the model to focus of cnn feature extraction"
   ]
  },
  {
   "cell_type": "code",
   "execution_count": 47,
   "id": "9cf57369",
   "metadata": {},
   "outputs": [],
   "source": [
    "model2=build_model()\n",
    "model2.load_weights(\"artifacts/models/crnn/crnn_synthdata_keras_9_11char_epoch_08.h5\")"
   ]
  },
  {
   "cell_type": "code",
   "execution_count": 49,
   "id": "29c35b91",
   "metadata": {},
   "outputs": [],
   "source": [
    "model2.get_layer('dense2').trainable = False\n",
    "model2.get_layer('bidirectional_4').trainable = False\n",
    "model2.get_layer('bidirectional_5').trainable = False"
   ]
  },
  {
   "cell_type": "code",
   "execution_count": 50,
   "id": "e10e11e1",
   "metadata": {},
   "outputs": [
    {
     "name": "stdout",
     "output_type": "stream",
     "text": [
      "Layer image: Trainable = True\n",
      "Layer Conv1: Trainable = True\n",
      "Layer pool1: Trainable = True\n",
      "Layer Conv2: Trainable = True\n",
      "Layer pool2: Trainable = True\n",
      "Layer Conv3: Trainable = True\n",
      "Layer pool3: Trainable = True\n",
      "Layer Conv4: Trainable = True\n",
      "Layer pool4: Trainable = True\n",
      "Layer reshape: Trainable = True\n",
      "Layer dense1: Trainable = True\n",
      "Layer dropout_2: Trainable = True\n",
      "Layer bidirectional_4: Trainable = False\n",
      "Layer bidirectional_5: Trainable = False\n",
      "Layer label: Trainable = True\n",
      "Layer dense2: Trainable = False\n",
      "Layer ctc_loss: Trainable = True\n"
     ]
    }
   ],
   "source": [
    "for layer in model2.layers:\n",
    "    print(f\"Layer {layer.name}: Trainable = {layer.trainable}\")"
   ]
  },
  {
   "cell_type": "code",
   "execution_count": 62,
   "id": "30f11bb2",
   "metadata": {},
   "outputs": [],
   "source": [
    "#model2.optimizer.learning_rate.assign(0.00003)"
   ]
  },
  {
   "cell_type": "code",
   "execution_count": 51,
   "id": "4ce23854",
   "metadata": {},
   "outputs": [
    {
     "name": "stdout",
     "output_type": "stream",
     "text": [
      "Epoch 1/10\n",
      "\u001b[1m518/518\u001b[0m \u001b[32m━━━━━━━━━━━━━━━━━━━━\u001b[0m\u001b[37m\u001b[0m \u001b[1m0s\u001b[0m 482ms/step - loss: 623.2323\n",
      "Epoch 1: saving model to artifacts/models/crnn/crnn_synthdata_keras_9_11char_epoch_01.h5\n"
     ]
    },
    {
     "name": "stderr",
     "output_type": "stream",
     "text": [
      "WARNING:absl:You are saving your model as an HDF5 file via `model.save()` or `keras.saving.save_model(model)`. This file format is considered legacy. We recommend using instead the native Keras format, e.g. `model.save('my_model.keras')` or `keras.saving.save_model(model, 'my_model.keras')`. \n"
     ]
    },
    {
     "name": "stdout",
     "output_type": "stream",
     "text": [
      "\u001b[1m518/518\u001b[0m \u001b[32m━━━━━━━━━━━━━━━━━━━━\u001b[0m\u001b[37m\u001b[0m \u001b[1m275s\u001b[0m 522ms/step - loss: 623.2047 - val_loss: 529.9981\n",
      "Epoch 2/10\n",
      "\u001b[1m518/518\u001b[0m \u001b[32m━━━━━━━━━━━━━━━━━━━━\u001b[0m\u001b[37m\u001b[0m \u001b[1m0s\u001b[0m 500ms/step - loss: 602.6387\n",
      "Epoch 2: saving model to artifacts/models/crnn/crnn_synthdata_keras_9_11char_epoch_02.h5\n"
     ]
    },
    {
     "name": "stderr",
     "output_type": "stream",
     "text": [
      "WARNING:absl:You are saving your model as an HDF5 file via `model.save()` or `keras.saving.save_model(model)`. This file format is considered legacy. We recommend using instead the native Keras format, e.g. `model.save('my_model.keras')` or `keras.saving.save_model(model, 'my_model.keras')`. \n"
     ]
    },
    {
     "name": "stdout",
     "output_type": "stream",
     "text": [
      "\u001b[1m518/518\u001b[0m \u001b[32m━━━━━━━━━━━━━━━━━━━━\u001b[0m\u001b[37m\u001b[0m \u001b[1m279s\u001b[0m 539ms/step - loss: 602.6159 - val_loss: 516.4532\n",
      "Epoch 3/10\n",
      "\u001b[1m518/518\u001b[0m \u001b[32m━━━━━━━━━━━━━━━━━━━━\u001b[0m\u001b[37m\u001b[0m \u001b[1m0s\u001b[0m 507ms/step - loss: 586.2528\n",
      "Epoch 3: saving model to artifacts/models/crnn/crnn_synthdata_keras_9_11char_epoch_03.h5\n"
     ]
    },
    {
     "name": "stderr",
     "output_type": "stream",
     "text": [
      "WARNING:absl:You are saving your model as an HDF5 file via `model.save()` or `keras.saving.save_model(model)`. This file format is considered legacy. We recommend using instead the native Keras format, e.g. `model.save('my_model.keras')` or `keras.saving.save_model(model, 'my_model.keras')`. \n"
     ]
    },
    {
     "name": "stdout",
     "output_type": "stream",
     "text": [
      "\u001b[1m518/518\u001b[0m \u001b[32m━━━━━━━━━━━━━━━━━━━━\u001b[0m\u001b[37m\u001b[0m \u001b[1m283s\u001b[0m 546ms/step - loss: 586.2347 - val_loss: 506.0867\n",
      "Epoch 4/10\n",
      "\u001b[1m518/518\u001b[0m \u001b[32m━━━━━━━━━━━━━━━━━━━━\u001b[0m\u001b[37m\u001b[0m \u001b[1m0s\u001b[0m 511ms/step - loss: 573.4767\n",
      "Epoch 4: saving model to artifacts/models/crnn/crnn_synthdata_keras_9_11char_epoch_04.h5\n"
     ]
    },
    {
     "name": "stderr",
     "output_type": "stream",
     "text": [
      "WARNING:absl:You are saving your model as an HDF5 file via `model.save()` or `keras.saving.save_model(model)`. This file format is considered legacy. We recommend using instead the native Keras format, e.g. `model.save('my_model.keras')` or `keras.saving.save_model(model, 'my_model.keras')`. \n"
     ]
    },
    {
     "name": "stdout",
     "output_type": "stream",
     "text": [
      "\u001b[1m518/518\u001b[0m \u001b[32m━━━━━━━━━━━━━━━━━━━━\u001b[0m\u001b[37m\u001b[0m \u001b[1m285s\u001b[0m 551ms/step - loss: 573.4559 - val_loss: 506.6581\n",
      "Epoch 5/10\n",
      "\u001b[1m518/518\u001b[0m \u001b[32m━━━━━━━━━━━━━━━━━━━━\u001b[0m\u001b[37m\u001b[0m \u001b[1m0s\u001b[0m 514ms/step - loss: 561.0283\n",
      "Epoch 5: saving model to artifacts/models/crnn/crnn_synthdata_keras_9_11char_epoch_05.h5\n"
     ]
    },
    {
     "name": "stderr",
     "output_type": "stream",
     "text": [
      "WARNING:absl:You are saving your model as an HDF5 file via `model.save()` or `keras.saving.save_model(model)`. This file format is considered legacy. We recommend using instead the native Keras format, e.g. `model.save('my_model.keras')` or `keras.saving.save_model(model, 'my_model.keras')`. \n"
     ]
    },
    {
     "name": "stdout",
     "output_type": "stream",
     "text": [
      "\u001b[1m518/518\u001b[0m \u001b[32m━━━━━━━━━━━━━━━━━━━━\u001b[0m\u001b[37m\u001b[0m \u001b[1m287s\u001b[0m 553ms/step - loss: 561.0118 - val_loss: 495.0670\n",
      "Epoch 6/10\n",
      "\u001b[1m518/518\u001b[0m \u001b[32m━━━━━━━━━━━━━━━━━━━━\u001b[0m\u001b[37m\u001b[0m \u001b[1m0s\u001b[0m 521ms/step - loss: 551.1149\n",
      "Epoch 6: saving model to artifacts/models/crnn/crnn_synthdata_keras_9_11char_epoch_06.h5\n"
     ]
    },
    {
     "name": "stderr",
     "output_type": "stream",
     "text": [
      "WARNING:absl:You are saving your model as an HDF5 file via `model.save()` or `keras.saving.save_model(model)`. This file format is considered legacy. We recommend using instead the native Keras format, e.g. `model.save('my_model.keras')` or `keras.saving.save_model(model, 'my_model.keras')`. \n"
     ]
    },
    {
     "name": "stdout",
     "output_type": "stream",
     "text": [
      "\u001b[1m518/518\u001b[0m \u001b[32m━━━━━━━━━━━━━━━━━━━━\u001b[0m\u001b[37m\u001b[0m \u001b[1m291s\u001b[0m 561ms/step - loss: 551.1011 - val_loss: 479.0797\n",
      "Epoch 7/10\n",
      "\u001b[1m518/518\u001b[0m \u001b[32m━━━━━━━━━━━━━━━━━━━━\u001b[0m\u001b[37m\u001b[0m \u001b[1m0s\u001b[0m 518ms/step - loss: 545.6521\n",
      "Epoch 7: saving model to artifacts/models/crnn/crnn_synthdata_keras_9_11char_epoch_07.h5\n"
     ]
    },
    {
     "name": "stderr",
     "output_type": "stream",
     "text": [
      "WARNING:absl:You are saving your model as an HDF5 file via `model.save()` or `keras.saving.save_model(model)`. This file format is considered legacy. We recommend using instead the native Keras format, e.g. `model.save('my_model.keras')` or `keras.saving.save_model(model, 'my_model.keras')`. \n"
     ]
    },
    {
     "name": "stdout",
     "output_type": "stream",
     "text": [
      "\u001b[1m518/518\u001b[0m \u001b[32m━━━━━━━━━━━━━━━━━━━━\u001b[0m\u001b[37m\u001b[0m \u001b[1m289s\u001b[0m 557ms/step - loss: 545.6368 - val_loss: 485.6511\n",
      "Epoch 8/10\n",
      "\u001b[1m518/518\u001b[0m \u001b[32m━━━━━━━━━━━━━━━━━━━━\u001b[0m\u001b[37m\u001b[0m \u001b[1m0s\u001b[0m 514ms/step - loss: 538.2850\n",
      "Epoch 8: saving model to artifacts/models/crnn/crnn_synthdata_keras_9_11char_epoch_08.h5\n"
     ]
    },
    {
     "name": "stderr",
     "output_type": "stream",
     "text": [
      "WARNING:absl:You are saving your model as an HDF5 file via `model.save()` or `keras.saving.save_model(model)`. This file format is considered legacy. We recommend using instead the native Keras format, e.g. `model.save('my_model.keras')` or `keras.saving.save_model(model, 'my_model.keras')`. \n"
     ]
    },
    {
     "name": "stdout",
     "output_type": "stream",
     "text": [
      "\u001b[1m518/518\u001b[0m \u001b[32m━━━━━━━━━━━━━━━━━━━━\u001b[0m\u001b[37m\u001b[0m \u001b[1m286s\u001b[0m 553ms/step - loss: 538.2682 - val_loss: 479.3269\n",
      "Epoch 9/10\n",
      "\u001b[1m518/518\u001b[0m \u001b[32m━━━━━━━━━━━━━━━━━━━━\u001b[0m\u001b[37m\u001b[0m \u001b[1m0s\u001b[0m 513ms/step - loss: 529.4464\n",
      "Epoch 9: saving model to artifacts/models/crnn/crnn_synthdata_keras_9_11char_epoch_09.h5\n"
     ]
    },
    {
     "name": "stderr",
     "output_type": "stream",
     "text": [
      "WARNING:absl:You are saving your model as an HDF5 file via `model.save()` or `keras.saving.save_model(model)`. This file format is considered legacy. We recommend using instead the native Keras format, e.g. `model.save('my_model.keras')` or `keras.saving.save_model(model, 'my_model.keras')`. \n"
     ]
    },
    {
     "name": "stdout",
     "output_type": "stream",
     "text": [
      "\u001b[1m518/518\u001b[0m \u001b[32m━━━━━━━━━━━━━━━━━━━━\u001b[0m\u001b[37m\u001b[0m \u001b[1m286s\u001b[0m 552ms/step - loss: 529.4342 - val_loss: 478.1877\n",
      "Epoch 10/10\n",
      "\u001b[1m518/518\u001b[0m \u001b[32m━━━━━━━━━━━━━━━━━━━━\u001b[0m\u001b[37m\u001b[0m \u001b[1m0s\u001b[0m 515ms/step - loss: 523.5969\n",
      "Epoch 10: saving model to artifacts/models/crnn/crnn_synthdata_keras_9_11char_epoch_10.h5\n"
     ]
    },
    {
     "name": "stderr",
     "output_type": "stream",
     "text": [
      "WARNING:absl:You are saving your model as an HDF5 file via `model.save()` or `keras.saving.save_model(model)`. This file format is considered legacy. We recommend using instead the native Keras format, e.g. `model.save('my_model.keras')` or `keras.saving.save_model(model, 'my_model.keras')`. \n"
     ]
    },
    {
     "name": "stdout",
     "output_type": "stream",
     "text": [
      "\u001b[1m518/518\u001b[0m \u001b[32m━━━━━━━━━━━━━━━━━━━━\u001b[0m\u001b[37m\u001b[0m \u001b[1m287s\u001b[0m 554ms/step - loss: 523.5829 - val_loss: 479.1458\n",
      "Restoring model weights from the end of the best epoch: 9.\n"
     ]
    },
    {
     "data": {
      "text/plain": [
       "<keras.src.callbacks.history.History at 0x21961ae8bf0>"
      ]
     },
     "execution_count": 51,
     "metadata": {},
     "output_type": "execute_result"
    }
   ],
   "source": [
    "model2.fit(\n",
    "    train_dataset,\n",
    "    validation_data=validation_dataset,\n",
    "    epochs=10,\n",
    "    callbacks=callbacks\n",
    ")"
   ]
  },
  {
   "cell_type": "markdown",
   "id": "4e9ce301",
   "metadata": {},
   "source": [
    "Freezing CNN layers and increasing blank index penalty to again train dense layer"
   ]
  },
  {
   "cell_type": "code",
   "execution_count": 77,
   "id": "01c3fe75",
   "metadata": {},
   "outputs": [],
   "source": [
    "model3=build_model()\n",
    "model3.load_weights(\"artifacts/models/crnn/crnn_synthdata_keras_8_11char_epoch_10.h5\")"
   ]
  },
  {
   "cell_type": "code",
   "execution_count": 78,
   "id": "89f0ba05",
   "metadata": {},
   "outputs": [
    {
     "data": {
      "text/html": [
       "<pre style=\"white-space:pre;overflow-x:auto;line-height:normal;font-family:Menlo,'DejaVu Sans Mono',consolas,'Courier New',monospace\"><span style=\"font-weight: bold\">Model: \"ocr_model_v1\"</span>\n",
       "</pre>\n"
      ],
      "text/plain": [
       "\u001b[1mModel: \"ocr_model_v1\"\u001b[0m\n"
      ]
     },
     "metadata": {},
     "output_type": "display_data"
    },
    {
     "data": {
      "text/html": [
       "<pre style=\"white-space:pre;overflow-x:auto;line-height:normal;font-family:Menlo,'DejaVu Sans Mono',consolas,'Courier New',monospace\">┏━━━━━━━━━━━━━━━━━━━━━┳━━━━━━━━━━━━━━━━━━━┳━━━━━━━━━━━━┳━━━━━━━━━━━━━━━━━━━┓\n",
       "┃<span style=\"font-weight: bold\"> Layer (type)        </span>┃<span style=\"font-weight: bold\"> Output Shape      </span>┃<span style=\"font-weight: bold\">    Param # </span>┃<span style=\"font-weight: bold\"> Connected to      </span>┃\n",
       "┡━━━━━━━━━━━━━━━━━━━━━╇━━━━━━━━━━━━━━━━━━━╇━━━━━━━━━━━━╇━━━━━━━━━━━━━━━━━━━┩\n",
       "│ image (<span style=\"color: #0087ff; text-decoration-color: #0087ff\">InputLayer</span>)  │ (<span style=\"color: #00d7ff; text-decoration-color: #00d7ff\">None</span>, <span style=\"color: #00af00; text-decoration-color: #00af00\">112</span>, <span style=\"color: #00af00; text-decoration-color: #00af00\">28</span>,   │          <span style=\"color: #00af00; text-decoration-color: #00af00\">0</span> │ -                 │\n",
       "│                     │ <span style=\"color: #00af00; text-decoration-color: #00af00\">1</span>)                │            │                   │\n",
       "├─────────────────────┼───────────────────┼────────────┼───────────────────┤\n",
       "│ Conv1 (<span style=\"color: #0087ff; text-decoration-color: #0087ff\">Conv2D</span>)      │ (<span style=\"color: #00d7ff; text-decoration-color: #00d7ff\">None</span>, <span style=\"color: #00af00; text-decoration-color: #00af00\">112</span>, <span style=\"color: #00af00; text-decoration-color: #00af00\">28</span>,   │        <span style=\"color: #00af00; text-decoration-color: #00af00\">320</span> │ image[<span style=\"color: #00af00; text-decoration-color: #00af00\">0</span>][<span style=\"color: #00af00; text-decoration-color: #00af00\">0</span>]       │\n",
       "│                     │ <span style=\"color: #00af00; text-decoration-color: #00af00\">32</span>)               │            │                   │\n",
       "├─────────────────────┼───────────────────┼────────────┼───────────────────┤\n",
       "│ pool1               │ (<span style=\"color: #00d7ff; text-decoration-color: #00d7ff\">None</span>, <span style=\"color: #00af00; text-decoration-color: #00af00\">56</span>, <span style=\"color: #00af00; text-decoration-color: #00af00\">14</span>,    │          <span style=\"color: #00af00; text-decoration-color: #00af00\">0</span> │ Conv1[<span style=\"color: #00af00; text-decoration-color: #00af00\">0</span>][<span style=\"color: #00af00; text-decoration-color: #00af00\">0</span>]       │\n",
       "│ (<span style=\"color: #0087ff; text-decoration-color: #0087ff\">MaxPooling2D</span>)      │ <span style=\"color: #00af00; text-decoration-color: #00af00\">32</span>)               │            │                   │\n",
       "├─────────────────────┼───────────────────┼────────────┼───────────────────┤\n",
       "│ Conv2 (<span style=\"color: #0087ff; text-decoration-color: #0087ff\">Conv2D</span>)      │ (<span style=\"color: #00d7ff; text-decoration-color: #00d7ff\">None</span>, <span style=\"color: #00af00; text-decoration-color: #00af00\">56</span>, <span style=\"color: #00af00; text-decoration-color: #00af00\">14</span>,    │     <span style=\"color: #00af00; text-decoration-color: #00af00\">18,496</span> │ pool1[<span style=\"color: #00af00; text-decoration-color: #00af00\">0</span>][<span style=\"color: #00af00; text-decoration-color: #00af00\">0</span>]       │\n",
       "│                     │ <span style=\"color: #00af00; text-decoration-color: #00af00\">64</span>)               │            │                   │\n",
       "├─────────────────────┼───────────────────┼────────────┼───────────────────┤\n",
       "│ pool2               │ (<span style=\"color: #00d7ff; text-decoration-color: #00d7ff\">None</span>, <span style=\"color: #00af00; text-decoration-color: #00af00\">28</span>, <span style=\"color: #00af00; text-decoration-color: #00af00\">7</span>, <span style=\"color: #00af00; text-decoration-color: #00af00\">64</span>) │          <span style=\"color: #00af00; text-decoration-color: #00af00\">0</span> │ Conv2[<span style=\"color: #00af00; text-decoration-color: #00af00\">0</span>][<span style=\"color: #00af00; text-decoration-color: #00af00\">0</span>]       │\n",
       "│ (<span style=\"color: #0087ff; text-decoration-color: #0087ff\">MaxPooling2D</span>)      │                   │            │                   │\n",
       "├─────────────────────┼───────────────────┼────────────┼───────────────────┤\n",
       "│ Conv3 (<span style=\"color: #0087ff; text-decoration-color: #0087ff\">Conv2D</span>)      │ (<span style=\"color: #00d7ff; text-decoration-color: #00d7ff\">None</span>, <span style=\"color: #00af00; text-decoration-color: #00af00\">28</span>, <span style=\"color: #00af00; text-decoration-color: #00af00\">7</span>, <span style=\"color: #00af00; text-decoration-color: #00af00\">64</span>) │     <span style=\"color: #00af00; text-decoration-color: #00af00\">36,928</span> │ pool2[<span style=\"color: #00af00; text-decoration-color: #00af00\">0</span>][<span style=\"color: #00af00; text-decoration-color: #00af00\">0</span>]       │\n",
       "├─────────────────────┼───────────────────┼────────────┼───────────────────┤\n",
       "│ pool3               │ (<span style=\"color: #00d7ff; text-decoration-color: #00d7ff\">None</span>, <span style=\"color: #00af00; text-decoration-color: #00af00\">14</span>, <span style=\"color: #00af00; text-decoration-color: #00af00\">3</span>, <span style=\"color: #00af00; text-decoration-color: #00af00\">64</span>) │          <span style=\"color: #00af00; text-decoration-color: #00af00\">0</span> │ Conv3[<span style=\"color: #00af00; text-decoration-color: #00af00\">0</span>][<span style=\"color: #00af00; text-decoration-color: #00af00\">0</span>]       │\n",
       "│ (<span style=\"color: #0087ff; text-decoration-color: #0087ff\">MaxPooling2D</span>)      │                   │            │                   │\n",
       "├─────────────────────┼───────────────────┼────────────┼───────────────────┤\n",
       "│ reshape (<span style=\"color: #0087ff; text-decoration-color: #0087ff\">Reshape</span>)   │ (<span style=\"color: #00d7ff; text-decoration-color: #00d7ff\">None</span>, <span style=\"color: #00af00; text-decoration-color: #00af00\">14</span>, <span style=\"color: #00af00; text-decoration-color: #00af00\">192</span>)   │          <span style=\"color: #00af00; text-decoration-color: #00af00\">0</span> │ pool3[<span style=\"color: #00af00; text-decoration-color: #00af00\">0</span>][<span style=\"color: #00af00; text-decoration-color: #00af00\">0</span>]       │\n",
       "├─────────────────────┼───────────────────┼────────────┼───────────────────┤\n",
       "│ dense1 (<span style=\"color: #0087ff; text-decoration-color: #0087ff\">Dense</span>)      │ (<span style=\"color: #00d7ff; text-decoration-color: #00d7ff\">None</span>, <span style=\"color: #00af00; text-decoration-color: #00af00\">14</span>, <span style=\"color: #00af00; text-decoration-color: #00af00\">64</span>)    │     <span style=\"color: #00af00; text-decoration-color: #00af00\">12,352</span> │ reshape[<span style=\"color: #00af00; text-decoration-color: #00af00\">0</span>][<span style=\"color: #00af00; text-decoration-color: #00af00\">0</span>]     │\n",
       "├─────────────────────┼───────────────────┼────────────┼───────────────────┤\n",
       "│ dropout_3 (<span style=\"color: #0087ff; text-decoration-color: #0087ff\">Dropout</span>) │ (<span style=\"color: #00d7ff; text-decoration-color: #00d7ff\">None</span>, <span style=\"color: #00af00; text-decoration-color: #00af00\">14</span>, <span style=\"color: #00af00; text-decoration-color: #00af00\">64</span>)    │          <span style=\"color: #00af00; text-decoration-color: #00af00\">0</span> │ dense1[<span style=\"color: #00af00; text-decoration-color: #00af00\">0</span>][<span style=\"color: #00af00; text-decoration-color: #00af00\">0</span>]      │\n",
       "├─────────────────────┼───────────────────┼────────────┼───────────────────┤\n",
       "│ bidirectional_6     │ (<span style=\"color: #00d7ff; text-decoration-color: #00d7ff\">None</span>, <span style=\"color: #00af00; text-decoration-color: #00af00\">14</span>, <span style=\"color: #00af00; text-decoration-color: #00af00\">256</span>)   │    <span style=\"color: #00af00; text-decoration-color: #00af00\">197,632</span> │ dropout_3[<span style=\"color: #00af00; text-decoration-color: #00af00\">0</span>][<span style=\"color: #00af00; text-decoration-color: #00af00\">0</span>]   │\n",
       "│ (<span style=\"color: #0087ff; text-decoration-color: #0087ff\">Bidirectional</span>)     │                   │            │                   │\n",
       "├─────────────────────┼───────────────────┼────────────┼───────────────────┤\n",
       "│ bidirectional_7     │ (<span style=\"color: #00d7ff; text-decoration-color: #00d7ff\">None</span>, <span style=\"color: #00af00; text-decoration-color: #00af00\">14</span>, <span style=\"color: #00af00; text-decoration-color: #00af00\">128</span>)   │    <span style=\"color: #00af00; text-decoration-color: #00af00\">164,352</span> │ bidirectional_6[<span style=\"color: #00af00; text-decoration-color: #00af00\">…</span> │\n",
       "│ (<span style=\"color: #0087ff; text-decoration-color: #0087ff\">Bidirectional</span>)     │                   │            │                   │\n",
       "├─────────────────────┼───────────────────┼────────────┼───────────────────┤\n",
       "│ label (<span style=\"color: #0087ff; text-decoration-color: #0087ff\">InputLayer</span>)  │ (<span style=\"color: #00d7ff; text-decoration-color: #00d7ff\">None</span>, <span style=\"color: #00d7ff; text-decoration-color: #00d7ff\">None</span>)      │          <span style=\"color: #00af00; text-decoration-color: #00af00\">0</span> │ -                 │\n",
       "├─────────────────────┼───────────────────┼────────────┼───────────────────┤\n",
       "│ dense2 (<span style=\"color: #0087ff; text-decoration-color: #0087ff\">Dense</span>)      │ (<span style=\"color: #00d7ff; text-decoration-color: #00d7ff\">None</span>, <span style=\"color: #00af00; text-decoration-color: #00af00\">14</span>, <span style=\"color: #00af00; text-decoration-color: #00af00\">64</span>)    │      <span style=\"color: #00af00; text-decoration-color: #00af00\">8,256</span> │ bidirectional_7[<span style=\"color: #00af00; text-decoration-color: #00af00\">…</span> │\n",
       "├─────────────────────┼───────────────────┼────────────┼───────────────────┤\n",
       "│ ctc_loss (<span style=\"color: #0087ff; text-decoration-color: #0087ff\">CTCLayer</span>) │ (<span style=\"color: #00d7ff; text-decoration-color: #00d7ff\">None</span>, <span style=\"color: #00af00; text-decoration-color: #00af00\">14</span>, <span style=\"color: #00af00; text-decoration-color: #00af00\">64</span>)    │          <span style=\"color: #00af00; text-decoration-color: #00af00\">0</span> │ label[<span style=\"color: #00af00; text-decoration-color: #00af00\">0</span>][<span style=\"color: #00af00; text-decoration-color: #00af00\">0</span>],      │\n",
       "│                     │                   │            │ dense2[<span style=\"color: #00af00; text-decoration-color: #00af00\">0</span>][<span style=\"color: #00af00; text-decoration-color: #00af00\">0</span>]      │\n",
       "└─────────────────────┴───────────────────┴────────────┴───────────────────┘\n",
       "</pre>\n"
      ],
      "text/plain": [
       "┏━━━━━━━━━━━━━━━━━━━━━┳━━━━━━━━━━━━━━━━━━━┳━━━━━━━━━━━━┳━━━━━━━━━━━━━━━━━━━┓\n",
       "┃\u001b[1m \u001b[0m\u001b[1mLayer (type)       \u001b[0m\u001b[1m \u001b[0m┃\u001b[1m \u001b[0m\u001b[1mOutput Shape     \u001b[0m\u001b[1m \u001b[0m┃\u001b[1m \u001b[0m\u001b[1m   Param #\u001b[0m\u001b[1m \u001b[0m┃\u001b[1m \u001b[0m\u001b[1mConnected to     \u001b[0m\u001b[1m \u001b[0m┃\n",
       "┡━━━━━━━━━━━━━━━━━━━━━╇━━━━━━━━━━━━━━━━━━━╇━━━━━━━━━━━━╇━━━━━━━━━━━━━━━━━━━┩\n",
       "│ image (\u001b[38;5;33mInputLayer\u001b[0m)  │ (\u001b[38;5;45mNone\u001b[0m, \u001b[38;5;34m112\u001b[0m, \u001b[38;5;34m28\u001b[0m,   │          \u001b[38;5;34m0\u001b[0m │ -                 │\n",
       "│                     │ \u001b[38;5;34m1\u001b[0m)                │            │                   │\n",
       "├─────────────────────┼───────────────────┼────────────┼───────────────────┤\n",
       "│ Conv1 (\u001b[38;5;33mConv2D\u001b[0m)      │ (\u001b[38;5;45mNone\u001b[0m, \u001b[38;5;34m112\u001b[0m, \u001b[38;5;34m28\u001b[0m,   │        \u001b[38;5;34m320\u001b[0m │ image[\u001b[38;5;34m0\u001b[0m][\u001b[38;5;34m0\u001b[0m]       │\n",
       "│                     │ \u001b[38;5;34m32\u001b[0m)               │            │                   │\n",
       "├─────────────────────┼───────────────────┼────────────┼───────────────────┤\n",
       "│ pool1               │ (\u001b[38;5;45mNone\u001b[0m, \u001b[38;5;34m56\u001b[0m, \u001b[38;5;34m14\u001b[0m,    │          \u001b[38;5;34m0\u001b[0m │ Conv1[\u001b[38;5;34m0\u001b[0m][\u001b[38;5;34m0\u001b[0m]       │\n",
       "│ (\u001b[38;5;33mMaxPooling2D\u001b[0m)      │ \u001b[38;5;34m32\u001b[0m)               │            │                   │\n",
       "├─────────────────────┼───────────────────┼────────────┼───────────────────┤\n",
       "│ Conv2 (\u001b[38;5;33mConv2D\u001b[0m)      │ (\u001b[38;5;45mNone\u001b[0m, \u001b[38;5;34m56\u001b[0m, \u001b[38;5;34m14\u001b[0m,    │     \u001b[38;5;34m18,496\u001b[0m │ pool1[\u001b[38;5;34m0\u001b[0m][\u001b[38;5;34m0\u001b[0m]       │\n",
       "│                     │ \u001b[38;5;34m64\u001b[0m)               │            │                   │\n",
       "├─────────────────────┼───────────────────┼────────────┼───────────────────┤\n",
       "│ pool2               │ (\u001b[38;5;45mNone\u001b[0m, \u001b[38;5;34m28\u001b[0m, \u001b[38;5;34m7\u001b[0m, \u001b[38;5;34m64\u001b[0m) │          \u001b[38;5;34m0\u001b[0m │ Conv2[\u001b[38;5;34m0\u001b[0m][\u001b[38;5;34m0\u001b[0m]       │\n",
       "│ (\u001b[38;5;33mMaxPooling2D\u001b[0m)      │                   │            │                   │\n",
       "├─────────────────────┼───────────────────┼────────────┼───────────────────┤\n",
       "│ Conv3 (\u001b[38;5;33mConv2D\u001b[0m)      │ (\u001b[38;5;45mNone\u001b[0m, \u001b[38;5;34m28\u001b[0m, \u001b[38;5;34m7\u001b[0m, \u001b[38;5;34m64\u001b[0m) │     \u001b[38;5;34m36,928\u001b[0m │ pool2[\u001b[38;5;34m0\u001b[0m][\u001b[38;5;34m0\u001b[0m]       │\n",
       "├─────────────────────┼───────────────────┼────────────┼───────────────────┤\n",
       "│ pool3               │ (\u001b[38;5;45mNone\u001b[0m, \u001b[38;5;34m14\u001b[0m, \u001b[38;5;34m3\u001b[0m, \u001b[38;5;34m64\u001b[0m) │          \u001b[38;5;34m0\u001b[0m │ Conv3[\u001b[38;5;34m0\u001b[0m][\u001b[38;5;34m0\u001b[0m]       │\n",
       "│ (\u001b[38;5;33mMaxPooling2D\u001b[0m)      │                   │            │                   │\n",
       "├─────────────────────┼───────────────────┼────────────┼───────────────────┤\n",
       "│ reshape (\u001b[38;5;33mReshape\u001b[0m)   │ (\u001b[38;5;45mNone\u001b[0m, \u001b[38;5;34m14\u001b[0m, \u001b[38;5;34m192\u001b[0m)   │          \u001b[38;5;34m0\u001b[0m │ pool3[\u001b[38;5;34m0\u001b[0m][\u001b[38;5;34m0\u001b[0m]       │\n",
       "├─────────────────────┼───────────────────┼────────────┼───────────────────┤\n",
       "│ dense1 (\u001b[38;5;33mDense\u001b[0m)      │ (\u001b[38;5;45mNone\u001b[0m, \u001b[38;5;34m14\u001b[0m, \u001b[38;5;34m64\u001b[0m)    │     \u001b[38;5;34m12,352\u001b[0m │ reshape[\u001b[38;5;34m0\u001b[0m][\u001b[38;5;34m0\u001b[0m]     │\n",
       "├─────────────────────┼───────────────────┼────────────┼───────────────────┤\n",
       "│ dropout_3 (\u001b[38;5;33mDropout\u001b[0m) │ (\u001b[38;5;45mNone\u001b[0m, \u001b[38;5;34m14\u001b[0m, \u001b[38;5;34m64\u001b[0m)    │          \u001b[38;5;34m0\u001b[0m │ dense1[\u001b[38;5;34m0\u001b[0m][\u001b[38;5;34m0\u001b[0m]      │\n",
       "├─────────────────────┼───────────────────┼────────────┼───────────────────┤\n",
       "│ bidirectional_6     │ (\u001b[38;5;45mNone\u001b[0m, \u001b[38;5;34m14\u001b[0m, \u001b[38;5;34m256\u001b[0m)   │    \u001b[38;5;34m197,632\u001b[0m │ dropout_3[\u001b[38;5;34m0\u001b[0m][\u001b[38;5;34m0\u001b[0m]   │\n",
       "│ (\u001b[38;5;33mBidirectional\u001b[0m)     │                   │            │                   │\n",
       "├─────────────────────┼───────────────────┼────────────┼───────────────────┤\n",
       "│ bidirectional_7     │ (\u001b[38;5;45mNone\u001b[0m, \u001b[38;5;34m14\u001b[0m, \u001b[38;5;34m128\u001b[0m)   │    \u001b[38;5;34m164,352\u001b[0m │ bidirectional_6[\u001b[38;5;34m…\u001b[0m │\n",
       "│ (\u001b[38;5;33mBidirectional\u001b[0m)     │                   │            │                   │\n",
       "├─────────────────────┼───────────────────┼────────────┼───────────────────┤\n",
       "│ label (\u001b[38;5;33mInputLayer\u001b[0m)  │ (\u001b[38;5;45mNone\u001b[0m, \u001b[38;5;45mNone\u001b[0m)      │          \u001b[38;5;34m0\u001b[0m │ -                 │\n",
       "├─────────────────────┼───────────────────┼────────────┼───────────────────┤\n",
       "│ dense2 (\u001b[38;5;33mDense\u001b[0m)      │ (\u001b[38;5;45mNone\u001b[0m, \u001b[38;5;34m14\u001b[0m, \u001b[38;5;34m64\u001b[0m)    │      \u001b[38;5;34m8,256\u001b[0m │ bidirectional_7[\u001b[38;5;34m…\u001b[0m │\n",
       "├─────────────────────┼───────────────────┼────────────┼───────────────────┤\n",
       "│ ctc_loss (\u001b[38;5;33mCTCLayer\u001b[0m) │ (\u001b[38;5;45mNone\u001b[0m, \u001b[38;5;34m14\u001b[0m, \u001b[38;5;34m64\u001b[0m)    │          \u001b[38;5;34m0\u001b[0m │ label[\u001b[38;5;34m0\u001b[0m][\u001b[38;5;34m0\u001b[0m],      │\n",
       "│                     │                   │            │ dense2[\u001b[38;5;34m0\u001b[0m][\u001b[38;5;34m0\u001b[0m]      │\n",
       "└─────────────────────┴───────────────────┴────────────┴───────────────────┘\n"
      ]
     },
     "metadata": {},
     "output_type": "display_data"
    },
    {
     "data": {
      "text/html": [
       "<pre style=\"white-space:pre;overflow-x:auto;line-height:normal;font-family:Menlo,'DejaVu Sans Mono',consolas,'Courier New',monospace\"><span style=\"font-weight: bold\"> Total params: </span><span style=\"color: #00af00; text-decoration-color: #00af00\">438,336</span> (1.67 MB)\n",
       "</pre>\n"
      ],
      "text/plain": [
       "\u001b[1m Total params: \u001b[0m\u001b[38;5;34m438,336\u001b[0m (1.67 MB)\n"
      ]
     },
     "metadata": {},
     "output_type": "display_data"
    },
    {
     "data": {
      "text/html": [
       "<pre style=\"white-space:pre;overflow-x:auto;line-height:normal;font-family:Menlo,'DejaVu Sans Mono',consolas,'Courier New',monospace\"><span style=\"font-weight: bold\"> Trainable params: </span><span style=\"color: #00af00; text-decoration-color: #00af00\">438,336</span> (1.67 MB)\n",
       "</pre>\n"
      ],
      "text/plain": [
       "\u001b[1m Trainable params: \u001b[0m\u001b[38;5;34m438,336\u001b[0m (1.67 MB)\n"
      ]
     },
     "metadata": {},
     "output_type": "display_data"
    },
    {
     "data": {
      "text/html": [
       "<pre style=\"white-space:pre;overflow-x:auto;line-height:normal;font-family:Menlo,'DejaVu Sans Mono',consolas,'Courier New',monospace\"><span style=\"font-weight: bold\"> Non-trainable params: </span><span style=\"color: #00af00; text-decoration-color: #00af00\">0</span> (0.00 B)\n",
       "</pre>\n"
      ],
      "text/plain": [
       "\u001b[1m Non-trainable params: \u001b[0m\u001b[38;5;34m0\u001b[0m (0.00 B)\n"
      ]
     },
     "metadata": {},
     "output_type": "display_data"
    }
   ],
   "source": [
    "model3.summary()"
   ]
  },
  {
   "cell_type": "code",
   "execution_count": 79,
   "id": "ce247e0e",
   "metadata": {},
   "outputs": [],
   "source": [
    "model3.get_layer('dense2').trainable = True\n",
    "model3.get_layer('image').trainable = False\n",
    "model3.get_layer('Conv1').trainable = False\n",
    "model3.get_layer('Conv2').trainable = False\n",
    "model3.get_layer('Conv3').trainable = False\n",
    "model3.get_layer('pool1').trainable = False\n",
    "model3.get_layer('pool2').trainable = False\n",
    "model3.get_layer('pool3').trainable = False\n",
    "model3.get_layer('reshape').trainable = False\n",
    "model3.get_layer('dense1').trainable = False"
   ]
  },
  {
   "cell_type": "code",
   "execution_count": 80,
   "id": "6bcba974",
   "metadata": {},
   "outputs": [
    {
     "name": "stdout",
     "output_type": "stream",
     "text": [
      "Layer image: Trainable = False\n",
      "Layer Conv1: Trainable = False\n",
      "Layer pool1: Trainable = False\n",
      "Layer Conv2: Trainable = False\n",
      "Layer pool2: Trainable = False\n",
      "Layer Conv3: Trainable = False\n",
      "Layer pool3: Trainable = False\n",
      "Layer reshape: Trainable = False\n",
      "Layer dense1: Trainable = False\n",
      "Layer dropout_3: Trainable = True\n",
      "Layer bidirectional_6: Trainable = True\n",
      "Layer bidirectional_7: Trainable = True\n",
      "Layer label: Trainable = True\n",
      "Layer dense2: Trainable = True\n",
      "Layer ctc_loss: Trainable = True\n"
     ]
    }
   ],
   "source": [
    "for layer in model3.layers:\n",
    "    print(f\"Layer {layer.name}: Trainable = {layer.trainable}\")"
   ]
  },
  {
   "cell_type": "code",
   "execution_count": 81,
   "id": "68fb3c0e",
   "metadata": {},
   "outputs": [],
   "source": [
    "#model3.optimizer.learning_rate.assign(0.0001)"
   ]
  },
  {
   "cell_type": "code",
   "execution_count": 82,
   "id": "7cb0ee85",
   "metadata": {},
   "outputs": [
    {
     "name": "stdout",
     "output_type": "stream",
     "text": [
      "Epoch 1/10\n",
      "\u001b[1m517/518\u001b[0m \u001b[32m━━━━━━━━━━━━━━━━━━━\u001b[0m\u001b[37m━\u001b[0m \u001b[1m0s\u001b[0m 267ms/step - loss: 2901.5532\n",
      "Epoch 1: saving model to artifacts/models/crnn/crnn_synthdata_keras_8_11char_epoch_01.h5\n"
     ]
    },
    {
     "name": "stderr",
     "output_type": "stream",
     "text": [
      "WARNING:absl:You are saving your model as an HDF5 file via `model.save()` or `keras.saving.save_model(model)`. This file format is considered legacy. We recommend using instead the native Keras format, e.g. `model.save('my_model.keras')` or `keras.saving.save_model(model, 'my_model.keras')`. \n"
     ]
    },
    {
     "name": "stdout",
     "output_type": "stream",
     "text": [
      "\u001b[1m518/518\u001b[0m \u001b[32m━━━━━━━━━━━━━━━━━━━━\u001b[0m\u001b[37m\u001b[0m \u001b[1m159s\u001b[0m 297ms/step - loss: 2896.5420 - val_loss: 1039.0543\n",
      "Epoch 2/10\n",
      "\u001b[1m517/518\u001b[0m \u001b[32m━━━━━━━━━━━━━━━━━━━\u001b[0m\u001b[37m━\u001b[0m \u001b[1m0s\u001b[0m 282ms/step - loss: 1144.0358\n",
      "Epoch 2: saving model to artifacts/models/crnn/crnn_synthdata_keras_8_11char_epoch_02.h5\n"
     ]
    },
    {
     "name": "stderr",
     "output_type": "stream",
     "text": [
      "WARNING:absl:You are saving your model as an HDF5 file via `model.save()` or `keras.saving.save_model(model)`. This file format is considered legacy. We recommend using instead the native Keras format, e.g. `model.save('my_model.keras')` or `keras.saving.save_model(model, 'my_model.keras')`. \n"
     ]
    },
    {
     "name": "stdout",
     "output_type": "stream",
     "text": [
      "\u001b[1m518/518\u001b[0m \u001b[32m━━━━━━━━━━━━━━━━━━━━\u001b[0m\u001b[37m\u001b[0m \u001b[1m162s\u001b[0m 312ms/step - loss: 1143.9387 - val_loss: 988.1021\n",
      "Epoch 3/10\n",
      "\u001b[1m517/518\u001b[0m \u001b[32m━━━━━━━━━━━━━━━━━━━\u001b[0m\u001b[37m━\u001b[0m \u001b[1m0s\u001b[0m 285ms/step - loss: 1079.2516\n",
      "Epoch 3: saving model to artifacts/models/crnn/crnn_synthdata_keras_8_11char_epoch_03.h5\n"
     ]
    },
    {
     "name": "stderr",
     "output_type": "stream",
     "text": [
      "WARNING:absl:You are saving your model as an HDF5 file via `model.save()` or `keras.saving.save_model(model)`. This file format is considered legacy. We recommend using instead the native Keras format, e.g. `model.save('my_model.keras')` or `keras.saving.save_model(model, 'my_model.keras')`. \n"
     ]
    },
    {
     "name": "stdout",
     "output_type": "stream",
     "text": [
      "\u001b[1m518/518\u001b[0m \u001b[32m━━━━━━━━━━━━━━━━━━━━\u001b[0m\u001b[37m\u001b[0m \u001b[1m163s\u001b[0m 315ms/step - loss: 1079.1766 - val_loss: 952.4590\n",
      "Epoch 4/10\n",
      "\u001b[1m517/518\u001b[0m \u001b[32m━━━━━━━━━━━━━━━━━━━\u001b[0m\u001b[37m━\u001b[0m \u001b[1m0s\u001b[0m 288ms/step - loss: 1041.1305\n",
      "Epoch 4: saving model to artifacts/models/crnn/crnn_synthdata_keras_8_11char_epoch_04.h5\n"
     ]
    },
    {
     "name": "stderr",
     "output_type": "stream",
     "text": [
      "WARNING:absl:You are saving your model as an HDF5 file via `model.save()` or `keras.saving.save_model(model)`. This file format is considered legacy. We recommend using instead the native Keras format, e.g. `model.save('my_model.keras')` or `keras.saving.save_model(model, 'my_model.keras')`. \n"
     ]
    },
    {
     "name": "stdout",
     "output_type": "stream",
     "text": [
      "\u001b[1m518/518\u001b[0m \u001b[32m━━━━━━━━━━━━━━━━━━━━\u001b[0m\u001b[37m\u001b[0m \u001b[1m165s\u001b[0m 319ms/step - loss: 1041.0674 - val_loss: 933.2374\n",
      "Epoch 5/10\n",
      "\u001b[1m517/518\u001b[0m \u001b[32m━━━━━━━━━━━━━━━━━━━\u001b[0m\u001b[37m━\u001b[0m \u001b[1m0s\u001b[0m 289ms/step - loss: 1010.3211\n",
      "Epoch 5: saving model to artifacts/models/crnn/crnn_synthdata_keras_8_11char_epoch_05.h5\n"
     ]
    },
    {
     "name": "stderr",
     "output_type": "stream",
     "text": [
      "WARNING:absl:You are saving your model as an HDF5 file via `model.save()` or `keras.saving.save_model(model)`. This file format is considered legacy. We recommend using instead the native Keras format, e.g. `model.save('my_model.keras')` or `keras.saving.save_model(model, 'my_model.keras')`. \n"
     ]
    },
    {
     "name": "stdout",
     "output_type": "stream",
     "text": [
      "\u001b[1m518/518\u001b[0m \u001b[32m━━━━━━━━━━━━━━━━━━━━\u001b[0m\u001b[37m\u001b[0m \u001b[1m165s\u001b[0m 319ms/step - loss: 1010.2665 - val_loss: 919.7260\n",
      "Epoch 6/10\n",
      "\u001b[1m517/518\u001b[0m \u001b[32m━━━━━━━━━━━━━━━━━━━\u001b[0m\u001b[37m━\u001b[0m \u001b[1m0s\u001b[0m 290ms/step - loss: 990.9746\n",
      "Epoch 6: saving model to artifacts/models/crnn/crnn_synthdata_keras_8_11char_epoch_06.h5\n"
     ]
    },
    {
     "name": "stderr",
     "output_type": "stream",
     "text": [
      "WARNING:absl:You are saving your model as an HDF5 file via `model.save()` or `keras.saving.save_model(model)`. This file format is considered legacy. We recommend using instead the native Keras format, e.g. `model.save('my_model.keras')` or `keras.saving.save_model(model, 'my_model.keras')`. \n"
     ]
    },
    {
     "name": "stdout",
     "output_type": "stream",
     "text": [
      "\u001b[1m518/518\u001b[0m \u001b[32m━━━━━━━━━━━━━━━━━━━━\u001b[0m\u001b[37m\u001b[0m \u001b[1m166s\u001b[0m 321ms/step - loss: 990.9230 - val_loss: 909.1729\n",
      "Epoch 7/10\n",
      "\u001b[1m517/518\u001b[0m \u001b[32m━━━━━━━━━━━━━━━━━━━\u001b[0m\u001b[37m━\u001b[0m \u001b[1m0s\u001b[0m 290ms/step - loss: 974.8434\n",
      "Epoch 7: saving model to artifacts/models/crnn/crnn_synthdata_keras_8_11char_epoch_07.h5\n"
     ]
    },
    {
     "name": "stderr",
     "output_type": "stream",
     "text": [
      "WARNING:absl:You are saving your model as an HDF5 file via `model.save()` or `keras.saving.save_model(model)`. This file format is considered legacy. We recommend using instead the native Keras format, e.g. `model.save('my_model.keras')` or `keras.saving.save_model(model, 'my_model.keras')`. \n"
     ]
    },
    {
     "name": "stdout",
     "output_type": "stream",
     "text": [
      "\u001b[1m518/518\u001b[0m \u001b[32m━━━━━━━━━━━━━━━━━━━━\u001b[0m\u001b[37m\u001b[0m \u001b[1m166s\u001b[0m 320ms/step - loss: 974.7917 - val_loss: 897.7578\n",
      "Epoch 8/10\n",
      "\u001b[1m517/518\u001b[0m \u001b[32m━━━━━━━━━━━━━━━━━━━\u001b[0m\u001b[37m━\u001b[0m \u001b[1m0s\u001b[0m 291ms/step - loss: 958.4795\n",
      "Epoch 8: saving model to artifacts/models/crnn/crnn_synthdata_keras_8_11char_epoch_08.h5\n"
     ]
    },
    {
     "name": "stderr",
     "output_type": "stream",
     "text": [
      "WARNING:absl:You are saving your model as an HDF5 file via `model.save()` or `keras.saving.save_model(model)`. This file format is considered legacy. We recommend using instead the native Keras format, e.g. `model.save('my_model.keras')` or `keras.saving.save_model(model, 'my_model.keras')`. \n"
     ]
    },
    {
     "name": "stdout",
     "output_type": "stream",
     "text": [
      "\u001b[1m518/518\u001b[0m \u001b[32m━━━━━━━━━━━━━━━━━━━━\u001b[0m\u001b[37m\u001b[0m \u001b[1m167s\u001b[0m 321ms/step - loss: 958.4293 - val_loss: 882.0702\n",
      "Epoch 9/10\n",
      "\u001b[1m517/518\u001b[0m \u001b[32m━━━━━━━━━━━━━━━━━━━\u001b[0m\u001b[37m━\u001b[0m \u001b[1m0s\u001b[0m 291ms/step - loss: 937.9359\n",
      "Epoch 9: saving model to artifacts/models/crnn/crnn_synthdata_keras_8_11char_epoch_09.h5\n"
     ]
    },
    {
     "name": "stderr",
     "output_type": "stream",
     "text": [
      "WARNING:absl:You are saving your model as an HDF5 file via `model.save()` or `keras.saving.save_model(model)`. This file format is considered legacy. We recommend using instead the native Keras format, e.g. `model.save('my_model.keras')` or `keras.saving.save_model(model, 'my_model.keras')`. \n"
     ]
    },
    {
     "name": "stdout",
     "output_type": "stream",
     "text": [
      "\u001b[1m518/518\u001b[0m \u001b[32m━━━━━━━━━━━━━━━━━━━━\u001b[0m\u001b[37m\u001b[0m \u001b[1m167s\u001b[0m 322ms/step - loss: 937.9042 - val_loss: 868.4756\n",
      "Epoch 10/10\n",
      "\u001b[1m517/518\u001b[0m \u001b[32m━━━━━━━━━━━━━━━━━━━\u001b[0m\u001b[37m━\u001b[0m \u001b[1m0s\u001b[0m 291ms/step - loss: 926.2977\n",
      "Epoch 10: saving model to artifacts/models/crnn/crnn_synthdata_keras_8_11char_epoch_10.h5\n"
     ]
    },
    {
     "name": "stderr",
     "output_type": "stream",
     "text": [
      "WARNING:absl:You are saving your model as an HDF5 file via `model.save()` or `keras.saving.save_model(model)`. This file format is considered legacy. We recommend using instead the native Keras format, e.g. `model.save('my_model.keras')` or `keras.saving.save_model(model, 'my_model.keras')`. \n"
     ]
    },
    {
     "name": "stdout",
     "output_type": "stream",
     "text": [
      "\u001b[1m518/518\u001b[0m \u001b[32m━━━━━━━━━━━━━━━━━━━━\u001b[0m\u001b[37m\u001b[0m \u001b[1m167s\u001b[0m 322ms/step - loss: 926.2585 - val_loss: 865.8621\n",
      "Restoring model weights from the end of the best epoch: 10.\n"
     ]
    },
    {
     "data": {
      "text/plain": [
       "<keras.src.callbacks.history.History at 0x283715f8800>"
      ]
     },
     "execution_count": 82,
     "metadata": {},
     "output_type": "execute_result"
    }
   ],
   "source": [
    "model3.fit(\n",
    "    train_dataset,\n",
    "    validation_data=validation_dataset,\n",
    "    epochs=10,\n",
    "    callbacks=callbacks\n",
    ")"
   ]
  },
  {
   "cell_type": "markdown",
   "id": "e73c117b",
   "metadata": {},
   "source": [
    "Training whole model (all layers) with little penalty on blank index"
   ]
  },
  {
   "cell_type": "code",
   "execution_count": 42,
   "id": "fcd19cad",
   "metadata": {},
   "outputs": [],
   "source": [
    "model4=build_model()\n",
    "model4.load_weights(\"artifacts/models/crnn/crnn_synthdata_keras_9_11char_epoch_07.h5\")"
   ]
  },
  {
   "cell_type": "code",
   "execution_count": 43,
   "id": "3b9d8d82",
   "metadata": {},
   "outputs": [
    {
     "name": "stdout",
     "output_type": "stream",
     "text": [
      "Layer image: Trainable = True\n",
      "Layer Conv1: Trainable = True\n",
      "Layer pool1: Trainable = True\n",
      "Layer Conv2: Trainable = True\n",
      "Layer pool2: Trainable = True\n",
      "Layer Conv3: Trainable = True\n",
      "Layer pool3: Trainable = True\n",
      "Layer Conv4: Trainable = True\n",
      "Layer pool4: Trainable = True\n",
      "Layer reshape: Trainable = True\n",
      "Layer dense1: Trainable = True\n",
      "Layer dropout_1: Trainable = True\n",
      "Layer bidirectional_2: Trainable = True\n",
      "Layer bidirectional_3: Trainable = True\n",
      "Layer label: Trainable = True\n",
      "Layer dense2: Trainable = True\n",
      "Layer ctc_loss: Trainable = True\n"
     ]
    }
   ],
   "source": [
    "for layer in model4.layers:\n",
    "    print(f\"Layer {layer.name}: Trainable = {layer.trainable}\")"
   ]
  },
  {
   "cell_type": "code",
   "execution_count": 58,
   "id": "641eb2c0",
   "metadata": {},
   "outputs": [
    {
     "data": {
      "text/plain": [
       "<tf.Tensor: shape=(), dtype=float32, numpy=0.0005000000237487257>"
      ]
     },
     "execution_count": 58,
     "metadata": {},
     "output_type": "execute_result"
    }
   ],
   "source": [
    "model4.optimizer.learning_rate.assign(0.0005)"
   ]
  },
  {
   "cell_type": "code",
   "execution_count": 59,
   "id": "a6c258fc",
   "metadata": {},
   "outputs": [
    {
     "name": "stdout",
     "output_type": "stream",
     "text": [
      "Epoch 1/8\n",
      "\u001b[1m518/518\u001b[0m \u001b[32m━━━━━━━━━━━━━━━━━━━━\u001b[0m\u001b[37m\u001b[0m \u001b[1m0s\u001b[0m 463ms/step - loss: 364.3713\n",
      "Epoch 1: saving model to artifacts/models/crnn/crnn_synthdata_keras_9_11char_epoch_01.h5\n"
     ]
    },
    {
     "name": "stderr",
     "output_type": "stream",
     "text": [
      "WARNING:absl:You are saving your model as an HDF5 file via `model.save()` or `keras.saving.save_model(model)`. This file format is considered legacy. We recommend using instead the native Keras format, e.g. `model.save('my_model.keras')` or `keras.saving.save_model(model, 'my_model.keras')`. \n"
     ]
    },
    {
     "name": "stdout",
     "output_type": "stream",
     "text": [
      "\u001b[1m518/518\u001b[0m \u001b[32m━━━━━━━━━━━━━━━━━━━━\u001b[0m\u001b[37m\u001b[0m \u001b[1m259s\u001b[0m 499ms/step - loss: 364.3635 - val_loss: 364.7296\n",
      "Epoch 2/8\n",
      "\u001b[1m518/518\u001b[0m \u001b[32m━━━━━━━━━━━━━━━━━━━━\u001b[0m\u001b[37m\u001b[0m \u001b[1m0s\u001b[0m 469ms/step - loss: 355.2130\n",
      "Epoch 2: saving model to artifacts/models/crnn/crnn_synthdata_keras_9_11char_epoch_02.h5\n"
     ]
    },
    {
     "name": "stderr",
     "output_type": "stream",
     "text": [
      "WARNING:absl:You are saving your model as an HDF5 file via `model.save()` or `keras.saving.save_model(model)`. This file format is considered legacy. We recommend using instead the native Keras format, e.g. `model.save('my_model.keras')` or `keras.saving.save_model(model, 'my_model.keras')`. \n"
     ]
    },
    {
     "name": "stdout",
     "output_type": "stream",
     "text": [
      "\u001b[1m518/518\u001b[0m \u001b[32m━━━━━━━━━━━━━━━━━━━━\u001b[0m\u001b[37m\u001b[0m \u001b[1m262s\u001b[0m 506ms/step - loss: 355.2093 - val_loss: 358.1374\n",
      "Epoch 3/8\n",
      "\u001b[1m518/518\u001b[0m \u001b[32m━━━━━━━━━━━━━━━━━━━━\u001b[0m\u001b[37m\u001b[0m \u001b[1m0s\u001b[0m 506ms/step - loss: 347.8108\n",
      "Epoch 3: saving model to artifacts/models/crnn/crnn_synthdata_keras_9_11char_epoch_03.h5\n"
     ]
    },
    {
     "name": "stderr",
     "output_type": "stream",
     "text": [
      "WARNING:absl:You are saving your model as an HDF5 file via `model.save()` or `keras.saving.save_model(model)`. This file format is considered legacy. We recommend using instead the native Keras format, e.g. `model.save('my_model.keras')` or `keras.saving.save_model(model, 'my_model.keras')`. \n"
     ]
    },
    {
     "name": "stdout",
     "output_type": "stream",
     "text": [
      "\u001b[1m518/518\u001b[0m \u001b[32m━━━━━━━━━━━━━━━━━━━━\u001b[0m\u001b[37m\u001b[0m \u001b[1m282s\u001b[0m 543ms/step - loss: 347.8052 - val_loss: 359.1315\n",
      "Epoch 4/8\n",
      "\u001b[1m518/518\u001b[0m \u001b[32m━━━━━━━━━━━━━━━━━━━━\u001b[0m\u001b[37m\u001b[0m \u001b[1m0s\u001b[0m 485ms/step - loss: 339.5560\n",
      "Epoch 4: saving model to artifacts/models/crnn/crnn_synthdata_keras_9_11char_epoch_04.h5\n"
     ]
    },
    {
     "name": "stderr",
     "output_type": "stream",
     "text": [
      "WARNING:absl:You are saving your model as an HDF5 file via `model.save()` or `keras.saving.save_model(model)`. This file format is considered legacy. We recommend using instead the native Keras format, e.g. `model.save('my_model.keras')` or `keras.saving.save_model(model, 'my_model.keras')`. \n"
     ]
    },
    {
     "name": "stdout",
     "output_type": "stream",
     "text": [
      "\u001b[1m518/518\u001b[0m \u001b[32m━━━━━━━━━━━━━━━━━━━━\u001b[0m\u001b[37m\u001b[0m \u001b[1m271s\u001b[0m 523ms/step - loss: 339.5572 - val_loss: 357.6390\n",
      "Epoch 5/8\n",
      "\u001b[1m518/518\u001b[0m \u001b[32m━━━━━━━━━━━━━━━━━━━━\u001b[0m\u001b[37m\u001b[0m \u001b[1m0s\u001b[0m 500ms/step - loss: 333.4407\n",
      "Epoch 5: saving model to artifacts/models/crnn/crnn_synthdata_keras_9_11char_epoch_05.h5\n"
     ]
    },
    {
     "name": "stderr",
     "output_type": "stream",
     "text": [
      "WARNING:absl:You are saving your model as an HDF5 file via `model.save()` or `keras.saving.save_model(model)`. This file format is considered legacy. We recommend using instead the native Keras format, e.g. `model.save('my_model.keras')` or `keras.saving.save_model(model, 'my_model.keras')`. \n"
     ]
    },
    {
     "name": "stdout",
     "output_type": "stream",
     "text": [
      "\u001b[1m518/518\u001b[0m \u001b[32m━━━━━━━━━━━━━━━━━━━━\u001b[0m\u001b[37m\u001b[0m \u001b[1m280s\u001b[0m 540ms/step - loss: 333.4406 - val_loss: 362.3757\n",
      "Epoch 6/8\n",
      "\u001b[1m518/518\u001b[0m \u001b[32m━━━━━━━━━━━━━━━━━━━━\u001b[0m\u001b[37m\u001b[0m \u001b[1m0s\u001b[0m 497ms/step - loss: 330.3593\n",
      "Epoch 6: saving model to artifacts/models/crnn/crnn_synthdata_keras_9_11char_epoch_06.h5\n"
     ]
    },
    {
     "name": "stderr",
     "output_type": "stream",
     "text": [
      "WARNING:absl:You are saving your model as an HDF5 file via `model.save()` or `keras.saving.save_model(model)`. This file format is considered legacy. We recommend using instead the native Keras format, e.g. `model.save('my_model.keras')` or `keras.saving.save_model(model, 'my_model.keras')`. \n"
     ]
    },
    {
     "name": "stdout",
     "output_type": "stream",
     "text": [
      "\u001b[1m518/518\u001b[0m \u001b[32m━━━━━━━━━━━━━━━━━━━━\u001b[0m\u001b[37m\u001b[0m \u001b[1m278s\u001b[0m 536ms/step - loss: 330.3589 - val_loss: 360.4991\n",
      "Epoch 7/8\n",
      "\u001b[1m518/518\u001b[0m \u001b[32m━━━━━━━━━━━━━━━━━━━━\u001b[0m\u001b[37m\u001b[0m \u001b[1m0s\u001b[0m 497ms/step - loss: 324.9455\n",
      "Epoch 7: saving model to artifacts/models/crnn/crnn_synthdata_keras_9_11char_epoch_07.h5\n"
     ]
    },
    {
     "name": "stderr",
     "output_type": "stream",
     "text": [
      "WARNING:absl:You are saving your model as an HDF5 file via `model.save()` or `keras.saving.save_model(model)`. This file format is considered legacy. We recommend using instead the native Keras format, e.g. `model.save('my_model.keras')` or `keras.saving.save_model(model, 'my_model.keras')`. \n"
     ]
    },
    {
     "name": "stdout",
     "output_type": "stream",
     "text": [
      "\u001b[1m518/518\u001b[0m \u001b[32m━━━━━━━━━━━━━━━━━━━━\u001b[0m\u001b[37m\u001b[0m \u001b[1m278s\u001b[0m 536ms/step - loss: 324.9448 - val_loss: 361.4858\n",
      "Epoch 8/8\n",
      "\u001b[1m518/518\u001b[0m \u001b[32m━━━━━━━━━━━━━━━━━━━━\u001b[0m\u001b[37m\u001b[0m \u001b[1m0s\u001b[0m 495ms/step - loss: 320.4825\n",
      "Epoch 8: saving model to artifacts/models/crnn/crnn_synthdata_keras_9_11char_epoch_08.h5\n"
     ]
    },
    {
     "name": "stderr",
     "output_type": "stream",
     "text": [
      "WARNING:absl:You are saving your model as an HDF5 file via `model.save()` or `keras.saving.save_model(model)`. This file format is considered legacy. We recommend using instead the native Keras format, e.g. `model.save('my_model.keras')` or `keras.saving.save_model(model, 'my_model.keras')`. \n"
     ]
    },
    {
     "name": "stdout",
     "output_type": "stream",
     "text": [
      "\u001b[1m518/518\u001b[0m \u001b[32m━━━━━━━━━━━━━━━━━━━━\u001b[0m\u001b[37m\u001b[0m \u001b[1m277s\u001b[0m 534ms/step - loss: 320.4812 - val_loss: 362.0264\n",
      "Epoch 8: early stopping\n",
      "Restoring model weights from the end of the best epoch: 4.\n"
     ]
    },
    {
     "data": {
      "text/plain": [
       "<keras.src.callbacks.history.History at 0x1f06009be60>"
      ]
     },
     "execution_count": 59,
     "metadata": {},
     "output_type": "execute_result"
    }
   ],
   "source": [
    "model4.fit(\n",
    "    train_dataset,\n",
    "    validation_data=validation_dataset,\n",
    "    epochs=8,\n",
    "    callbacks=callbacks\n",
    ")"
   ]
  },
  {
   "cell_type": "markdown",
   "id": "c2471d54",
   "metadata": {},
   "source": [
    "# **Inference**"
   ]
  },
  {
   "cell_type": "code",
   "execution_count": 60,
   "id": "93929255",
   "metadata": {},
   "outputs": [],
   "source": [
    "def ctc_decode(y_pred, input_length, greedy=True, beam_width=100, top_paths=1):\n",
    "    input_shape = ops.shape(y_pred)\n",
    "    num_samples, num_steps = input_shape[0], input_shape[1]\n",
    "    y_pred = ops.log(ops.transpose(y_pred, axes=[1, 0, 2]) + keras.backend.epsilon())\n",
    "    input_length = ops.cast(input_length, dtype=\"int32\")\n",
    "\n",
    "    if greedy:\n",
    "        (decoded, log_prob) = tf.nn.ctc_greedy_decoder(\n",
    "            inputs=y_pred, sequence_length=input_length\n",
    "        )\n",
    "    else:\n",
    "        (decoded, log_prob) = tf.compat.v1.nn.ctc_beam_search_decoder(\n",
    "            inputs=y_pred,\n",
    "            sequence_length=input_length,\n",
    "            beam_width=beam_width,\n",
    "            top_paths=top_paths,\n",
    "        )\n",
    "    decoded_dense = []\n",
    "    for st in decoded:\n",
    "        st = tf.SparseTensor(st.indices, st.values, (num_samples, num_steps))\n",
    "        decoded_dense.append(tf.sparse.to_dense(sp_input=st, default_value=-1))\n",
    "    return (decoded_dense, log_prob)"
   ]
  },
  {
   "cell_type": "code",
   "execution_count": 61,
   "id": "f2159bdf",
   "metadata": {},
   "outputs": [
    {
     "data": {
      "text/html": [
       "<pre style=\"white-space:pre;overflow-x:auto;line-height:normal;font-family:Menlo,'DejaVu Sans Mono',consolas,'Courier New',monospace\"><span style=\"font-weight: bold\">Model: \"functional_1\"</span>\n",
       "</pre>\n"
      ],
      "text/plain": [
       "\u001b[1mModel: \"functional_1\"\u001b[0m\n"
      ]
     },
     "metadata": {},
     "output_type": "display_data"
    },
    {
     "data": {
      "text/html": [
       "<pre style=\"white-space:pre;overflow-x:auto;line-height:normal;font-family:Menlo,'DejaVu Sans Mono',consolas,'Courier New',monospace\">┏━━━━━━━━━━━━━━━━━━━━━━━━━━━━━━━━━┳━━━━━━━━━━━━━━━━━━━━━━━━┳━━━━━━━━━━━━━━━┓\n",
       "┃<span style=\"font-weight: bold\"> Layer (type)                    </span>┃<span style=\"font-weight: bold\"> Output Shape           </span>┃<span style=\"font-weight: bold\">       Param # </span>┃\n",
       "┡━━━━━━━━━━━━━━━━━━━━━━━━━━━━━━━━━╇━━━━━━━━━━━━━━━━━━━━━━━━╇━━━━━━━━━━━━━━━┩\n",
       "│ image (<span style=\"color: #0087ff; text-decoration-color: #0087ff\">InputLayer</span>)              │ (<span style=\"color: #00d7ff; text-decoration-color: #00d7ff\">None</span>, <span style=\"color: #00af00; text-decoration-color: #00af00\">224</span>, <span style=\"color: #00af00; text-decoration-color: #00af00\">56</span>, <span style=\"color: #00af00; text-decoration-color: #00af00\">1</span>)     │             <span style=\"color: #00af00; text-decoration-color: #00af00\">0</span> │\n",
       "├─────────────────────────────────┼────────────────────────┼───────────────┤\n",
       "│ Conv1 (<span style=\"color: #0087ff; text-decoration-color: #0087ff\">Conv2D</span>)                  │ (<span style=\"color: #00d7ff; text-decoration-color: #00d7ff\">None</span>, <span style=\"color: #00af00; text-decoration-color: #00af00\">224</span>, <span style=\"color: #00af00; text-decoration-color: #00af00\">56</span>, <span style=\"color: #00af00; text-decoration-color: #00af00\">32</span>)    │           <span style=\"color: #00af00; text-decoration-color: #00af00\">320</span> │\n",
       "├─────────────────────────────────┼────────────────────────┼───────────────┤\n",
       "│ pool1 (<span style=\"color: #0087ff; text-decoration-color: #0087ff\">MaxPooling2D</span>)            │ (<span style=\"color: #00d7ff; text-decoration-color: #00d7ff\">None</span>, <span style=\"color: #00af00; text-decoration-color: #00af00\">112</span>, <span style=\"color: #00af00; text-decoration-color: #00af00\">28</span>, <span style=\"color: #00af00; text-decoration-color: #00af00\">32</span>)    │             <span style=\"color: #00af00; text-decoration-color: #00af00\">0</span> │\n",
       "├─────────────────────────────────┼────────────────────────┼───────────────┤\n",
       "│ Conv2 (<span style=\"color: #0087ff; text-decoration-color: #0087ff\">Conv2D</span>)                  │ (<span style=\"color: #00d7ff; text-decoration-color: #00d7ff\">None</span>, <span style=\"color: #00af00; text-decoration-color: #00af00\">112</span>, <span style=\"color: #00af00; text-decoration-color: #00af00\">28</span>, <span style=\"color: #00af00; text-decoration-color: #00af00\">64</span>)    │        <span style=\"color: #00af00; text-decoration-color: #00af00\">18,496</span> │\n",
       "├─────────────────────────────────┼────────────────────────┼───────────────┤\n",
       "│ pool2 (<span style=\"color: #0087ff; text-decoration-color: #0087ff\">MaxPooling2D</span>)            │ (<span style=\"color: #00d7ff; text-decoration-color: #00d7ff\">None</span>, <span style=\"color: #00af00; text-decoration-color: #00af00\">56</span>, <span style=\"color: #00af00; text-decoration-color: #00af00\">14</span>, <span style=\"color: #00af00; text-decoration-color: #00af00\">64</span>)     │             <span style=\"color: #00af00; text-decoration-color: #00af00\">0</span> │\n",
       "├─────────────────────────────────┼────────────────────────┼───────────────┤\n",
       "│ Conv3 (<span style=\"color: #0087ff; text-decoration-color: #0087ff\">Conv2D</span>)                  │ (<span style=\"color: #00d7ff; text-decoration-color: #00d7ff\">None</span>, <span style=\"color: #00af00; text-decoration-color: #00af00\">56</span>, <span style=\"color: #00af00; text-decoration-color: #00af00\">14</span>, <span style=\"color: #00af00; text-decoration-color: #00af00\">64</span>)     │        <span style=\"color: #00af00; text-decoration-color: #00af00\">36,928</span> │\n",
       "├─────────────────────────────────┼────────────────────────┼───────────────┤\n",
       "│ pool3 (<span style=\"color: #0087ff; text-decoration-color: #0087ff\">MaxPooling2D</span>)            │ (<span style=\"color: #00d7ff; text-decoration-color: #00d7ff\">None</span>, <span style=\"color: #00af00; text-decoration-color: #00af00\">28</span>, <span style=\"color: #00af00; text-decoration-color: #00af00\">7</span>, <span style=\"color: #00af00; text-decoration-color: #00af00\">64</span>)      │             <span style=\"color: #00af00; text-decoration-color: #00af00\">0</span> │\n",
       "├─────────────────────────────────┼────────────────────────┼───────────────┤\n",
       "│ Conv4 (<span style=\"color: #0087ff; text-decoration-color: #0087ff\">Conv2D</span>)                  │ (<span style=\"color: #00d7ff; text-decoration-color: #00d7ff\">None</span>, <span style=\"color: #00af00; text-decoration-color: #00af00\">28</span>, <span style=\"color: #00af00; text-decoration-color: #00af00\">7</span>, <span style=\"color: #00af00; text-decoration-color: #00af00\">64</span>)      │        <span style=\"color: #00af00; text-decoration-color: #00af00\">36,928</span> │\n",
       "├─────────────────────────────────┼────────────────────────┼───────────────┤\n",
       "│ pool4 (<span style=\"color: #0087ff; text-decoration-color: #0087ff\">MaxPooling2D</span>)            │ (<span style=\"color: #00d7ff; text-decoration-color: #00d7ff\">None</span>, <span style=\"color: #00af00; text-decoration-color: #00af00\">14</span>, <span style=\"color: #00af00; text-decoration-color: #00af00\">3</span>, <span style=\"color: #00af00; text-decoration-color: #00af00\">64</span>)      │             <span style=\"color: #00af00; text-decoration-color: #00af00\">0</span> │\n",
       "├─────────────────────────────────┼────────────────────────┼───────────────┤\n",
       "│ reshape (<span style=\"color: #0087ff; text-decoration-color: #0087ff\">Reshape</span>)               │ (<span style=\"color: #00d7ff; text-decoration-color: #00d7ff\">None</span>, <span style=\"color: #00af00; text-decoration-color: #00af00\">14</span>, <span style=\"color: #00af00; text-decoration-color: #00af00\">192</span>)        │             <span style=\"color: #00af00; text-decoration-color: #00af00\">0</span> │\n",
       "├─────────────────────────────────┼────────────────────────┼───────────────┤\n",
       "│ dense1 (<span style=\"color: #0087ff; text-decoration-color: #0087ff\">Dense</span>)                  │ (<span style=\"color: #00d7ff; text-decoration-color: #00d7ff\">None</span>, <span style=\"color: #00af00; text-decoration-color: #00af00\">14</span>, <span style=\"color: #00af00; text-decoration-color: #00af00\">64</span>)         │        <span style=\"color: #00af00; text-decoration-color: #00af00\">12,352</span> │\n",
       "├─────────────────────────────────┼────────────────────────┼───────────────┤\n",
       "│ dropout_1 (<span style=\"color: #0087ff; text-decoration-color: #0087ff\">Dropout</span>)             │ (<span style=\"color: #00d7ff; text-decoration-color: #00d7ff\">None</span>, <span style=\"color: #00af00; text-decoration-color: #00af00\">14</span>, <span style=\"color: #00af00; text-decoration-color: #00af00\">64</span>)         │             <span style=\"color: #00af00; text-decoration-color: #00af00\">0</span> │\n",
       "├─────────────────────────────────┼────────────────────────┼───────────────┤\n",
       "│ bidirectional_2 (<span style=\"color: #0087ff; text-decoration-color: #0087ff\">Bidirectional</span>) │ (<span style=\"color: #00d7ff; text-decoration-color: #00d7ff\">None</span>, <span style=\"color: #00af00; text-decoration-color: #00af00\">14</span>, <span style=\"color: #00af00; text-decoration-color: #00af00\">256</span>)        │       <span style=\"color: #00af00; text-decoration-color: #00af00\">197,632</span> │\n",
       "├─────────────────────────────────┼────────────────────────┼───────────────┤\n",
       "│ bidirectional_3 (<span style=\"color: #0087ff; text-decoration-color: #0087ff\">Bidirectional</span>) │ (<span style=\"color: #00d7ff; text-decoration-color: #00d7ff\">None</span>, <span style=\"color: #00af00; text-decoration-color: #00af00\">14</span>, <span style=\"color: #00af00; text-decoration-color: #00af00\">128</span>)        │       <span style=\"color: #00af00; text-decoration-color: #00af00\">164,352</span> │\n",
       "├─────────────────────────────────┼────────────────────────┼───────────────┤\n",
       "│ dense2 (<span style=\"color: #0087ff; text-decoration-color: #0087ff\">Dense</span>)                  │ (<span style=\"color: #00d7ff; text-decoration-color: #00d7ff\">None</span>, <span style=\"color: #00af00; text-decoration-color: #00af00\">14</span>, <span style=\"color: #00af00; text-decoration-color: #00af00\">64</span>)         │         <span style=\"color: #00af00; text-decoration-color: #00af00\">8,256</span> │\n",
       "└─────────────────────────────────┴────────────────────────┴───────────────┘\n",
       "</pre>\n"
      ],
      "text/plain": [
       "┏━━━━━━━━━━━━━━━━━━━━━━━━━━━━━━━━━┳━━━━━━━━━━━━━━━━━━━━━━━━┳━━━━━━━━━━━━━━━┓\n",
       "┃\u001b[1m \u001b[0m\u001b[1mLayer (type)                   \u001b[0m\u001b[1m \u001b[0m┃\u001b[1m \u001b[0m\u001b[1mOutput Shape          \u001b[0m\u001b[1m \u001b[0m┃\u001b[1m \u001b[0m\u001b[1m      Param #\u001b[0m\u001b[1m \u001b[0m┃\n",
       "┡━━━━━━━━━━━━━━━━━━━━━━━━━━━━━━━━━╇━━━━━━━━━━━━━━━━━━━━━━━━╇━━━━━━━━━━━━━━━┩\n",
       "│ image (\u001b[38;5;33mInputLayer\u001b[0m)              │ (\u001b[38;5;45mNone\u001b[0m, \u001b[38;5;34m224\u001b[0m, \u001b[38;5;34m56\u001b[0m, \u001b[38;5;34m1\u001b[0m)     │             \u001b[38;5;34m0\u001b[0m │\n",
       "├─────────────────────────────────┼────────────────────────┼───────────────┤\n",
       "│ Conv1 (\u001b[38;5;33mConv2D\u001b[0m)                  │ (\u001b[38;5;45mNone\u001b[0m, \u001b[38;5;34m224\u001b[0m, \u001b[38;5;34m56\u001b[0m, \u001b[38;5;34m32\u001b[0m)    │           \u001b[38;5;34m320\u001b[0m │\n",
       "├─────────────────────────────────┼────────────────────────┼───────────────┤\n",
       "│ pool1 (\u001b[38;5;33mMaxPooling2D\u001b[0m)            │ (\u001b[38;5;45mNone\u001b[0m, \u001b[38;5;34m112\u001b[0m, \u001b[38;5;34m28\u001b[0m, \u001b[38;5;34m32\u001b[0m)    │             \u001b[38;5;34m0\u001b[0m │\n",
       "├─────────────────────────────────┼────────────────────────┼───────────────┤\n",
       "│ Conv2 (\u001b[38;5;33mConv2D\u001b[0m)                  │ (\u001b[38;5;45mNone\u001b[0m, \u001b[38;5;34m112\u001b[0m, \u001b[38;5;34m28\u001b[0m, \u001b[38;5;34m64\u001b[0m)    │        \u001b[38;5;34m18,496\u001b[0m │\n",
       "├─────────────────────────────────┼────────────────────────┼───────────────┤\n",
       "│ pool2 (\u001b[38;5;33mMaxPooling2D\u001b[0m)            │ (\u001b[38;5;45mNone\u001b[0m, \u001b[38;5;34m56\u001b[0m, \u001b[38;5;34m14\u001b[0m, \u001b[38;5;34m64\u001b[0m)     │             \u001b[38;5;34m0\u001b[0m │\n",
       "├─────────────────────────────────┼────────────────────────┼───────────────┤\n",
       "│ Conv3 (\u001b[38;5;33mConv2D\u001b[0m)                  │ (\u001b[38;5;45mNone\u001b[0m, \u001b[38;5;34m56\u001b[0m, \u001b[38;5;34m14\u001b[0m, \u001b[38;5;34m64\u001b[0m)     │        \u001b[38;5;34m36,928\u001b[0m │\n",
       "├─────────────────────────────────┼────────────────────────┼───────────────┤\n",
       "│ pool3 (\u001b[38;5;33mMaxPooling2D\u001b[0m)            │ (\u001b[38;5;45mNone\u001b[0m, \u001b[38;5;34m28\u001b[0m, \u001b[38;5;34m7\u001b[0m, \u001b[38;5;34m64\u001b[0m)      │             \u001b[38;5;34m0\u001b[0m │\n",
       "├─────────────────────────────────┼────────────────────────┼───────────────┤\n",
       "│ Conv4 (\u001b[38;5;33mConv2D\u001b[0m)                  │ (\u001b[38;5;45mNone\u001b[0m, \u001b[38;5;34m28\u001b[0m, \u001b[38;5;34m7\u001b[0m, \u001b[38;5;34m64\u001b[0m)      │        \u001b[38;5;34m36,928\u001b[0m │\n",
       "├─────────────────────────────────┼────────────────────────┼───────────────┤\n",
       "│ pool4 (\u001b[38;5;33mMaxPooling2D\u001b[0m)            │ (\u001b[38;5;45mNone\u001b[0m, \u001b[38;5;34m14\u001b[0m, \u001b[38;5;34m3\u001b[0m, \u001b[38;5;34m64\u001b[0m)      │             \u001b[38;5;34m0\u001b[0m │\n",
       "├─────────────────────────────────┼────────────────────────┼───────────────┤\n",
       "│ reshape (\u001b[38;5;33mReshape\u001b[0m)               │ (\u001b[38;5;45mNone\u001b[0m, \u001b[38;5;34m14\u001b[0m, \u001b[38;5;34m192\u001b[0m)        │             \u001b[38;5;34m0\u001b[0m │\n",
       "├─────────────────────────────────┼────────────────────────┼───────────────┤\n",
       "│ dense1 (\u001b[38;5;33mDense\u001b[0m)                  │ (\u001b[38;5;45mNone\u001b[0m, \u001b[38;5;34m14\u001b[0m, \u001b[38;5;34m64\u001b[0m)         │        \u001b[38;5;34m12,352\u001b[0m │\n",
       "├─────────────────────────────────┼────────────────────────┼───────────────┤\n",
       "│ dropout_1 (\u001b[38;5;33mDropout\u001b[0m)             │ (\u001b[38;5;45mNone\u001b[0m, \u001b[38;5;34m14\u001b[0m, \u001b[38;5;34m64\u001b[0m)         │             \u001b[38;5;34m0\u001b[0m │\n",
       "├─────────────────────────────────┼────────────────────────┼───────────────┤\n",
       "│ bidirectional_2 (\u001b[38;5;33mBidirectional\u001b[0m) │ (\u001b[38;5;45mNone\u001b[0m, \u001b[38;5;34m14\u001b[0m, \u001b[38;5;34m256\u001b[0m)        │       \u001b[38;5;34m197,632\u001b[0m │\n",
       "├─────────────────────────────────┼────────────────────────┼───────────────┤\n",
       "│ bidirectional_3 (\u001b[38;5;33mBidirectional\u001b[0m) │ (\u001b[38;5;45mNone\u001b[0m, \u001b[38;5;34m14\u001b[0m, \u001b[38;5;34m128\u001b[0m)        │       \u001b[38;5;34m164,352\u001b[0m │\n",
       "├─────────────────────────────────┼────────────────────────┼───────────────┤\n",
       "│ dense2 (\u001b[38;5;33mDense\u001b[0m)                  │ (\u001b[38;5;45mNone\u001b[0m, \u001b[38;5;34m14\u001b[0m, \u001b[38;5;34m64\u001b[0m)         │         \u001b[38;5;34m8,256\u001b[0m │\n",
       "└─────────────────────────────────┴────────────────────────┴───────────────┘\n"
      ]
     },
     "metadata": {},
     "output_type": "display_data"
    },
    {
     "data": {
      "text/html": [
       "<pre style=\"white-space:pre;overflow-x:auto;line-height:normal;font-family:Menlo,'DejaVu Sans Mono',consolas,'Courier New',monospace\"><span style=\"font-weight: bold\"> Total params: </span><span style=\"color: #00af00; text-decoration-color: #00af00\">475,264</span> (1.81 MB)\n",
       "</pre>\n"
      ],
      "text/plain": [
       "\u001b[1m Total params: \u001b[0m\u001b[38;5;34m475,264\u001b[0m (1.81 MB)\n"
      ]
     },
     "metadata": {},
     "output_type": "display_data"
    },
    {
     "data": {
      "text/html": [
       "<pre style=\"white-space:pre;overflow-x:auto;line-height:normal;font-family:Menlo,'DejaVu Sans Mono',consolas,'Courier New',monospace\"><span style=\"font-weight: bold\"> Trainable params: </span><span style=\"color: #00af00; text-decoration-color: #00af00\">475,264</span> (1.81 MB)\n",
       "</pre>\n"
      ],
      "text/plain": [
       "\u001b[1m Trainable params: \u001b[0m\u001b[38;5;34m475,264\u001b[0m (1.81 MB)\n"
      ]
     },
     "metadata": {},
     "output_type": "display_data"
    },
    {
     "data": {
      "text/html": [
       "<pre style=\"white-space:pre;overflow-x:auto;line-height:normal;font-family:Menlo,'DejaVu Sans Mono',consolas,'Courier New',monospace\"><span style=\"font-weight: bold\"> Non-trainable params: </span><span style=\"color: #00af00; text-decoration-color: #00af00\">0</span> (0.00 B)\n",
       "</pre>\n"
      ],
      "text/plain": [
       "\u001b[1m Non-trainable params: \u001b[0m\u001b[38;5;34m0\u001b[0m (0.00 B)\n"
      ]
     },
     "metadata": {},
     "output_type": "display_data"
    }
   ],
   "source": [
    "prediction_model = keras.models.Model(\n",
    "    model4.input[0], model4.get_layer(name=\"dense2\").output\n",
    ")\n",
    "prediction_model.summary()"
   ]
  },
  {
   "cell_type": "code",
   "execution_count": 62,
   "id": "91ce72cd",
   "metadata": {},
   "outputs": [],
   "source": [
    "def decode_batch_predictions(pred):\n",
    "    input_len = np.ones(pred.shape[0]) * pred.shape[1]\n",
    "    # Use greedy search. For complex tasks, you can use beam search\n",
    "    results = ctc_decode(pred, input_length=input_len, greedy=True)[0][0][\n",
    "        :, :max_label_len\n",
    "    ]\n",
    "    # Iterate over the results and get back the text\n",
    "    output_text = []\n",
    "    for res in results:\n",
    "        res = tf.strings.reduce_join(num_to_char(res)).numpy().decode(\"utf-8\")\n",
    "        output_text.append(res)\n",
    "    return output_text"
   ]
  },
  {
   "cell_type": "code",
   "execution_count": 72,
   "id": "66e4609e",
   "metadata": {},
   "outputs": [
    {
     "name": "stdout",
     "output_type": "stream",
     "text": [
      "\u001b[1m4/4\u001b[0m \u001b[32m━━━━━━━━━━━━━━━━━━━━\u001b[0m\u001b[37m\u001b[0m \u001b[1m0s\u001b[0m 35ms/step\n",
      "8.600014e-07\n",
      "[25 63 63 37 63 63 49 63 37 48 45 45 50 63]\n",
      "Oamalin****\n",
      "Accuracy: 71.00%\n"
     ]
    },
    {
     "data": {
      "image/png": "[encoded data removed]",
      "text/plain": [
       "<Figure size 1500x500 with 16 Axes>"
      ]
     },
     "metadata": {},
     "output_type": "display_data"
    }
   ],
   "source": [
    "for batch in validation_dataset.skip(2).take(1):\n",
    "    batch_images = batch[\"image\"]\n",
    "    batch_labels = batch[\"label\"]\n",
    "\n",
    "    preds = prediction_model.predict(batch_images)\n",
    "    print(preds[15,0,2])\n",
    "    print(np.argmax(preds[15], axis=1))\n",
    "    pred_texts = decode_batch_predictions(preds)\n",
    "    print(pred_texts[15])\n",
    "\n",
    "    # for i in range(len(pred_texts)):\n",
    "    #     text = pred_texts[i]\n",
    "    #     text = text.replace(\"*\", \"\")\n",
    "    #     pred_texts[i] = spell.correction(text)\n",
    "\n",
    "    orig_texts = []\n",
    "    for label in batch_labels:\n",
    "        label = tf.strings.reduce_join(num_to_char(label)).numpy().decode(\"utf-8\")\n",
    "        #label = label.replace(\"*\", \"\")\n",
    "        orig_texts.append(label)\n",
    "    \n",
    "    correct_predictions = sum([orig.lower() == pred.lower() for orig, pred in zip(orig_texts, pred_texts) if pred is not None])\n",
    "    accuracy = correct_predictions / len(orig_texts) * 100\n",
    "    print(f\"Accuracy: {accuracy:.2f}%\")\n",
    "\n",
    "    _, ax = plt.subplots(4, 4, figsize=(15, 5))\n",
    "    for i in range(16):\n",
    "        img = (batch_images[i, :, :, 0] * 255).numpy().astype(np.uint8)\n",
    "        img = img.T\n",
    "        title = f\"Prediction: {pred_texts[i]}\"\n",
    "        ax[i // 4, i % 4].imshow(img, cmap=\"gray\")\n",
    "        ax[i // 4, i % 4].set_title(title)\n",
    "        ax[i // 4, i % 4].axis(\"off\")\n",
    "plt.show()"
   ]
  },
  {
   "cell_type": "markdown",
   "id": "b2e36748",
   "metadata": {},
   "source": [
    "# **Demo**"
   ]
  },
  {
   "cell_type": "code",
   "execution_count": 118,
   "id": "3f7fec2c",
   "metadata": {},
   "outputs": [],
   "source": [
    "import matplotlib.pyplot as plt\n",
    "\n",
    "def get_image_0(img_path):\n",
    "    img = cv2.imread(img_path, cv2.IMREAD_GRAYSCALE)\n",
    "\n",
    "    return img\n",
    "\n",
    "def get_word_coordinates(coord_path):\n",
    "    word_coordinates=[]\n",
    "    with open(coord_path,'r') as file:\n",
    "        lines=file.readlines()\n",
    "\n",
    "        for line in lines:\n",
    "            line=line.replace('\\n','')\n",
    "            if line!='':\n",
    "                coord=line.split(',')\n",
    "                coord=list(map(int,coord))\n",
    "                word_coordinates.append(coord)\n",
    "    \n",
    "    word_coordinates = np.array(word_coordinates)\n",
    "\n",
    "    boxes = sorted(word_coordinates, key=lambda x: x[1])  # x[1] is the top-left y-coordinate\n",
    "\n",
    "    # Group boxes into lines based on y-distance threshold\n",
    "    lines = []\n",
    "    current_line = [boxes[0]]\n",
    "    \n",
    "    threshold=0.5\n",
    "    for i in range(1, len(boxes)):\n",
    "        max_height_index=0\n",
    "        max_height=0\n",
    "        for j in range(len(current_line)):\n",
    "            word_height=abs(max(np.array(current_line[j])[[1, 3, 5, 7]]) - min(np.array(current_line[j])[[1, 3, 5, 7]]))\n",
    "            if word_height>max_height:\n",
    "                max_height=word_height\n",
    "                max_height_index=j\n",
    "\n",
    "        if abs(boxes[i][1] - current_line[max_height_index][1]) < threshold*max_height:  # Adjust threshold as needed\n",
    "            current_line.append(boxes[i])\n",
    "        else:\n",
    "            lines.append(sorted(current_line, key=lambda x: x[0]))  # Sort by x-coordinates (left to right)\n",
    "            current_line = [boxes[i]]\n",
    "        \n",
    "    \n",
    "    lines.append(sorted(current_line, key=lambda x: x[0]))\n",
    "\n",
    "    # print(len(lines))\n",
    "    # for line in lines:\n",
    "    #     print(f'{line}\\n')\n",
    "\n",
    "    # Flatten the list of sorted lines\n",
    "    sorted_boxes = [box for line in lines for box in line]\n",
    "    \n",
    "    return sorted_boxes\n",
    "\n",
    "def get_each_word_image(img:np.ndarray,coord:list):\n",
    "    x1,y1,x2,y2,x3,y3,x4,y4=coord\n",
    "    \n",
    "    x_start=min(x1,x4)\n",
    "    y_start=min(y1,y2)\n",
    "\n",
    "    x_end=max(x2,x3)\n",
    "    y_end=max(y3,y4)\n",
    "\n",
    "    cropped_img=img[y_start:y_end+1,x_start:x_end+1]\n",
    "\n",
    "    return cropped_img\n",
    "\n",
    "def resize_image_0(img, canvas_size=(32,128),interpolation=cv2.INTER_LINEAR):\n",
    "    height,width,channels=img.shape\n",
    "    target_height64=canvas_size[0]\n",
    "    target_width128=canvas_size[1]\n",
    "\n",
    "    if width>height:\n",
    "        temp_ratio=target_width128/width\n",
    "        if int(temp_ratio*height)>target_height64:\n",
    "            ratio=target_height64/height\n",
    "        else:\n",
    "            ratio=temp_ratio\n",
    "    else:\n",
    "        temp_ratio=target_height64/height\n",
    "        if int(temp_ratio*width)>target_width128:\n",
    "            ratio=target_width128/width\n",
    "        else:\n",
    "            ratio=temp_ratio\n",
    "    target_h=int(ratio*height)\n",
    "    target_w=int(ratio*width)\n",
    "    #proc=cv2.resize(img,(target_w,target_h),interpolation=interpolation)\n",
    "    proc=cv2.resize(img,(112,28),interpolation=interpolation) #original resize size is (128,32)\n",
    "    proc=np.expand_dims(proc, axis=-1)\n",
    "\n",
    "    #resized=np.zeros((target_height64, target_width128, channels),dtype=np.float32)\n",
    "    #resized[:target_h,:target_w]=proc\n",
    "\n",
    "    return proc\n",
    "\n",
    "def image_transformation(img):\n",
    "    _, thresh = cv2.threshold(img, 0, 255, cv2.THRESH_BINARY + cv2.THRESH_OTSU)\n",
    "    \n",
    "    white = np.sum(thresh == 255)\n",
    "    black = np.sum(thresh == 0)\n",
    "\n",
    "    if black > white:\n",
    "        img = cv2.bitwise_not(img)\n",
    "\n",
    "    img = cv2.resize(img, (112, 28), interpolation=cv2.INTER_LINEAR)\n",
    "    \n",
    "    #img = img.astype(np.float32) / 255.0\n",
    "    img = np.expand_dims(img, axis=-1)\n",
    "\n",
    "    blur = cv2.GaussianBlur(img, (1,1), 0)\n",
    "\n",
    "    # Convert blur back to uint8 before thresholding again\n",
    "    #blur_uint8 = np.clip(blur * 255.0, 0, 255).astype(np.uint8)\n",
    "\n",
    "    _, binary_img = cv2.threshold(img, 0, 255, cv2.THRESH_BINARY + cv2.THRESH_OTSU)\n",
    "\n",
    "    # Normalize final binary image\n",
    "    img = binary_img.astype(np.float32) / 255.0\n",
    "    img = np.expand_dims(img, axis=-1)\n",
    "    img = np.transpose(img, axes=[1, 0, 2])\n",
    "\n",
    "    return img\n",
    "\n",
    "def cropped_images(result_path):\n",
    "    img=get_image_0(os.path.join(result_path,'demo_transformed.jpg'))\n",
    "    word_coordinates=get_word_coordinates(os.path.join(result_path,'res_demo_transformed.txt'))\n",
    "\n",
    "    cropped_images=[]\n",
    "    for coord in word_coordinates:\n",
    "        \n",
    "        cropped_img=get_each_word_image(img,coord)\n",
    "        transformed_img=image_transformation(cropped_img)\n",
    "        \n",
    "        cropped_images.append(transformed_img)\n",
    "\n",
    "    return cropped_images\n",
    "\n",
    "\n",
    "\n",
    "images=cropped_images(result_path='artifacts/image/result')"
   ]
  },
  {
   "cell_type": "code",
   "execution_count": 120,
   "id": "9d47b8aa",
   "metadata": {},
   "outputs": [
    {
     "data": {
      "image/png": "[encoded data removed]",
      "text/plain": [
       "<Figure size 640x480 with 1 Axes>"
      ]
     },
     "metadata": {},
     "output_type": "display_data"
    }
   ],
   "source": [
    "plt.imshow(images[1], cmap='gray')  # Use cmap='gray' for grayscale images if needed\n",
    "plt.axis('off')  # Remove axes for better visualization\n",
    "plt.show() "
   ]
  },
  {
   "cell_type": "code",
   "execution_count": 114,
   "id": "40212d41",
   "metadata": {},
   "outputs": [
    {
     "name": "stdout",
     "output_type": "stream",
     "text": [
      "\u001b[1m1/1\u001b[0m \u001b[32m━━━━━━━━━━━━━━━━━━━━\u001b[0m\u001b[37m\u001b[0m \u001b[1m0s\u001b[0m 56ms/step\n"
     ]
    }
   ],
   "source": [
    "preds_demo = prediction_model.predict(np.array(images))"
   ]
  },
  {
   "cell_type": "code",
   "execution_count": 115,
   "id": "d041d09e",
   "metadata": {},
   "outputs": [
    {
     "name": "stdout",
     "output_type": "stream",
     "text": [
      "0.9423283\n",
      "[44 63 63 63 63 63 63 63 63 63 63 63 63 63]\n",
      "h**********\n"
     ]
    }
   ],
   "source": [
    "idx=5\n",
    "\n",
    "print(preds_demo[idx,5,63])\n",
    "print(np.argmax(preds_demo[idx], axis=1))\n",
    "pred_texts = decode_batch_predictions(preds_demo)\n",
    "print(pred_texts[idx])"
   ]
  },
  {
   "cell_type": "markdown",
   "id": "deb0ffa7",
   "metadata": {},
   "source": [
    "# **Modular Code**"
   ]
  },
  {
   "cell_type": "code",
   "execution_count": 144,
   "id": "5841fe98",
   "metadata": {},
   "outputs": [],
   "source": [
    "from dataclasses import dataclass\n",
    "\n",
    "@dataclass(frozen=True)\n",
    "class TextRecognitionConfig:\n",
    "    crnn_weights: Path\n",
    "    crnn_input_path: Path\n",
    "    crnn_output_path: Path\n",
    "    resize_canvas: tuple\n",
    "    sorting_threshold: float\n",
    "    char_list: list"
   ]
  },
  {
   "cell_type": "code",
   "execution_count": 161,
   "id": "9d0f9739",
   "metadata": {},
   "outputs": [],
   "source": [
    "from mlOCR.constants import *\n",
    "from mlOCR.utils.common import read_yaml, create_directories\n",
    "# from mlOCR.entity.config_entity import (TextPostProcessingConfig, TextRecognitionConfig, TextDetectionConfig,\n",
    "#                                          ImageProcessingConfig,DemoImageConfig)\n",
    "from pathlib import Path\n",
    "\n",
    "class ConfigurationManager:\n",
    "    def __init__(\n",
    "        self,\n",
    "        config_filepath = CONFIG_FILE_PATH,\n",
    "        params_filepath = PARAMS_FILE_PATH,\n",
    "        schema_filepath = SCHEMA_FILE_PATH):\n",
    "\n",
    "        self.config = read_yaml(config_filepath)\n",
    "        self.params = read_yaml(params_filepath)\n",
    "        self.schema = read_yaml(schema_filepath)\n",
    "\n",
    "        create_directories([self.config.artifacts_root])\n",
    "\n",
    "    \n",
    "    \n",
    "    def get_text_recognition_config(self)->TextRecognitionConfig:\n",
    "        config=self.config.text_recognition\n",
    "        params=self.params.text_recognition\n",
    "\n",
    "        create_directories([config.crnn_output_path])\n",
    "\n",
    "        text_recognition_config=TextRecognitionConfig(\n",
    "            crnn_weights=Path(config.crnn_weights),\n",
    "            crnn_input_path=Path(config.crnn_input_path),\n",
    "            crnn_output_path=Path(config.crnn_output_path),\n",
    "            resize_canvas=tuple(map(int,params.resize_canvas.translate(str.maketrans('','','()')).split(','))),\n",
    "            sorting_threshold=float(params.sorting_threshold),\n",
    "            char_list=params.char_list\n",
    "        )\n",
    "\n",
    "        return text_recognition_config"
   ]
  },
  {
   "cell_type": "code",
   "execution_count": 193,
   "id": "7d953505",
   "metadata": {},
   "outputs": [],
   "source": [
    "import cv2\n",
    "import numpy as np\n",
    "import os\n",
    "import tensorflow as tf\n",
    "import keras\n",
    "from keras import layers\n",
    "from keras import ops\n",
    "import importlib\n",
    "from mlOCR.models import crnn_pred\n",
    "importlib.reload(crnn_pred)\n",
    "from mlOCR.models.crnn_pred import crnn_pred_model\n",
    "from mlOCR.utils.common import save_text_file\n",
    "\n",
    "class TextRecognition:\n",
    "    def __init__(self, TextRecognitionConfig):\n",
    "        self.crnn_weights=TextRecognitionConfig.crnn_weights\n",
    "        self.crnn_input_path=TextRecognitionConfig.crnn_input_path\n",
    "        self.crnn_output_path=TextRecognitionConfig.crnn_output_path\n",
    "        self.resize_canvas=TextRecognitionConfig.resize_canvas\n",
    "        self.sorting_threshold=TextRecognitionConfig.sorting_threshold\n",
    "        self.char_list=TextRecognitionConfig.char_list\n",
    "        self.char_to_num = layers.StringLookup(vocabulary=list(self.char_list), mask_token=None, oov_token=None)\n",
    "        self.num_to_char = layers.StringLookup(vocabulary=self.char_list, invert=True, mask_token=None, oov_token=\"*\")\n",
    "\n",
    "    \n",
    "    def get_image(self,img_path):\n",
    "        img = cv2.imread(img_path, cv2.IMREAD_GRAYSCALE)\n",
    "\n",
    "        return img\n",
    "\n",
    "    def get_word_coordinates(self,coord_path):\n",
    "        word_coordinates=[]\n",
    "        with open(coord_path,'r') as file:\n",
    "            lines=file.readlines()\n",
    "\n",
    "            for line in lines:\n",
    "                line=line.replace('\\n','')\n",
    "                if line!='':\n",
    "                    coord=line.split(',')\n",
    "                    coord=list(map(int,coord))\n",
    "                    word_coordinates.append(coord)\n",
    "        \n",
    "        word_coordinates = np.array(word_coordinates)\n",
    "\n",
    "        boxes = sorted(word_coordinates, key=lambda x: x[1])  # x[1] is the top-left y-coordinate\n",
    "\n",
    "        # Group boxes into lines based on y-distance threshold\n",
    "        lines = []\n",
    "        current_line = [boxes[0]]\n",
    "        \n",
    "        threshold=self.sorting_threshold\n",
    "        # threshold=0.5\n",
    "        for i in range(1, len(boxes)):\n",
    "            max_height_index=0\n",
    "            max_height=0\n",
    "            for j in range(len(current_line)):\n",
    "                word_height=abs(max(np.array(current_line[j])[[1, 3, 5, 7]]) - min(np.array(current_line[j])[[1, 3, 5, 7]]))\n",
    "                if word_height>max_height:\n",
    "                    max_height=word_height\n",
    "                    max_height_index=j\n",
    "\n",
    "            if abs(boxes[i][1] - current_line[max_height_index][1]) < threshold*max_height:  # Adjust threshold as needed\n",
    "                current_line.append(boxes[i])\n",
    "            else:\n",
    "                lines.append(sorted(current_line, key=lambda x: x[0]))  # Sort by x-coordinates (left to right)\n",
    "                current_line = [boxes[i]]\n",
    "            \n",
    "        \n",
    "        lines.append(sorted(current_line, key=lambda x: x[0]))\n",
    "\n",
    "        # print(len(lines))\n",
    "        # for line in lines:\n",
    "        #     print(f'{line}\\n')\n",
    "\n",
    "        # Flatten the list of sorted lines\n",
    "        sorted_boxes = [box for line in lines for box in line]\n",
    "        \n",
    "        return sorted_boxes\n",
    "\n",
    "    def get_each_word_image(self,img:np.ndarray,coord:list):\n",
    "        x1,y1,x2,y2,x3,y3,x4,y4=coord\n",
    "        \n",
    "        x_start=min(x1,x4)\n",
    "        y_start=min(y1,y2)\n",
    "\n",
    "        x_end=max(x2,x3)\n",
    "        y_end=max(y3,y4)\n",
    "\n",
    "        cropped_img=img[y_start:y_end+1,x_start:x_end+1]\n",
    "\n",
    "        return cropped_img\n",
    "\n",
    "\n",
    "    def image_transformation(self,img):\n",
    "        _, thresh = cv2.threshold(img, 0, 255, cv2.THRESH_BINARY + cv2.THRESH_OTSU)\n",
    "        \n",
    "        white = np.sum(thresh == 255)\n",
    "        black = np.sum(thresh == 0)\n",
    "\n",
    "        if black > white:\n",
    "            img = cv2.bitwise_not(img)\n",
    "\n",
    "        permuted_canvas_size = self.resize_canvas[::-1]  #(h,w) to (w,h)\n",
    "        img = cv2.resize(img, permuted_canvas_size, interpolation=cv2.INTER_LINEAR)\n",
    "        img = np.expand_dims(img, axis=-1)\n",
    "\n",
    "        _, binary_img = cv2.threshold(img, 0, 255, cv2.THRESH_BINARY + cv2.THRESH_OTSU)\n",
    "\n",
    "        img = binary_img.astype(np.float32) / 255.0\n",
    "        img = np.expand_dims(img, axis=-1)\n",
    "        img = np.transpose(img, axes=[1, 0, 2])\n",
    "\n",
    "        return img\n",
    "\n",
    "    def cropped_images(self):\n",
    "        img=self.get_image(os.path.join(self.crnn_input_path,'demo_transformed.jpg'))\n",
    "        word_coordinates=self.get_word_coordinates(os.path.join(self.crnn_input_path,'res_demo_transformed.txt'))\n",
    "\n",
    "        cropped_images=[]\n",
    "        for coord in word_coordinates:\n",
    "            \n",
    "            cropped_img=self.get_each_word_image(img,coord)\n",
    "            transformed_img=self.image_transformation(cropped_img)\n",
    "            \n",
    "            cropped_images.append(transformed_img)\n",
    "\n",
    "        return cropped_images\n",
    "    \n",
    "    def ctc_decode(self, y_pred, input_length, greedy=True, beam_width=100, top_paths=1):\n",
    "        input_shape = ops.shape(y_pred)\n",
    "        num_samples, num_steps = input_shape[0], input_shape[1]\n",
    "        y_pred = ops.log(ops.transpose(y_pred, axes=[1, 0, 2]) + keras.backend.epsilon())\n",
    "        input_length = ops.cast(input_length, dtype=\"int32\")\n",
    "\n",
    "        if greedy:\n",
    "            (decoded, log_prob) = tf.nn.ctc_greedy_decoder(\n",
    "                inputs=y_pred, sequence_length=input_length\n",
    "            )\n",
    "        else:\n",
    "            (decoded, log_prob) = tf.compat.v1.nn.ctc_beam_search_decoder(\n",
    "                inputs=y_pred,\n",
    "                sequence_length=input_length,\n",
    "                beam_width=beam_width,\n",
    "                top_paths=top_paths,\n",
    "            )\n",
    "        decoded_dense = []\n",
    "        for st in decoded:\n",
    "            st = tf.SparseTensor(st.indices, st.values, (num_samples, num_steps))\n",
    "            decoded_dense.append(tf.sparse.to_dense(sp_input=st, default_value=-1))\n",
    "        return (decoded_dense, log_prob)\n",
    "    \n",
    "    def decode_batch_predictions(self,pred):\n",
    "        input_len = np.ones(pred.shape[0]) * pred.shape[1]\n",
    "        # Use greedy search. For complex tasks, you can use beam search\n",
    "        results = self.ctc_decode(pred, input_length=input_len, greedy=True)[0][0][\n",
    "            :, :\n",
    "        ]\n",
    "        # Iterate over the results and get back the text\n",
    "        output_text = []\n",
    "        for res in results:\n",
    "            res = tf.strings.reduce_join(self.num_to_char(res)).numpy().decode(\"utf-8\")\n",
    "            res=res.replace(\"*\", \"\")\n",
    "            output_text.append(res)\n",
    "        return output_text\n",
    "    \n",
    "    def get_predictions(self, cropped_images: list):\n",
    "        crnn_pred=crnn_pred_model()\n",
    "        crnn_pred.load_weights(self.crnn_weights)\n",
    "        predictions=crnn_pred.predict(np.array(cropped_images))\n",
    "        decoded_predictions=self.decode_batch_predictions(predictions)\n",
    "        text=' '.join(decoded_predictions)\n",
    "\n",
    "        return text\n",
    "    \n",
    "    def save_results(self, text: str):\n",
    "        save_text_file(text=text, filename='crnn_raw_text.txt', path=self.crnn_output_path)"
   ]
  },
  {
   "cell_type": "code",
   "execution_count": 194,
   "id": "d03d8772",
   "metadata": {},
   "outputs": [],
   "source": [
    "class TextRecognitionPipeline:\n",
    "    def __init__(self):\n",
    "        pass\n",
    "\n",
    "    def main(self):\n",
    "        config_manager=ConfigurationManager()\n",
    "        text_recognition_config=config_manager.get_text_recognition_config()\n",
    "        text_recognition=TextRecognition(text_recognition_config)\n",
    "        cropped_images=text_recognition.cropped_images()\n",
    "        text=text_recognition.get_predictions(cropped_images=cropped_images)\n",
    "        text_recognition.save_results(text=text)"
   ]
  },
  {
   "cell_type": "code",
   "execution_count": null,
   "id": "25e76f81",
   "metadata": {},
   "outputs": [],
   "source": [
    "from mlOCR import logger\n",
    "\n",
    "STAGE_NAME='Text Recognition stage'\n",
    "try:\n",
    "    logger.info(f\">>>>>> stage {STAGE_NAME} started <<<<<<\")\n",
    "    obj = TextRecognitionPipeline()\n",
    "    obj.main()\n",
    "    logger.info(f\">>>>>> stage {STAGE_NAME} completed <<<<<<\\n\\nx==========x\")\n",
    "except Exception as e:\n",
    "    logger.exception(e)\n",
    "    raise e"
   ]
  }
 ],
 "metadata": {
  "kernelspec": {
   "display_name": "vir_env",
   "language": "python",
   "name": "python3"
  },
  "language_info": {
   "codemirror_mode": {
    "name": "ipython",
    "version": 3
   },
   "file_extension": ".py",
   "mimetype": "text/x-python",
   "name": "python",
   "nbconvert_exporter": "python",
   "pygments_lexer": "ipython3",
   "version": "3.12.3"
  }
 },
 "nbformat": 4,
 "nbformat_minor": 5
}
