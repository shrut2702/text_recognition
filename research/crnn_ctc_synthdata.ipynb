{
 "cells": [
  {
   "cell_type": "code",
   "execution_count": 1,
   "id": "ac38912b",
   "metadata": {},
   "outputs": [],
   "source": [
    "import os"
   ]
  },
  {
   "cell_type": "code",
   "execution_count": 2,
   "id": "f4fe7fb9",
   "metadata": {},
   "outputs": [
    {
     "data": {
      "text/plain": [
       "'e:\\\\GCET\\\\Machine Learning\\\\Deep Learning Projects\\\\text_recognition\\\\research'"
      ]
     },
     "execution_count": 2,
     "metadata": {},
     "output_type": "execute_result"
    }
   ],
   "source": [
    "%pwd"
   ]
  },
  {
   "cell_type": "code",
   "execution_count": 3,
   "id": "a2854fdc",
   "metadata": {},
   "outputs": [],
   "source": [
    "os.chdir('../')"
   ]
  },
  {
   "cell_type": "code",
   "execution_count": 4,
   "id": "97786193",
   "metadata": {},
   "outputs": [
    {
     "data": {
      "text/plain": [
       "'e:\\\\GCET\\\\Machine Learning\\\\Deep Learning Projects\\\\text_recognition'"
      ]
     },
     "execution_count": 4,
     "metadata": {},
     "output_type": "execute_result"
    }
   ],
   "source": [
    "%pwd"
   ]
  },
  {
   "cell_type": "code",
   "execution_count": 5,
   "id": "d02428c8",
   "metadata": {},
   "outputs": [],
   "source": [
    "from pathlib import Path\n",
    "dataset_dir='D:/mnt/ramdisk/max/90kDICT32px'"
   ]
  },
  {
   "cell_type": "code",
   "execution_count": 6,
   "id": "3380a767",
   "metadata": {},
   "outputs": [],
   "source": [
    "initial_img_path=[]\n",
    "initial_text_label=[]\n",
    "\n",
    "with open(os.path.join(dataset_dir,'annotation.txt'), \"r\", encoding=\"utf-8\") as file:\n",
    "    lines = file.readlines()\n",
    "    for i,line in enumerate(lines):\n",
    "        try:\n",
    "            path=line.split(\" \")[0]\n",
    "            dir_name, file_name = os.path.split(path)\n",
    "            label=file_name.split(\"_\")[1]\n",
    "        except Exception as e:\n",
    "            print(e,\" \",i,\" \",line)\n",
    "\n",
    "        initial_img_path.append(os.path.join(dataset_dir,path))\n",
    "        initial_text_label.append(label)"
   ]
  },
  {
   "cell_type": "code",
   "execution_count": 7,
   "id": "17581cd2",
   "metadata": {},
   "outputs": [
    {
     "name": "stdout",
     "output_type": "stream",
     "text": [
      "8919273 8919273\n"
     ]
    }
   ],
   "source": [
    "print(len(initial_img_path), len(initial_text_label))"
   ]
  },
  {
   "cell_type": "code",
   "execution_count": 8,
   "id": "491cfb15",
   "metadata": {},
   "outputs": [
    {
     "name": "stdout",
     "output_type": "stream",
     "text": [
      "62\n",
      "['0', '1', '2', '3', '4', '5', '6', '7', '8', '9', 'A', 'B', 'C', 'D', 'E', 'F', 'G', 'H', 'I', 'J', 'K', 'L', 'M', 'N', 'O', 'P', 'Q', 'R', 'S', 'T', 'U', 'V', 'W', 'X', 'Y', 'Z', 'a', 'b', 'c', 'd', 'e', 'f', 'g', 'h', 'i', 'j', 'k', 'l', 'm', 'n', 'o', 'p', 'q', 'r', 's', 't', 'u', 'v', 'w', 'x', 'y', 'z']\n"
     ]
    }
   ],
   "source": [
    "vocab=set(\"\".join(map(str,initial_text_label)))\n",
    "\n",
    "vocab=[char for char in vocab if char.isalnum()]\n",
    "char_list=sorted(vocab)\n",
    "print(len(char_list))\n",
    "print(char_list)"
   ]
  },
  {
   "cell_type": "code",
   "execution_count": 9,
   "id": "bf0856f3",
   "metadata": {},
   "outputs": [],
   "source": [
    "#Removing labels and images with non-alphanumeric characters\n",
    "img_path=[]\n",
    "text_labels=[]\n",
    "\n",
    "for i,(path,label) in enumerate(zip(initial_img_path,initial_text_label)):\n",
    "    if all(char in char_list for char in label):\n",
    "        img_path.append(path)\n",
    "        text_labels.append(label)"
   ]
  },
  {
   "cell_type": "code",
   "execution_count": 10,
   "id": "c91285d9",
   "metadata": {},
   "outputs": [
    {
     "name": "stdout",
     "output_type": "stream",
     "text": [
      "8919273 8919273\n"
     ]
    }
   ],
   "source": [
    "print(len(img_path), len(text_labels))"
   ]
  },
  {
   "cell_type": "code",
   "execution_count": 25,
   "id": "d31a6d92",
   "metadata": {},
   "outputs": [],
   "source": [
    "# Randomly select 30000 images\n",
    "\n",
    "import numpy as np\n",
    "\n",
    "size=len(img_path)\n",
    "random_indices = np.random.choice(size, 3000, replace=False)"
   ]
  },
  {
   "cell_type": "code",
   "execution_count": 26,
   "id": "bc25dc81",
   "metadata": {},
   "outputs": [],
   "source": [
    "img_path=np.array(img_path)\n",
    "text_labels=np.array(text_labels)\n",
    "\n",
    "img_path=img_path[random_indices]\n",
    "text_labels=text_labels[random_indices]"
   ]
  },
  {
   "cell_type": "code",
   "execution_count": 27,
   "id": "26a687a4",
   "metadata": {},
   "outputs": [
    {
     "name": "stdout",
     "output_type": "stream",
     "text": [
      "3000 3000\n"
     ]
    }
   ],
   "source": [
    "print(len(img_path), len(text_labels))"
   ]
  },
  {
   "cell_type": "code",
   "execution_count": 28,
   "id": "e645fdcc",
   "metadata": {},
   "outputs": [],
   "source": [
    "import cv2\n",
    "\n",
    "for idx,path in enumerate(img_path):\n",
    "    img = cv2.imread(path, cv2.IMREAD_GRAYSCALE)\n",
    "    if img is None:\n",
    "        img_path = np.delete(img_path, idx)\n",
    "        text_labels = np.delete(text_labels, idx)\n",
    "    elif len(img.shape) != 2:\n",
    "        img_path = np.delete(img_path, idx)\n",
    "        text_labels = np.delete(text_labels, idx)"
   ]
  },
  {
   "cell_type": "code",
   "execution_count": 29,
   "id": "de25db7f",
   "metadata": {},
   "outputs": [
    {
     "name": "stdout",
     "output_type": "stream",
     "text": [
      "3000 3000\n"
     ]
    }
   ],
   "source": [
    "print(len(img_path), len(text_labels))"
   ]
  },
  {
   "cell_type": "code",
   "execution_count": 30,
   "id": "6574a199",
   "metadata": {},
   "outputs": [
    {
     "data": {
      "text/plain": [
       "23"
      ]
     },
     "execution_count": 30,
     "metadata": {},
     "output_type": "execute_result"
    }
   ],
   "source": [
    "max_label_len = max([len(str(text)) for text in initial_text_label])\n",
    "max_label_len"
   ]
  },
  {
   "cell_type": "code",
   "execution_count": 31,
   "id": "63dc6ba1",
   "metadata": {},
   "outputs": [
    {
     "data": {
      "text/plain": [
       "' def resize_image(img, canvas_size=(32,128),interpolation=cv2.INTER_LINEAR): \\n    proc=cv2.resize(img,(128,32),interpolation=interpolation) #orignial resize img is (128,32)\\n    proc=np.expand_dims(proc, axis=-1)\\n\\n    return proc '"
      ]
     },
     "execution_count": 31,
     "metadata": {},
     "output_type": "execute_result"
    }
   ],
   "source": [
    "import cv2\n",
    "import numpy as np\n",
    "\n",
    "def resize_image(img, canvas_size=(32,128),interpolation=cv2.INTER_LINEAR): ###################################################original\n",
    "    height,width,channels=img.shape\n",
    "    target_height32=canvas_size[0]\n",
    "    target_width128=canvas_size[1]\n",
    "\n",
    "    if width>height:\n",
    "        temp_ratio=target_width128/width\n",
    "        if int(temp_ratio*height)>target_height32:\n",
    "            ratio=target_height32/height\n",
    "        else:\n",
    "            ratio=temp_ratio\n",
    "    else:\n",
    "        temp_ratio=target_height32/height\n",
    "        if int(temp_ratio*width)>target_width128:\n",
    "            ratio=target_width128/width\n",
    "        else:\n",
    "            ratio=temp_ratio\n",
    "    target_h=int(ratio*height)\n",
    "    target_w=int(ratio*width)\n",
    "    #proc=cv2.resize(img,(target_w,target_h),interpolation=interpolation)\n",
    "    proc=cv2.resize(img,(256,64),interpolation=interpolation) #orignial resize img is (128,32)\n",
    "    proc=np.expand_dims(proc, axis=-1)\n",
    "\n",
    "    #resized=np.zeros((target_height32, target_width128, channels),dtype=np.float32)\n",
    "    #resized[:target_h,:target_w]=proc\n",
    "\n",
    "    return proc\n",
    "\n",
    "\"\"\" def resize_image(img, canvas_size=(32,128),interpolation=cv2.INTER_LINEAR): \n",
    "    proc=cv2.resize(img,(128,32),interpolation=interpolation) #orignial resize img is (128,32)\n",
    "    proc=np.expand_dims(proc, axis=-1)\n",
    "\n",
    "    return proc \"\"\""
   ]
  },
  {
   "cell_type": "code",
   "execution_count": 32,
   "id": "03d48d4e",
   "metadata": {},
   "outputs": [
    {
     "data": {
      "text/plain": [
       "' def get_image(path):\\n    img = tf.io.read_file(path)\\n\\n    # 2. Decode and convert to grayscale\\n    img = tf.io.decode_png(img, channels=1)\\n\\n    # 3. Convert to float32 in [0, 1] range\\n    img = tf.image.convert_image_dtype(img, tf.float32)\\n\\n    # 4. Resize to the desired size\\n    img = tf.image.resize(img, [32, 128])\\n\\n    return img '"
      ]
     },
     "execution_count": 32,
     "metadata": {},
     "output_type": "execute_result"
    }
   ],
   "source": [
    "from tensorflow.keras.preprocessing.sequence import pad_sequences\n",
    "import tensorflow as tf\n",
    "import cv2\n",
    "\n",
    "def encode_to_label(txt):\n",
    "    dig_lst = []\n",
    "    \n",
    "    for index, char in enumerate(txt):\n",
    "        try:\n",
    "            dig_lst.append(char_list.index(char))\n",
    "        except:\n",
    "            print(char)\n",
    "    \n",
    "    return pad_sequences([dig_lst], maxlen=max_label_len, padding='post', value=len(char_list))[0] #maxlen earlier was max_label_len\n",
    "\n",
    "def get_image(path): ###################################################original\n",
    "    img = cv2.imread(path, cv2.IMREAD_GRAYSCALE)\n",
    "\n",
    "    # # Otsu threshold to detect background vs text\n",
    "    # _, thresh = cv2.threshold(img, 0, 255, cv2.THRESH_BINARY + cv2.THRESH_OTSU)\n",
    "    \n",
    "    # # Count white vs black pixels\n",
    "    # white = np.sum(thresh == 255)\n",
    "    # black = np.sum(thresh == 0)\n",
    "    \n",
    "    # # If background is dark (more black than white), invert\n",
    "    # if black > white:\n",
    "    #     img = cv2.bitwise_not(img)\n",
    "\n",
    "    img = np.expand_dims(img, axis=-1)\n",
    "\n",
    "    img=resize_image(img)\n",
    "\n",
    "    blur = cv2.GaussianBlur(img, (1,1), 0)\n",
    "\n",
    "    _, binary_img = cv2.threshold(blur, 0, 255, cv2.THRESH_BINARY + cv2.THRESH_OTSU)\n",
    "\n",
    "    img = binary_img.astype(np.float32) / 255.0  \n",
    "\n",
    "    #kernel = np.ones((2, 2), np.uint8)  # You can adjust the kernel size for more thickness\n",
    "\n",
    "    # Apply dilation to thicken text\n",
    "    #thickened_text = cv2.erode(img, kernel, iterations=1)\n",
    "\n",
    "    #thickened_text = np.expand_dims(thickened_text, axis=-1)\n",
    "\n",
    "    img = np.expand_dims(img, axis=-1)\n",
    "\n",
    "    img_tensor = tf.convert_to_tensor(img, dtype=tf.float32)\n",
    "\n",
    "    return img_tensor\n",
    "\n",
    "\"\"\" def get_image(path): \n",
    "    img = cv2.imread(path, cv2.IMREAD_GRAYSCALE)\n",
    "    img = img.astype(np.float32) / 255.0  \n",
    "    img=resize_image(img)\n",
    "    img_tensor = tf.convert_to_tensor(img, dtype=tf.float32)\n",
    "\n",
    "    return img_tensor \"\"\"\n",
    "\n",
    "\"\"\" def get_image(path):\n",
    "    img = tf.io.read_file(path)\n",
    "\n",
    "    # 2. Decode and convert to grayscale\n",
    "    img = tf.io.decode_png(img, channels=1)\n",
    "\n",
    "    # 3. Convert to float32 in [0, 1] range\n",
    "    img = tf.image.convert_image_dtype(img, tf.float32)\n",
    "\n",
    "    # 4. Resize to the desired size\n",
    "    img = tf.image.resize(img, [32, 128])\n",
    "\n",
    "    return img \"\"\""
   ]
  },
  {
   "cell_type": "code",
   "execution_count": 33,
   "id": "6dfbc6e3",
   "metadata": {},
   "outputs": [
    {
     "name": "stdout",
     "output_type": "stream",
     "text": [
      "D:/mnt/ramdisk/max/90kDICT32px\\./2440/5/490_Serendipity_69575.jpg Serendipity\n"
     ]
    },
    {
     "data": {
      "image/png": "[encoded data removed]",
      "text/plain": [
       "<Figure size 640x480 with 1 Axes>"
      ]
     },
     "metadata": {},
     "output_type": "display_data"
    }
   ],
   "source": [
    "import matplotlib.pyplot as plt\n",
    "\n",
    "idx=120\n",
    "temp_img=get_image(img_path[idx])\n",
    "print(img_path[idx],text_labels[idx])\n",
    "\n",
    "plt.imshow(temp_img, cmap='gray')  # Use cmap='gray' for grayscale images if needed\n",
    "plt.axis('off')  # Remove axes for better visualization\n",
    "plt.show()   "
   ]
  },
  {
   "cell_type": "code",
   "execution_count": 34,
   "id": "8cd5b249",
   "metadata": {},
   "outputs": [
    {
     "data": {
      "image/png": "[encoded data removed]",
      "text/plain": [
       "<Figure size 640x480 with 1 Axes>"
      ]
     },
     "metadata": {},
     "output_type": "display_data"
    }
   ],
   "source": [
    "import matplotlib.pyplot as plt\n",
    "\n",
    "idx=120\n",
    "\n",
    "plt.imshow(cv2.imread(img_path[idx], cv2.IMREAD_GRAYSCALE), cmap='gray')  # Use cmap='gray' for grayscale images if needed\n",
    "#plt.imshow(cv2.imread('D:/mnt/ramdisk/max/90kDICT32px\\\\./181/5/121_Temple_78079.jpg'))  # Use cmap='gray' for grayscale images if needed\n",
    "plt.axis('off')  # Remove axes for better visualization\n",
    "plt.show() "
   ]
  },
  {
   "cell_type": "code",
   "execution_count": 37,
   "id": "0dbc3c49",
   "metadata": {},
   "outputs": [],
   "source": [
    "encoded_labels=list(map(encode_to_label,text_labels))"
   ]
  },
  {
   "cell_type": "code",
   "execution_count": 38,
   "id": "ce768a1a",
   "metadata": {},
   "outputs": [],
   "source": [
    "from sklearn.model_selection import train_test_split\n",
    "\n",
    "train_img_path,test_img_path,train_encoded_labels,test_encoded_labels=train_test_split(img_path,encoded_labels,test_size=0.25, random_state=42)"
   ]
  },
  {
   "cell_type": "code",
   "execution_count": 39,
   "id": "31d7d0f6",
   "metadata": {},
   "outputs": [],
   "source": [
    "X_train=list(map(get_image,train_img_path))\n",
    "y_train=train_encoded_labels\n",
    "\n",
    "X_test=list(map(get_image,test_img_path))\n",
    "y_test=test_encoded_labels"
   ]
  },
  {
   "cell_type": "code",
   "execution_count": 40,
   "id": "2886c1ed",
   "metadata": {},
   "outputs": [],
   "source": [
    "batch_size=100\n",
    "\n",
    "train_dataset = tf.data.Dataset.from_tensor_slices((X_train, y_train))\n",
    "train_dataset = train_dataset.map(lambda img,label: {'image':img,'label':label}, num_parallel_calls=tf.data.experimental.AUTOTUNE).batch(batch_size).prefetch(buffer_size=tf.data.experimental.AUTOTUNE)\n",
    "\n",
    "test_dataset = tf.data.Dataset.from_tensor_slices((X_test, y_test))\n",
    "test_dataset = test_dataset.map(lambda img,label: {'image':img,'label':label}, num_parallel_calls=tf.data.experimental.AUTOTUNE).batch(batch_size).prefetch(buffer_size=tf.data.experimental.AUTOTUNE)"
   ]
  },
  {
   "cell_type": "code",
   "execution_count": 27,
   "id": "2d41fe2e",
   "metadata": {},
   "outputs": [
    {
     "data": {
      "text/plain": [
       "TensorShape([64, 256, 1])"
      ]
     },
     "execution_count": 27,
     "metadata": {},
     "output_type": "execute_result"
    }
   ],
   "source": [
    "X_train[-1].shape"
   ]
  },
  {
   "cell_type": "markdown",
   "id": "01c78fe9",
   "metadata": {},
   "source": [
    "# **Model**"
   ]
  },
  {
   "cell_type": "code",
   "execution_count": 44,
   "id": "01976947",
   "metadata": {},
   "outputs": [],
   "source": [
    "import tensorflow as tf\n",
    "import tensorflow.keras.backend as K\n",
    "\n",
    "from tensorflow import keras\n",
    "from tensorflow.keras import layers\n",
    "\n",
    "from tensorflow.keras.layers import Activation, Dense, Reshape, BatchNormalization, Input, Conv2D, MaxPool2D, Lambda, Bidirectional, LSTM\n",
    "from tensorflow.keras.models import Model\n",
    "from tensorflow.keras.optimizers import *\n",
    "from tensorflow.keras.callbacks import ModelCheckpoint, EarlyStopping"
   ]
  },
  {
   "cell_type": "code",
   "execution_count": 45,
   "id": "dfba3baf",
   "metadata": {},
   "outputs": [],
   "source": [
    "from itertools import groupby\n",
    "def ctc_decoder(predictions):\n",
    "    '''\n",
    "    input: given batch of predictions from text rec model\n",
    "    output: return lists of raw extracted text\n",
    "\n",
    "    '''\n",
    "    text_list = []\n",
    "    \n",
    "    pred_indcies = np.argmax(predictions, axis=2)\n",
    "    \n",
    "    for i in range(pred_indcies.shape[0]):\n",
    "        ans = \"\"\n",
    "        \n",
    "        ## merge repeats\n",
    "        merged_list = [k for k,_ in groupby(pred_indcies[i])]\n",
    "        \n",
    "        ## remove blanks\n",
    "        for p in merged_list:\n",
    "            if p != len(char_list):\n",
    "                ans += char_list[int(p)]\n",
    "        \n",
    "        text_list.append(ans)\n",
    "        \n",
    "    return text_list"
   ]
  },
  {
   "cell_type": "code",
   "execution_count": 46,
   "id": "fbf2fb03",
   "metadata": {},
   "outputs": [
    {
     "data": {
      "text/plain": [
       "' class CTCLayer(layers.Layer): ####################### passing logits to CTC loss function instead of softmax output which was incoorect\\n\\n    def __init__(self, name=None,**kwargs):\\n\\n        super().__init__(name=name,**kwargs)\\n        self.loss_fn = keras.backend.ctc_batch_cost\\n\\n    def call(self, y_true, logits, softmax_output):\\n        # Compute the training-time loss value and add it\\n        # to the layer using `self.add_loss()`.\\n\\n        batch_len = tf.cast(tf.shape(y_true)[0], dtype=\"int64\")\\n        input_length = tf.cast(tf.shape(logits)[1], dtype=\"int64\")\\n        label_length = tf.cast(tf.shape(y_true)[1], dtype=\"int64\")\\n\\n        input_length = input_length * tf.ones(shape=(batch_len, 1), dtype=\"int64\")\\n        label_length = label_length * tf.ones(shape=(batch_len, 1), dtype=\"int64\")\\n\\n        loss = self.loss_fn(y_true, logits, input_length, label_length)\\n        self.add_loss(loss)\\n\\n        # At test time, just return the computed predictions\\n        return softmax_output '"
      ]
     },
     "execution_count": 46,
     "metadata": {},
     "output_type": "execute_result"
    }
   ],
   "source": [
    "class CTCLayer(layers.Layer):\n",
    "\n",
    "    def __init__(self, name=None,**kwargs):\n",
    "\n",
    "        super().__init__(name=name,**kwargs)\n",
    "        self.loss_fn = keras.backend.ctc_batch_cost\n",
    "\n",
    "    def call(self, y_true, y_pred):\n",
    "        # Compute the training-time loss value and add it\n",
    "        # to the layer using `self.add_loss()`.\n",
    "\n",
    "        batch_len = tf.cast(tf.shape(y_true)[0], dtype=\"int64\")\n",
    "        input_length = tf.cast(tf.shape(y_pred)[1], dtype=\"int64\")\n",
    "        label_length = tf.cast(tf.shape(y_true)[1], dtype=\"int64\")\n",
    "\n",
    "        input_length = input_length * tf.ones(shape=(batch_len, 1), dtype=\"int64\")\n",
    "        label_length = label_length * tf.ones(shape=(batch_len, 1), dtype=\"int64\")\n",
    "\n",
    "        loss = self.loss_fn(y_true, y_pred, input_length, label_length)\n",
    "        self.add_loss(loss)\n",
    "\n",
    "        # At test time, just return the computed predictions\n",
    "        return y_pred\n",
    "\n",
    "\"\"\" class CTCLayer(layers.Layer): ####################### passing logits to CTC loss function instead of softmax output which was incoorect\n",
    "\n",
    "    def __init__(self, name=None,**kwargs):\n",
    "\n",
    "        super().__init__(name=name,**kwargs)\n",
    "        self.loss_fn = keras.backend.ctc_batch_cost\n",
    "\n",
    "    def call(self, y_true, logits, softmax_output):\n",
    "        # Compute the training-time loss value and add it\n",
    "        # to the layer using `self.add_loss()`.\n",
    "\n",
    "        batch_len = tf.cast(tf.shape(y_true)[0], dtype=\"int64\")\n",
    "        input_length = tf.cast(tf.shape(logits)[1], dtype=\"int64\")\n",
    "        label_length = tf.cast(tf.shape(y_true)[1], dtype=\"int64\")\n",
    "\n",
    "        input_length = input_length * tf.ones(shape=(batch_len, 1), dtype=\"int64\")\n",
    "        label_length = label_length * tf.ones(shape=(batch_len, 1), dtype=\"int64\")\n",
    "\n",
    "        loss = self.loss_fn(y_true, logits, input_length, label_length)\n",
    "        self.add_loss(loss)\n",
    "\n",
    "        # At test time, just return the computed predictions\n",
    "        return softmax_output \"\"\""
   ]
  },
  {
   "cell_type": "code",
   "execution_count": 48,
   "id": "ecb38bac",
   "metadata": {},
   "outputs": [
    {
     "data": {
      "text/plain": [
       "' def crnn():\\n    inputs = Input(shape=(64, 256, 1), name=\"image\")\\n    labels = Input(name=\"label\", shape=(None,), dtype=\"float32\")\\n\\n    conv_1 = Conv2D(16, (3,3), activation=\"sigmoid\", padding=\\'same\\')(inputs)  # FIXED: filters = 16\\n    pool_1 = MaxPool2D(pool_size=(2, 2))(conv_1)\\n\\n    conv_2 = Conv2D(32, (3,3), activation=\"sigmoid\", padding=\\'same\\')(pool_1)\\n    pool_2 = MaxPool2D(pool_size=(2, 2))(conv_2)\\n\\n    conv_3 = Conv2D(64, (3,3), activation=\"sigmoid\", padding=\\'same\\')(pool_2)\\n    pool_3 = MaxPool2D(pool_size=(2, 2))(conv_3)\\n\\n    conv_4 = Conv2D(64, (3,3), activation=\"sigmoid\", padding=\\'same\\')(pool_3)\\n    pool_4 = MaxPool2D(pool_size=(2, 1))(conv_4)\\n\\n    conv_5 = Conv2D(64, (3,3), activation=\"sigmoid\", padding=\\'same\\')(pool_4)\\n    batch_norm_5 = BatchNormalization()(conv_5)\\n\\n    conv_6 = Conv2D(64, (3,3), activation=\"sigmoid\", padding=\\'same\\')(batch_norm_5)\\n    batch_norm_6 = BatchNormalization()(conv_6)\\n    pool_6 = MaxPool2D(pool_size=(2, 1))(batch_norm_6)\\n\\n    conv_7 = Conv2D(64, (2,2), activation=\"sigmoid\")(pool_6)\\n    squeezed = Lambda(lambda x: K.squeeze(x, 1))(conv_7)\\n\\n    blstm_1 = Bidirectional(LSTM(128, return_sequences=True))(squeezed)\\n    blstm_2 = Bidirectional(LSTM(128, return_sequences=True))(blstm_1)\\n\\n    softmax_output = Dense(len(char_list) + 1, activation = \\'softmax\\', name=\"dense\")(blstm_2)\\n\\n    output = CTCLayer(name=\"ctc_loss\")(labels, softmax_output)\\n\\n    model = Model(inputs=[inputs, labels], outputs=output)\\n\\n    return model '"
      ]
     },
     "execution_count": 48,
     "metadata": {},
     "output_type": "execute_result"
    }
   ],
   "source": [
    "# model 7\n",
    "\"\"\" def crnn():\n",
    "    inputs = Input(shape=(64, 256, 1), name=\"image\")\n",
    "\n",
    "    labels = layers.Input(name=\"label\", shape=(None,), dtype=\"float32\")\n",
    "\n",
    "    conv_1 = Conv2D(32, (3,3), activation = \"selu\", padding='same')(inputs)\n",
    "    pool_1 = MaxPool2D(pool_size=(2, 2))(conv_1)\n",
    "    \n",
    "    conv_2 = Conv2D(64, (3,3), activation = \"selu\", padding='same')(pool_1)\n",
    "    pool_2 = MaxPool2D(pool_size=(2, 2))(conv_2)\n",
    "\n",
    "    conv_3 = Conv2D(128, (3,3), activation = \"selu\", padding='same')(pool_2)\n",
    "    pool_3 = MaxPool2D(pool_size=(2, 2))(conv_3)\n",
    "\n",
    "    conv_4 = Conv2D(128, (3,3), activation = \"selu\", padding='same')(pool_3)\n",
    "    pool_4 = MaxPool2D(pool_size=(2, 1))(conv_4)\n",
    "    \n",
    "    conv_5 = Conv2D(256, (3,3), activation = \"selu\", padding='same')(pool_4)\n",
    "    \n",
    "    # Batch normalization layer\n",
    "    batch_norm_5 = BatchNormalization()(conv_5)\n",
    "    \n",
    "    conv_6 = Conv2D(256, (3,3), activation = \"selu\", padding='same')(batch_norm_5)\n",
    "    batch_norm_6 = BatchNormalization()(conv_6)\n",
    "    pool_6 = MaxPool2D(pool_size=(2, 1))(batch_norm_6)\n",
    "    \n",
    "    conv_7 = Conv2D(64, (2,2), activation = \"selu\")(pool_6)\n",
    "    \n",
    "    squeezed = Lambda(lambda x: K.squeeze(x, 1))(conv_7)\n",
    "    \n",
    "    # bidirectional LSTM layers with units=128\n",
    "    blstm_1 = Bidirectional(LSTM(128, return_sequences=True))(squeezed)\n",
    "    blstm_2 = Bidirectional(LSTM(128, return_sequences=True))(blstm_1)\n",
    "\n",
    "    softmax_output = Dense(len(char_list) + 1, activation = 'softmax', name=\"dense\")(blstm_2)\n",
    "\n",
    "    output = CTCLayer(name=\"ctc_loss\")(labels, softmax_output)\n",
    "\n",
    "    model = Model(inputs=[inputs, labels], outputs=output)\n",
    "\n",
    "    return model    \"\"\"\n",
    "\n",
    "# model 3\n",
    "\"\"\" def crnn():\n",
    "    inputs = Input(shape=(32, 128, 1), name=\"image\")\n",
    "\n",
    "    labels = layers.Input(name=\"label\", shape=(None,), dtype=\"int32\")\n",
    "\n",
    "    conv_1 = Conv2D(32, (3,3), activation = \"selu\", padding='same')(inputs)\n",
    "    pool_1 = MaxPool2D(pool_size=(2, 2))(conv_1)\n",
    "    \n",
    "    conv_2 = Conv2D(64, (3,3), activation = \"selu\", padding='same')(pool_1)\n",
    "    pool_2 = MaxPool2D(pool_size=(2, 2))(conv_2)\n",
    "\n",
    "    conv_3 = Conv2D(128, (3,3), activation = \"selu\", padding='same')(pool_2)\n",
    "    conv_4 = Conv2D(128, (3,3), activation = \"selu\", padding='same')(conv_3)\n",
    "\n",
    "    pool_4 = MaxPool2D(pool_size=(2, 1))(conv_4)\n",
    "    \n",
    "    conv_5 = Conv2D(256, (3,3), activation = \"selu\", padding='same')(pool_4)\n",
    "    \n",
    "    # Batch normalization layer\n",
    "    batch_norm_5 = BatchNormalization()(conv_5)\n",
    "    \n",
    "    conv_6 = Conv2D(256, (3,3), activation = \"selu\", padding='same')(batch_norm_5)\n",
    "    batch_norm_6 = BatchNormalization()(conv_6)\n",
    "    pool_6 = MaxPool2D(pool_size=(2, 1))(batch_norm_6)\n",
    "    \n",
    "    conv_7 = Conv2D(64, (2,2), activation = \"selu\")(pool_6)\n",
    "    \n",
    "    squeezed = Lambda(lambda x: K.squeeze(x, 1))(conv_7)\n",
    "    \n",
    "    # bidirectional LSTM layers with units=128\n",
    "    blstm_1 = Bidirectional(LSTM(128, return_sequences=True))(squeezed)\n",
    "    blstm_2 = Bidirectional(LSTM(128, return_sequences=True))(blstm_1)\n",
    "\n",
    "    softmax_output = Dense(len(char_list) + 1, activation = 'softmax', name=\"dense\")(blstm_2)\n",
    "\n",
    "    output = CTCLayer(name=\"ctc_loss\")(labels, softmax_output)\n",
    "\n",
    "    model = Model(inputs=[inputs, labels], outputs=output)\n",
    "\n",
    "    return model \"\"\"\n",
    "\n",
    "#model 8\n",
    "\"\"\" def crnn():\n",
    "    inputs = Input(shape=(32, 128, 1), name=\"image\")\n",
    "    labels = Input(name=\"label\", shape=(None,), dtype=\"float32\")\n",
    "\n",
    "    conv_1 = Conv2D(16, (3,3), activation=\"selu\", padding='same')(inputs)  # FIXED: filters = 16\n",
    "    pool_1 = MaxPool2D(pool_size=(2, 2))(conv_1)\n",
    "\n",
    "    conv_2 = Conv2D(32, (3,3), activation=\"selu\", padding='same')(pool_1)\n",
    "    pool_2 = MaxPool2D(pool_size=(2, 2))(conv_2)\n",
    "\n",
    "    conv_3 = Conv2D(64, (3,3), activation=\"selu\", padding='same')(pool_2)\n",
    "    conv_4 = Conv2D(64, (3,3), activation=\"selu\", padding='same')(conv_3)\n",
    "    pool_4 = MaxPool2D(pool_size=(2, 1))(conv_4)\n",
    "\n",
    "    conv_5 = Conv2D(64, (3,3), activation=\"selu\", padding='same')(pool_4)\n",
    "    batch_norm_5 = BatchNormalization()(conv_5)\n",
    "\n",
    "    conv_6 = Conv2D(64, (3,3), activation=\"selu\", padding='same')(batch_norm_5)\n",
    "    batch_norm_6 = BatchNormalization()(conv_6)\n",
    "    pool_6 = MaxPool2D(pool_size=(2, 1))(batch_norm_6)\n",
    "\n",
    "    conv_7 = Conv2D(64, (2,2), activation=\"selu\")(pool_6)\n",
    "    squeezed = Lambda(lambda x: K.squeeze(x, 1))(conv_7)\n",
    "\n",
    "    blstm_1 = Bidirectional(LSTM(128, return_sequences=True))(squeezed)\n",
    "    blstm_2 = Bidirectional(LSTM(128, return_sequences=True))(blstm_1)\n",
    "\n",
    "    softmax_output = Dense(len(char_list) + 1, activation = 'softmax', name=\"dense\")(blstm_2)\n",
    "\n",
    "    output = CTCLayer(name=\"ctc_loss\")(labels, softmax_output)\n",
    "\n",
    "    model = Model(inputs=[inputs, labels], outputs=output)\n",
    "\n",
    "    return model \"\"\"\n",
    "\n",
    "# model 9\n",
    "def crnn():\n",
    "    inputs = Input(shape=(64, 256, 1), name=\"image\")\n",
    "    labels = Input(name=\"label\", shape=(None,), dtype=\"float32\")\n",
    "\n",
    "    conv_1 = Conv2D(16, (3,3), activation=\"selu\", padding='same')(inputs)  # FIXED: filters = 16\n",
    "    pool_1 = MaxPool2D(pool_size=(2, 2))(conv_1)\n",
    "\n",
    "    conv_2 = Conv2D(32, (3,3), activation=\"selu\", padding='same')(pool_1)\n",
    "    pool_2 = MaxPool2D(pool_size=(2, 2))(conv_2)\n",
    "\n",
    "    conv_3 = Conv2D(64, (3,3), activation=\"selu\", padding='same')(pool_2)\n",
    "    pool_3 = MaxPool2D(pool_size=(2, 2))(conv_3)\n",
    "\n",
    "    conv_4 = Conv2D(64, (3,3), activation=\"selu\", padding='same')(pool_3)\n",
    "    pool_4 = MaxPool2D(pool_size=(2, 1))(conv_4)\n",
    "\n",
    "    conv_5 = Conv2D(64, (3,3), activation=\"selu\", padding='same')(pool_4)\n",
    "    batch_norm_5 = BatchNormalization()(conv_5)\n",
    "\n",
    "    conv_6 = Conv2D(64, (3,3), activation=\"selu\", padding='same')(batch_norm_5)\n",
    "    batch_norm_6 = BatchNormalization()(conv_6)\n",
    "    pool_6 = MaxPool2D(pool_size=(2, 1))(batch_norm_6)\n",
    "\n",
    "    conv_7 = Conv2D(64, (2,2), activation=\"selu\")(pool_6)\n",
    "    squeezed = Lambda(lambda x: K.squeeze(x, 1))(conv_7)\n",
    "\n",
    "    blstm_1 = Bidirectional(LSTM(128, return_sequences=True))(squeezed)\n",
    "    blstm_2 = Bidirectional(LSTM(128, return_sequences=True))(blstm_1)\n",
    "\n",
    "    softmax_output = Dense(len(char_list) + 1, activation = 'softmax', name=\"dense\")(blstm_2)\n",
    "\n",
    "    output = CTCLayer(name=\"ctc_loss\")(labels, softmax_output)\n",
    "\n",
    "    model = Model(inputs=[inputs, labels], outputs=output)\n",
    "\n",
    "    return model\n",
    "\n",
    "#model 10\n",
    "\"\"\" def crnn():\n",
    "    inputs = Input(shape=(64, 256, 1), name=\"image\")\n",
    "    labels = Input(name=\"label\", shape=(None,), dtype=\"float32\")\n",
    "\n",
    "    conv_1 = Conv2D(16, (3,3), activation=\"sigmoid\", padding='same')(inputs)  # FIXED: filters = 16\n",
    "    pool_1 = MaxPool2D(pool_size=(2, 2))(conv_1)\n",
    "\n",
    "    conv_2 = Conv2D(32, (3,3), activation=\"sigmoid\", padding='same')(pool_1)\n",
    "    pool_2 = MaxPool2D(pool_size=(2, 2))(conv_2)\n",
    "\n",
    "    conv_3 = Conv2D(64, (3,3), activation=\"sigmoid\", padding='same')(pool_2)\n",
    "    pool_3 = MaxPool2D(pool_size=(2, 2))(conv_3)\n",
    "\n",
    "    conv_4 = Conv2D(64, (3,3), activation=\"sigmoid\", padding='same')(pool_3)\n",
    "    pool_4 = MaxPool2D(pool_size=(2, 1))(conv_4)\n",
    "\n",
    "    conv_5 = Conv2D(64, (3,3), activation=\"sigmoid\", padding='same')(pool_4)\n",
    "    batch_norm_5 = BatchNormalization()(conv_5)\n",
    "\n",
    "    conv_6 = Conv2D(64, (3,3), activation=\"sigmoid\", padding='same')(batch_norm_5)\n",
    "    batch_norm_6 = BatchNormalization()(conv_6)\n",
    "    pool_6 = MaxPool2D(pool_size=(2, 1))(batch_norm_6)\n",
    "\n",
    "    conv_7 = Conv2D(64, (2,2), activation=\"sigmoid\")(pool_6)\n",
    "    squeezed = Lambda(lambda x: K.squeeze(x, 1))(conv_7)\n",
    "\n",
    "    blstm_1 = Bidirectional(LSTM(128, return_sequences=True))(squeezed)\n",
    "    blstm_2 = Bidirectional(LSTM(128, return_sequences=True))(blstm_1)\n",
    "\n",
    "    softmax_output = Dense(len(char_list) + 1, activation = 'softmax', name=\"dense\")(blstm_2)\n",
    "\n",
    "    output = CTCLayer(name=\"ctc_loss\")(labels, softmax_output)\n",
    "\n",
    "    model = Model(inputs=[inputs, labels], outputs=output)\n",
    "\n",
    "    return model \"\"\""
   ]
  },
  {
   "cell_type": "code",
   "execution_count": 49,
   "id": "212678ee",
   "metadata": {},
   "outputs": [],
   "source": [
    "model=crnn()"
   ]
  },
  {
   "cell_type": "code",
   "execution_count": 50,
   "id": "2eee07de",
   "metadata": {},
   "outputs": [
    {
     "data": {
      "text/html": [
       "<pre style=\"white-space:pre;overflow-x:auto;line-height:normal;font-family:Menlo,'DejaVu Sans Mono',consolas,'Courier New',monospace\"><span style=\"font-weight: bold\">Model: \"functional_1\"</span>\n",
       "</pre>\n"
      ],
      "text/plain": [
       "\u001b[1mModel: \"functional_1\"\u001b[0m\n"
      ]
     },
     "metadata": {},
     "output_type": "display_data"
    },
    {
     "data": {
      "text/html": [
       "<pre style=\"white-space:pre;overflow-x:auto;line-height:normal;font-family:Menlo,'DejaVu Sans Mono',consolas,'Courier New',monospace\">┏━━━━━━━━━━━━━━━━━━━━━┳━━━━━━━━━━━━━━━━━━━┳━━━━━━━━━━━━┳━━━━━━━━━━━━━━━━━━━┓\n",
       "┃<span style=\"font-weight: bold\"> Layer (type)        </span>┃<span style=\"font-weight: bold\"> Output Shape      </span>┃<span style=\"font-weight: bold\">    Param # </span>┃<span style=\"font-weight: bold\"> Connected to      </span>┃\n",
       "┡━━━━━━━━━━━━━━━━━━━━━╇━━━━━━━━━━━━━━━━━━━╇━━━━━━━━━━━━╇━━━━━━━━━━━━━━━━━━━┩\n",
       "│ image (<span style=\"color: #0087ff; text-decoration-color: #0087ff\">InputLayer</span>)  │ (<span style=\"color: #00d7ff; text-decoration-color: #00d7ff\">None</span>, <span style=\"color: #00af00; text-decoration-color: #00af00\">64</span>, <span style=\"color: #00af00; text-decoration-color: #00af00\">256</span>,   │          <span style=\"color: #00af00; text-decoration-color: #00af00\">0</span> │ -                 │\n",
       "│                     │ <span style=\"color: #00af00; text-decoration-color: #00af00\">1</span>)                │            │                   │\n",
       "├─────────────────────┼───────────────────┼────────────┼───────────────────┤\n",
       "│ conv2d_7 (<span style=\"color: #0087ff; text-decoration-color: #0087ff\">Conv2D</span>)   │ (<span style=\"color: #00d7ff; text-decoration-color: #00d7ff\">None</span>, <span style=\"color: #00af00; text-decoration-color: #00af00\">64</span>, <span style=\"color: #00af00; text-decoration-color: #00af00\">256</span>,   │        <span style=\"color: #00af00; text-decoration-color: #00af00\">160</span> │ image[<span style=\"color: #00af00; text-decoration-color: #00af00\">0</span>][<span style=\"color: #00af00; text-decoration-color: #00af00\">0</span>]       │\n",
       "│                     │ <span style=\"color: #00af00; text-decoration-color: #00af00\">16</span>)               │            │                   │\n",
       "├─────────────────────┼───────────────────┼────────────┼───────────────────┤\n",
       "│ max_pooling2d_5     │ (<span style=\"color: #00d7ff; text-decoration-color: #00d7ff\">None</span>, <span style=\"color: #00af00; text-decoration-color: #00af00\">32</span>, <span style=\"color: #00af00; text-decoration-color: #00af00\">128</span>,   │          <span style=\"color: #00af00; text-decoration-color: #00af00\">0</span> │ conv2d_7[<span style=\"color: #00af00; text-decoration-color: #00af00\">0</span>][<span style=\"color: #00af00; text-decoration-color: #00af00\">0</span>]    │\n",
       "│ (<span style=\"color: #0087ff; text-decoration-color: #0087ff\">MaxPooling2D</span>)      │ <span style=\"color: #00af00; text-decoration-color: #00af00\">16</span>)               │            │                   │\n",
       "├─────────────────────┼───────────────────┼────────────┼───────────────────┤\n",
       "│ conv2d_8 (<span style=\"color: #0087ff; text-decoration-color: #0087ff\">Conv2D</span>)   │ (<span style=\"color: #00d7ff; text-decoration-color: #00d7ff\">None</span>, <span style=\"color: #00af00; text-decoration-color: #00af00\">32</span>, <span style=\"color: #00af00; text-decoration-color: #00af00\">128</span>,   │      <span style=\"color: #00af00; text-decoration-color: #00af00\">4,640</span> │ max_pooling2d_5[<span style=\"color: #00af00; text-decoration-color: #00af00\">…</span> │\n",
       "│                     │ <span style=\"color: #00af00; text-decoration-color: #00af00\">32</span>)               │            │                   │\n",
       "├─────────────────────┼───────────────────┼────────────┼───────────────────┤\n",
       "│ max_pooling2d_6     │ (<span style=\"color: #00d7ff; text-decoration-color: #00d7ff\">None</span>, <span style=\"color: #00af00; text-decoration-color: #00af00\">16</span>, <span style=\"color: #00af00; text-decoration-color: #00af00\">64</span>,    │          <span style=\"color: #00af00; text-decoration-color: #00af00\">0</span> │ conv2d_8[<span style=\"color: #00af00; text-decoration-color: #00af00\">0</span>][<span style=\"color: #00af00; text-decoration-color: #00af00\">0</span>]    │\n",
       "│ (<span style=\"color: #0087ff; text-decoration-color: #0087ff\">MaxPooling2D</span>)      │ <span style=\"color: #00af00; text-decoration-color: #00af00\">32</span>)               │            │                   │\n",
       "├─────────────────────┼───────────────────┼────────────┼───────────────────┤\n",
       "│ conv2d_9 (<span style=\"color: #0087ff; text-decoration-color: #0087ff\">Conv2D</span>)   │ (<span style=\"color: #00d7ff; text-decoration-color: #00d7ff\">None</span>, <span style=\"color: #00af00; text-decoration-color: #00af00\">16</span>, <span style=\"color: #00af00; text-decoration-color: #00af00\">64</span>,    │     <span style=\"color: #00af00; text-decoration-color: #00af00\">18,496</span> │ max_pooling2d_6[<span style=\"color: #00af00; text-decoration-color: #00af00\">…</span> │\n",
       "│                     │ <span style=\"color: #00af00; text-decoration-color: #00af00\">64</span>)               │            │                   │\n",
       "├─────────────────────┼───────────────────┼────────────┼───────────────────┤\n",
       "│ max_pooling2d_7     │ (<span style=\"color: #00d7ff; text-decoration-color: #00d7ff\">None</span>, <span style=\"color: #00af00; text-decoration-color: #00af00\">8</span>, <span style=\"color: #00af00; text-decoration-color: #00af00\">32</span>, <span style=\"color: #00af00; text-decoration-color: #00af00\">64</span>) │          <span style=\"color: #00af00; text-decoration-color: #00af00\">0</span> │ conv2d_9[<span style=\"color: #00af00; text-decoration-color: #00af00\">0</span>][<span style=\"color: #00af00; text-decoration-color: #00af00\">0</span>]    │\n",
       "│ (<span style=\"color: #0087ff; text-decoration-color: #0087ff\">MaxPooling2D</span>)      │                   │            │                   │\n",
       "├─────────────────────┼───────────────────┼────────────┼───────────────────┤\n",
       "│ conv2d_10 (<span style=\"color: #0087ff; text-decoration-color: #0087ff\">Conv2D</span>)  │ (<span style=\"color: #00d7ff; text-decoration-color: #00d7ff\">None</span>, <span style=\"color: #00af00; text-decoration-color: #00af00\">8</span>, <span style=\"color: #00af00; text-decoration-color: #00af00\">32</span>, <span style=\"color: #00af00; text-decoration-color: #00af00\">64</span>) │     <span style=\"color: #00af00; text-decoration-color: #00af00\">36,928</span> │ max_pooling2d_7[<span style=\"color: #00af00; text-decoration-color: #00af00\">…</span> │\n",
       "├─────────────────────┼───────────────────┼────────────┼───────────────────┤\n",
       "│ max_pooling2d_8     │ (<span style=\"color: #00d7ff; text-decoration-color: #00d7ff\">None</span>, <span style=\"color: #00af00; text-decoration-color: #00af00\">4</span>, <span style=\"color: #00af00; text-decoration-color: #00af00\">32</span>, <span style=\"color: #00af00; text-decoration-color: #00af00\">64</span>) │          <span style=\"color: #00af00; text-decoration-color: #00af00\">0</span> │ conv2d_10[<span style=\"color: #00af00; text-decoration-color: #00af00\">0</span>][<span style=\"color: #00af00; text-decoration-color: #00af00\">0</span>]   │\n",
       "│ (<span style=\"color: #0087ff; text-decoration-color: #0087ff\">MaxPooling2D</span>)      │                   │            │                   │\n",
       "├─────────────────────┼───────────────────┼────────────┼───────────────────┤\n",
       "│ conv2d_11 (<span style=\"color: #0087ff; text-decoration-color: #0087ff\">Conv2D</span>)  │ (<span style=\"color: #00d7ff; text-decoration-color: #00d7ff\">None</span>, <span style=\"color: #00af00; text-decoration-color: #00af00\">4</span>, <span style=\"color: #00af00; text-decoration-color: #00af00\">32</span>, <span style=\"color: #00af00; text-decoration-color: #00af00\">64</span>) │     <span style=\"color: #00af00; text-decoration-color: #00af00\">36,928</span> │ max_pooling2d_8[<span style=\"color: #00af00; text-decoration-color: #00af00\">…</span> │\n",
       "├─────────────────────┼───────────────────┼────────────┼───────────────────┤\n",
       "│ batch_normalizatio… │ (<span style=\"color: #00d7ff; text-decoration-color: #00d7ff\">None</span>, <span style=\"color: #00af00; text-decoration-color: #00af00\">4</span>, <span style=\"color: #00af00; text-decoration-color: #00af00\">32</span>, <span style=\"color: #00af00; text-decoration-color: #00af00\">64</span>) │        <span style=\"color: #00af00; text-decoration-color: #00af00\">256</span> │ conv2d_11[<span style=\"color: #00af00; text-decoration-color: #00af00\">0</span>][<span style=\"color: #00af00; text-decoration-color: #00af00\">0</span>]   │\n",
       "│ (<span style=\"color: #0087ff; text-decoration-color: #0087ff\">BatchNormalizatio…</span> │                   │            │                   │\n",
       "├─────────────────────┼───────────────────┼────────────┼───────────────────┤\n",
       "│ conv2d_12 (<span style=\"color: #0087ff; text-decoration-color: #0087ff\">Conv2D</span>)  │ (<span style=\"color: #00d7ff; text-decoration-color: #00d7ff\">None</span>, <span style=\"color: #00af00; text-decoration-color: #00af00\">4</span>, <span style=\"color: #00af00; text-decoration-color: #00af00\">32</span>, <span style=\"color: #00af00; text-decoration-color: #00af00\">64</span>) │     <span style=\"color: #00af00; text-decoration-color: #00af00\">36,928</span> │ batch_normalizat… │\n",
       "├─────────────────────┼───────────────────┼────────────┼───────────────────┤\n",
       "│ batch_normalizatio… │ (<span style=\"color: #00d7ff; text-decoration-color: #00d7ff\">None</span>, <span style=\"color: #00af00; text-decoration-color: #00af00\">4</span>, <span style=\"color: #00af00; text-decoration-color: #00af00\">32</span>, <span style=\"color: #00af00; text-decoration-color: #00af00\">64</span>) │        <span style=\"color: #00af00; text-decoration-color: #00af00\">256</span> │ conv2d_12[<span style=\"color: #00af00; text-decoration-color: #00af00\">0</span>][<span style=\"color: #00af00; text-decoration-color: #00af00\">0</span>]   │\n",
       "│ (<span style=\"color: #0087ff; text-decoration-color: #0087ff\">BatchNormalizatio…</span> │                   │            │                   │\n",
       "├─────────────────────┼───────────────────┼────────────┼───────────────────┤\n",
       "│ max_pooling2d_9     │ (<span style=\"color: #00d7ff; text-decoration-color: #00d7ff\">None</span>, <span style=\"color: #00af00; text-decoration-color: #00af00\">2</span>, <span style=\"color: #00af00; text-decoration-color: #00af00\">32</span>, <span style=\"color: #00af00; text-decoration-color: #00af00\">64</span>) │          <span style=\"color: #00af00; text-decoration-color: #00af00\">0</span> │ batch_normalizat… │\n",
       "│ (<span style=\"color: #0087ff; text-decoration-color: #0087ff\">MaxPooling2D</span>)      │                   │            │                   │\n",
       "├─────────────────────┼───────────────────┼────────────┼───────────────────┤\n",
       "│ conv2d_13 (<span style=\"color: #0087ff; text-decoration-color: #0087ff\">Conv2D</span>)  │ (<span style=\"color: #00d7ff; text-decoration-color: #00d7ff\">None</span>, <span style=\"color: #00af00; text-decoration-color: #00af00\">1</span>, <span style=\"color: #00af00; text-decoration-color: #00af00\">31</span>, <span style=\"color: #00af00; text-decoration-color: #00af00\">64</span>) │     <span style=\"color: #00af00; text-decoration-color: #00af00\">16,448</span> │ max_pooling2d_9[<span style=\"color: #00af00; text-decoration-color: #00af00\">…</span> │\n",
       "├─────────────────────┼───────────────────┼────────────┼───────────────────┤\n",
       "│ lambda_1 (<span style=\"color: #0087ff; text-decoration-color: #0087ff\">Lambda</span>)   │ (<span style=\"color: #00d7ff; text-decoration-color: #00d7ff\">None</span>, <span style=\"color: #00af00; text-decoration-color: #00af00\">31</span>, <span style=\"color: #00af00; text-decoration-color: #00af00\">64</span>)    │          <span style=\"color: #00af00; text-decoration-color: #00af00\">0</span> │ conv2d_13[<span style=\"color: #00af00; text-decoration-color: #00af00\">0</span>][<span style=\"color: #00af00; text-decoration-color: #00af00\">0</span>]   │\n",
       "├─────────────────────┼───────────────────┼────────────┼───────────────────┤\n",
       "│ bidirectional_2     │ (<span style=\"color: #00d7ff; text-decoration-color: #00d7ff\">None</span>, <span style=\"color: #00af00; text-decoration-color: #00af00\">31</span>, <span style=\"color: #00af00; text-decoration-color: #00af00\">256</span>)   │    <span style=\"color: #00af00; text-decoration-color: #00af00\">197,632</span> │ lambda_1[<span style=\"color: #00af00; text-decoration-color: #00af00\">0</span>][<span style=\"color: #00af00; text-decoration-color: #00af00\">0</span>]    │\n",
       "│ (<span style=\"color: #0087ff; text-decoration-color: #0087ff\">Bidirectional</span>)     │                   │            │                   │\n",
       "├─────────────────────┼───────────────────┼────────────┼───────────────────┤\n",
       "│ bidirectional_3     │ (<span style=\"color: #00d7ff; text-decoration-color: #00d7ff\">None</span>, <span style=\"color: #00af00; text-decoration-color: #00af00\">31</span>, <span style=\"color: #00af00; text-decoration-color: #00af00\">256</span>)   │    <span style=\"color: #00af00; text-decoration-color: #00af00\">394,240</span> │ bidirectional_2[<span style=\"color: #00af00; text-decoration-color: #00af00\">…</span> │\n",
       "│ (<span style=\"color: #0087ff; text-decoration-color: #0087ff\">Bidirectional</span>)     │                   │            │                   │\n",
       "├─────────────────────┼───────────────────┼────────────┼───────────────────┤\n",
       "│ label (<span style=\"color: #0087ff; text-decoration-color: #0087ff\">InputLayer</span>)  │ (<span style=\"color: #00d7ff; text-decoration-color: #00d7ff\">None</span>, <span style=\"color: #00d7ff; text-decoration-color: #00d7ff\">None</span>)      │          <span style=\"color: #00af00; text-decoration-color: #00af00\">0</span> │ -                 │\n",
       "├─────────────────────┼───────────────────┼────────────┼───────────────────┤\n",
       "│ dense (<span style=\"color: #0087ff; text-decoration-color: #0087ff\">Dense</span>)       │ (<span style=\"color: #00d7ff; text-decoration-color: #00d7ff\">None</span>, <span style=\"color: #00af00; text-decoration-color: #00af00\">31</span>, <span style=\"color: #00af00; text-decoration-color: #00af00\">63</span>)    │     <span style=\"color: #00af00; text-decoration-color: #00af00\">16,191</span> │ bidirectional_3[<span style=\"color: #00af00; text-decoration-color: #00af00\">…</span> │\n",
       "├─────────────────────┼───────────────────┼────────────┼───────────────────┤\n",
       "│ ctc_loss (<span style=\"color: #0087ff; text-decoration-color: #0087ff\">CTCLayer</span>) │ (<span style=\"color: #00d7ff; text-decoration-color: #00d7ff\">None</span>, <span style=\"color: #00af00; text-decoration-color: #00af00\">31</span>, <span style=\"color: #00af00; text-decoration-color: #00af00\">63</span>)    │          <span style=\"color: #00af00; text-decoration-color: #00af00\">0</span> │ label[<span style=\"color: #00af00; text-decoration-color: #00af00\">0</span>][<span style=\"color: #00af00; text-decoration-color: #00af00\">0</span>],      │\n",
       "│                     │                   │            │ dense[<span style=\"color: #00af00; text-decoration-color: #00af00\">0</span>][<span style=\"color: #00af00; text-decoration-color: #00af00\">0</span>]       │\n",
       "└─────────────────────┴───────────────────┴────────────┴───────────────────┘\n",
       "</pre>\n"
      ],
      "text/plain": [
       "┏━━━━━━━━━━━━━━━━━━━━━┳━━━━━━━━━━━━━━━━━━━┳━━━━━━━━━━━━┳━━━━━━━━━━━━━━━━━━━┓\n",
       "┃\u001b[1m \u001b[0m\u001b[1mLayer (type)       \u001b[0m\u001b[1m \u001b[0m┃\u001b[1m \u001b[0m\u001b[1mOutput Shape     \u001b[0m\u001b[1m \u001b[0m┃\u001b[1m \u001b[0m\u001b[1m   Param #\u001b[0m\u001b[1m \u001b[0m┃\u001b[1m \u001b[0m\u001b[1mConnected to     \u001b[0m\u001b[1m \u001b[0m┃\n",
       "┡━━━━━━━━━━━━━━━━━━━━━╇━━━━━━━━━━━━━━━━━━━╇━━━━━━━━━━━━╇━━━━━━━━━━━━━━━━━━━┩\n",
       "│ image (\u001b[38;5;33mInputLayer\u001b[0m)  │ (\u001b[38;5;45mNone\u001b[0m, \u001b[38;5;34m64\u001b[0m, \u001b[38;5;34m256\u001b[0m,   │          \u001b[38;5;34m0\u001b[0m │ -                 │\n",
       "│                     │ \u001b[38;5;34m1\u001b[0m)                │            │                   │\n",
       "├─────────────────────┼───────────────────┼────────────┼───────────────────┤\n",
       "│ conv2d_7 (\u001b[38;5;33mConv2D\u001b[0m)   │ (\u001b[38;5;45mNone\u001b[0m, \u001b[38;5;34m64\u001b[0m, \u001b[38;5;34m256\u001b[0m,   │        \u001b[38;5;34m160\u001b[0m │ image[\u001b[38;5;34m0\u001b[0m][\u001b[38;5;34m0\u001b[0m]       │\n",
       "│                     │ \u001b[38;5;34m16\u001b[0m)               │            │                   │\n",
       "├─────────────────────┼───────────────────┼────────────┼───────────────────┤\n",
       "│ max_pooling2d_5     │ (\u001b[38;5;45mNone\u001b[0m, \u001b[38;5;34m32\u001b[0m, \u001b[38;5;34m128\u001b[0m,   │          \u001b[38;5;34m0\u001b[0m │ conv2d_7[\u001b[38;5;34m0\u001b[0m][\u001b[38;5;34m0\u001b[0m]    │\n",
       "│ (\u001b[38;5;33mMaxPooling2D\u001b[0m)      │ \u001b[38;5;34m16\u001b[0m)               │            │                   │\n",
       "├─────────────────────┼───────────────────┼────────────┼───────────────────┤\n",
       "│ conv2d_8 (\u001b[38;5;33mConv2D\u001b[0m)   │ (\u001b[38;5;45mNone\u001b[0m, \u001b[38;5;34m32\u001b[0m, \u001b[38;5;34m128\u001b[0m,   │      \u001b[38;5;34m4,640\u001b[0m │ max_pooling2d_5[\u001b[38;5;34m…\u001b[0m │\n",
       "│                     │ \u001b[38;5;34m32\u001b[0m)               │            │                   │\n",
       "├─────────────────────┼───────────────────┼────────────┼───────────────────┤\n",
       "│ max_pooling2d_6     │ (\u001b[38;5;45mNone\u001b[0m, \u001b[38;5;34m16\u001b[0m, \u001b[38;5;34m64\u001b[0m,    │          \u001b[38;5;34m0\u001b[0m │ conv2d_8[\u001b[38;5;34m0\u001b[0m][\u001b[38;5;34m0\u001b[0m]    │\n",
       "│ (\u001b[38;5;33mMaxPooling2D\u001b[0m)      │ \u001b[38;5;34m32\u001b[0m)               │            │                   │\n",
       "├─────────────────────┼───────────────────┼────────────┼───────────────────┤\n",
       "│ conv2d_9 (\u001b[38;5;33mConv2D\u001b[0m)   │ (\u001b[38;5;45mNone\u001b[0m, \u001b[38;5;34m16\u001b[0m, \u001b[38;5;34m64\u001b[0m,    │     \u001b[38;5;34m18,496\u001b[0m │ max_pooling2d_6[\u001b[38;5;34m…\u001b[0m │\n",
       "│                     │ \u001b[38;5;34m64\u001b[0m)               │            │                   │\n",
       "├─────────────────────┼───────────────────┼────────────┼───────────────────┤\n",
       "│ max_pooling2d_7     │ (\u001b[38;5;45mNone\u001b[0m, \u001b[38;5;34m8\u001b[0m, \u001b[38;5;34m32\u001b[0m, \u001b[38;5;34m64\u001b[0m) │          \u001b[38;5;34m0\u001b[0m │ conv2d_9[\u001b[38;5;34m0\u001b[0m][\u001b[38;5;34m0\u001b[0m]    │\n",
       "│ (\u001b[38;5;33mMaxPooling2D\u001b[0m)      │                   │            │                   │\n",
       "├─────────────────────┼───────────────────┼────────────┼───────────────────┤\n",
       "│ conv2d_10 (\u001b[38;5;33mConv2D\u001b[0m)  │ (\u001b[38;5;45mNone\u001b[0m, \u001b[38;5;34m8\u001b[0m, \u001b[38;5;34m32\u001b[0m, \u001b[38;5;34m64\u001b[0m) │     \u001b[38;5;34m36,928\u001b[0m │ max_pooling2d_7[\u001b[38;5;34m…\u001b[0m │\n",
       "├─────────────────────┼───────────────────┼────────────┼───────────────────┤\n",
       "│ max_pooling2d_8     │ (\u001b[38;5;45mNone\u001b[0m, \u001b[38;5;34m4\u001b[0m, \u001b[38;5;34m32\u001b[0m, \u001b[38;5;34m64\u001b[0m) │          \u001b[38;5;34m0\u001b[0m │ conv2d_10[\u001b[38;5;34m0\u001b[0m][\u001b[38;5;34m0\u001b[0m]   │\n",
       "│ (\u001b[38;5;33mMaxPooling2D\u001b[0m)      │                   │            │                   │\n",
       "├─────────────────────┼───────────────────┼────────────┼───────────────────┤\n",
       "│ conv2d_11 (\u001b[38;5;33mConv2D\u001b[0m)  │ (\u001b[38;5;45mNone\u001b[0m, \u001b[38;5;34m4\u001b[0m, \u001b[38;5;34m32\u001b[0m, \u001b[38;5;34m64\u001b[0m) │     \u001b[38;5;34m36,928\u001b[0m │ max_pooling2d_8[\u001b[38;5;34m…\u001b[0m │\n",
       "├─────────────────────┼───────────────────┼────────────┼───────────────────┤\n",
       "│ batch_normalizatio… │ (\u001b[38;5;45mNone\u001b[0m, \u001b[38;5;34m4\u001b[0m, \u001b[38;5;34m32\u001b[0m, \u001b[38;5;34m64\u001b[0m) │        \u001b[38;5;34m256\u001b[0m │ conv2d_11[\u001b[38;5;34m0\u001b[0m][\u001b[38;5;34m0\u001b[0m]   │\n",
       "│ (\u001b[38;5;33mBatchNormalizatio…\u001b[0m │                   │            │                   │\n",
       "├─────────────────────┼───────────────────┼────────────┼───────────────────┤\n",
       "│ conv2d_12 (\u001b[38;5;33mConv2D\u001b[0m)  │ (\u001b[38;5;45mNone\u001b[0m, \u001b[38;5;34m4\u001b[0m, \u001b[38;5;34m32\u001b[0m, \u001b[38;5;34m64\u001b[0m) │     \u001b[38;5;34m36,928\u001b[0m │ batch_normalizat… │\n",
       "├─────────────────────┼───────────────────┼────────────┼───────────────────┤\n",
       "│ batch_normalizatio… │ (\u001b[38;5;45mNone\u001b[0m, \u001b[38;5;34m4\u001b[0m, \u001b[38;5;34m32\u001b[0m, \u001b[38;5;34m64\u001b[0m) │        \u001b[38;5;34m256\u001b[0m │ conv2d_12[\u001b[38;5;34m0\u001b[0m][\u001b[38;5;34m0\u001b[0m]   │\n",
       "│ (\u001b[38;5;33mBatchNormalizatio…\u001b[0m │                   │            │                   │\n",
       "├─────────────────────┼───────────────────┼────────────┼───────────────────┤\n",
       "│ max_pooling2d_9     │ (\u001b[38;5;45mNone\u001b[0m, \u001b[38;5;34m2\u001b[0m, \u001b[38;5;34m32\u001b[0m, \u001b[38;5;34m64\u001b[0m) │          \u001b[38;5;34m0\u001b[0m │ batch_normalizat… │\n",
       "│ (\u001b[38;5;33mMaxPooling2D\u001b[0m)      │                   │            │                   │\n",
       "├─────────────────────┼───────────────────┼────────────┼───────────────────┤\n",
       "│ conv2d_13 (\u001b[38;5;33mConv2D\u001b[0m)  │ (\u001b[38;5;45mNone\u001b[0m, \u001b[38;5;34m1\u001b[0m, \u001b[38;5;34m31\u001b[0m, \u001b[38;5;34m64\u001b[0m) │     \u001b[38;5;34m16,448\u001b[0m │ max_pooling2d_9[\u001b[38;5;34m…\u001b[0m │\n",
       "├─────────────────────┼───────────────────┼────────────┼───────────────────┤\n",
       "│ lambda_1 (\u001b[38;5;33mLambda\u001b[0m)   │ (\u001b[38;5;45mNone\u001b[0m, \u001b[38;5;34m31\u001b[0m, \u001b[38;5;34m64\u001b[0m)    │          \u001b[38;5;34m0\u001b[0m │ conv2d_13[\u001b[38;5;34m0\u001b[0m][\u001b[38;5;34m0\u001b[0m]   │\n",
       "├─────────────────────┼───────────────────┼────────────┼───────────────────┤\n",
       "│ bidirectional_2     │ (\u001b[38;5;45mNone\u001b[0m, \u001b[38;5;34m31\u001b[0m, \u001b[38;5;34m256\u001b[0m)   │    \u001b[38;5;34m197,632\u001b[0m │ lambda_1[\u001b[38;5;34m0\u001b[0m][\u001b[38;5;34m0\u001b[0m]    │\n",
       "│ (\u001b[38;5;33mBidirectional\u001b[0m)     │                   │            │                   │\n",
       "├─────────────────────┼───────────────────┼────────────┼───────────────────┤\n",
       "│ bidirectional_3     │ (\u001b[38;5;45mNone\u001b[0m, \u001b[38;5;34m31\u001b[0m, \u001b[38;5;34m256\u001b[0m)   │    \u001b[38;5;34m394,240\u001b[0m │ bidirectional_2[\u001b[38;5;34m…\u001b[0m │\n",
       "│ (\u001b[38;5;33mBidirectional\u001b[0m)     │                   │            │                   │\n",
       "├─────────────────────┼───────────────────┼────────────┼───────────────────┤\n",
       "│ label (\u001b[38;5;33mInputLayer\u001b[0m)  │ (\u001b[38;5;45mNone\u001b[0m, \u001b[38;5;45mNone\u001b[0m)      │          \u001b[38;5;34m0\u001b[0m │ -                 │\n",
       "├─────────────────────┼───────────────────┼────────────┼───────────────────┤\n",
       "│ dense (\u001b[38;5;33mDense\u001b[0m)       │ (\u001b[38;5;45mNone\u001b[0m, \u001b[38;5;34m31\u001b[0m, \u001b[38;5;34m63\u001b[0m)    │     \u001b[38;5;34m16,191\u001b[0m │ bidirectional_3[\u001b[38;5;34m…\u001b[0m │\n",
       "├─────────────────────┼───────────────────┼────────────┼───────────────────┤\n",
       "│ ctc_loss (\u001b[38;5;33mCTCLayer\u001b[0m) │ (\u001b[38;5;45mNone\u001b[0m, \u001b[38;5;34m31\u001b[0m, \u001b[38;5;34m63\u001b[0m)    │          \u001b[38;5;34m0\u001b[0m │ label[\u001b[38;5;34m0\u001b[0m][\u001b[38;5;34m0\u001b[0m],      │\n",
       "│                     │                   │            │ dense[\u001b[38;5;34m0\u001b[0m][\u001b[38;5;34m0\u001b[0m]       │\n",
       "└─────────────────────┴───────────────────┴────────────┴───────────────────┘\n"
      ]
     },
     "metadata": {},
     "output_type": "display_data"
    },
    {
     "data": {
      "text/html": [
       "<pre style=\"white-space:pre;overflow-x:auto;line-height:normal;font-family:Menlo,'DejaVu Sans Mono',consolas,'Courier New',monospace\"><span style=\"font-weight: bold\"> Total params: </span><span style=\"color: #00af00; text-decoration-color: #00af00\">759,103</span> (2.90 MB)\n",
       "</pre>\n"
      ],
      "text/plain": [
       "\u001b[1m Total params: \u001b[0m\u001b[38;5;34m759,103\u001b[0m (2.90 MB)\n"
      ]
     },
     "metadata": {},
     "output_type": "display_data"
    },
    {
     "data": {
      "text/html": [
       "<pre style=\"white-space:pre;overflow-x:auto;line-height:normal;font-family:Menlo,'DejaVu Sans Mono',consolas,'Courier New',monospace\"><span style=\"font-weight: bold\"> Trainable params: </span><span style=\"color: #00af00; text-decoration-color: #00af00\">758,847</span> (2.89 MB)\n",
       "</pre>\n"
      ],
      "text/plain": [
       "\u001b[1m Trainable params: \u001b[0m\u001b[38;5;34m758,847\u001b[0m (2.89 MB)\n"
      ]
     },
     "metadata": {},
     "output_type": "display_data"
    },
    {
     "data": {
      "text/html": [
       "<pre style=\"white-space:pre;overflow-x:auto;line-height:normal;font-family:Menlo,'DejaVu Sans Mono',consolas,'Courier New',monospace\"><span style=\"font-weight: bold\"> Non-trainable params: </span><span style=\"color: #00af00; text-decoration-color: #00af00\">256</span> (1.00 KB)\n",
       "</pre>\n"
      ],
      "text/plain": [
       "\u001b[1m Non-trainable params: \u001b[0m\u001b[38;5;34m256\u001b[0m (1.00 KB)\n"
      ]
     },
     "metadata": {},
     "output_type": "display_data"
    }
   ],
   "source": [
    "model.compile(optimizer=Adam(learning_rate=0.0007,beta_1=0.9,beta_2=0.999,clipnorm=1))  #Adam(learning_rate=0.0007,beta_1=0.9,beta_2=0.999,clipnorm=1)\n",
    "model.summary()"
   ]
  },
  {
   "cell_type": "code",
   "execution_count": 51,
   "id": "c8c8354c",
   "metadata": {},
   "outputs": [],
   "source": [
    "import math\n",
    "\n",
    "\"\"\" def scheduler(epoch):\n",
    "  \n",
    "  if epoch <= 6:\n",
    "    lrate = 0.0007\n",
    "  else:\n",
    "    if epoch%2==1:\n",
    "      lrate = 0.0007 * (0.1 ** ((epoch-6-1)/2))\n",
    "    else:\n",
    "      lrate = 0.00035 * (0.1 ** ((epoch-6-2)/2))\n",
    "  \n",
    "  return lrate \"\"\"\n",
    "\n",
    "\"\"\" def scheduler(epoch):\n",
    "  \n",
    "  if epoch <= 5:\n",
    "    lrate = 0.0007\n",
    "  elif epoch>=6 and epoch<=13:\n",
    "      lrate = 0.00035 \n",
    "  else:\n",
    "      lrate = 0.0001\n",
    "  \n",
    "  return lrate \"\"\"\n",
    "\n",
    "def scheduler(epoch):\n",
    "  \n",
    "  if epoch <= 4:\n",
    "    lrate = 0.001\n",
    "  elif epoch>=5 and epoch<=8:\n",
    "      lrate = 0.0007\n",
    "  elif epoch>=9 and epoch<=12:\n",
    "     lrate = 0.00055\n",
    "  else:\n",
    "      lrate = 0.00035\n",
    "  \n",
    "  return lrate"
   ]
  },
  {
   "cell_type": "code",
   "execution_count": 52,
   "id": "a9ba2f2c",
   "metadata": {},
   "outputs": [
    {
     "data": {
      "text/plain": [
       "[<matplotlib.lines.Line2D at 0x22ced802ed0>]"
      ]
     },
     "execution_count": 52,
     "metadata": {},
     "output_type": "execute_result"
    },
    {
     "data": {
      "image/png": "[encoded data removed]",
      "text/plain": [
       "<Figure size 640x480 with 1 Axes>"
      ]
     },
     "metadata": {},
     "output_type": "display_data"
    }
   ],
   "source": [
    "import matplotlib.pyplot as plt\n",
    "\n",
    "epochs = [i for i in range(1, 51, 1)]\n",
    "lrate = [scheduler(i) for i in range(1, 51, 1)]\n",
    "plt.plot(epochs, lrate)"
   ]
  },
  {
   "cell_type": "code",
   "execution_count": 53,
   "id": "7827b68e",
   "metadata": {},
   "outputs": [
    {
     "name": "stderr",
     "output_type": "stream",
     "text": [
      "\u001b[1;38;5;214mCOMET WARNING:\u001b[0m To get all data logged automatically, import comet_ml before the following modules: tensorflow, keras, sklearn.\n",
      "\u001b[1;38;5;214mCOMET WARNING:\u001b[0m As you are running in a Jupyter environment, you will need to call `experiment.end()` when finished to ensure all metrics and code are logged before exiting.\n",
      "\u001b[1;38;5;39mCOMET INFO:\u001b[0m Experiment is live on comet.com https://www.comet.com/shrut2702/text-recognition/afa0d23ed9ed45799b1c30760755320a\n",
      "\n"
     ]
    }
   ],
   "source": [
    "from comet_ml import Experiment\n",
    "\n",
    "experiment = Experiment(\n",
    "    api_key='36u7fQ1u75EQl0qTCvNGxckgo',\n",
    "    project_name='text-recognition'\n",
    ")\n",
    "\n",
    "experiment.log_parameters({\"batch_size\": batch_size, \"epochs\": 30, \"optimizer\":\"Adam\", \"model\":\"CRNN (model 9)\", \"activation\":\"selu\",\"image_size\":\"(256,64)\", \"Approach\":\"Custom\", \"description\":\"CRNN with custom approach 7 (model 9), number of channels changed (shuffle=true and yes ReduceLROnPlateau)\"})"
   ]
  },
  {
   "cell_type": "code",
   "execution_count": 54,
   "id": "f6304be7",
   "metadata": {},
   "outputs": [],
   "source": [
    "class CometLoggingCallback(tf.keras.callbacks.Callback):\n",
    "    def on_epoch_end(self, epoch, logs=None):\n",
    "        logs = logs or {}\n",
    "\n",
    "        # Log metrics\n",
    "        if \"loss\" in logs:\n",
    "            experiment.log_metric(\"train_loss\", logs[\"loss\"], step=epoch)\n",
    "        if \"val_loss\" in logs:\n",
    "            experiment.log_metric(\"val_loss\", logs[\"val_loss\"], step=epoch)\n",
    "\n",
    "        # Log learning rate\n",
    "        lr = float(tf.keras.backend.get_value(self.model.optimizer.learning_rate))\n",
    "        experiment.log_metric(\"learning_rate\", lr, step=epoch)"
   ]
  },
  {
   "cell_type": "code",
   "execution_count": 55,
   "id": "bdd4e7be",
   "metadata": {},
   "outputs": [],
   "source": [
    "model_path='artifacts/models/crnn/crnn_best_12.h5'\n",
    "\n",
    "callbacks = [\n",
    "    CometLoggingCallback(),\n",
    "    #tf.keras.callbacks.LearningRateScheduler(scheduler),\n",
    "    tf.keras.callbacks.ReduceLROnPlateau(monitor='val_loss', factor=0.1, patience=2, verbose=1, mode='min', min_delta=0.0001),\n",
    "    tf.keras.callbacks.EarlyStopping(monitor='val_loss', patience=4, verbose=1, restore_best_weights=True),\n",
    "    tf.keras.callbacks.ModelCheckpoint(filepath=\"artifacts/models/crnn/crnn_synthdata_custom_7_epoch_{epoch:02d}.h5\", save_best_only=False, verbose=1, save_weights_only=False)\n",
    "    #tf.keras.callbacks.ModelCheckpoint(filepath=model_path, monitor='val_loss', save_best_only=True, verbose=1, mode='min', save_weights_only=False)\n",
    "]"
   ]
  },
  {
   "cell_type": "code",
   "execution_count": 56,
   "id": "3353fc2d",
   "metadata": {},
   "outputs": [
    {
     "name": "stdout",
     "output_type": "stream",
     "text": [
      "Epoch 1/30\n",
      "\u001b[1m140/225\u001b[0m \u001b[32m━━━━━━━━━━━━\u001b[0m\u001b[37m━━━━━━━━\u001b[0m \u001b[1m5:34\u001b[0m 4s/step - loss: 3752.5310"
     ]
    },
    {
     "name": "stderr",
     "output_type": "stream",
     "text": [
      "WARNING:urllib3.connectionpool:Retrying (Retry(total=2, connect=None, read=None, redirect=None, status=None)) after connection broken by 'ReadTimeoutError(\"HTTPSConnectionPool(host='www.comet.com', port=443): Read timed out. (read timeout=10)\")': /clientlib/status-report/update\n",
      "WARNING:urllib3.connectionpool:Retrying (Retry(total=2, connect=None, read=None, redirect=None, status=None)) after connection broken by 'ReadTimeoutError(\"HTTPSConnectionPool(host='www.comet.com', port=443): Read timed out. (read timeout=10)\")': /clientlib/rest/v2/write/experiment/output\n",
      "WARNING:urllib3.connectionpool:Retrying (Retry(total=1, connect=None, read=None, redirect=None, status=None)) after connection broken by 'NameResolutionError(\"<urllib3.connection.HTTPSConnection object at 0x0000022CEE1C4920>: Failed to resolve 'www.comet.com' ([Errno 11001] getaddrinfo failed)\")': /clientlib/status-report/update\n",
      "WARNING:urllib3.connectionpool:Retrying (Retry(total=0, connect=None, read=None, redirect=None, status=None)) after connection broken by 'NameResolutionError(\"<urllib3.connection.HTTPSConnection object at 0x0000022CEDAE5670>: Failed to resolve 'www.comet.com' ([Errno 11001] getaddrinfo failed)\")': /clientlib/status-report/update\n",
      "WARNING:urllib3.connectionpool:Retrying (Retry(total=1, connect=None, read=None, redirect=None, status=None)) after connection broken by 'NameResolutionError(\"<urllib3.connection.HTTPSConnection object at 0x0000022CEDA970B0>: Failed to resolve 'www.comet.com' ([Errno 11001] getaddrinfo failed)\")': /clientlib/rest/v2/write/experiment/output\n",
      "\u001b[1;38;5;196mCOMET ERROR:\u001b[0m Due to connectivity issues, there's an error in processing the heartbeat. The experiment's status updates might be inaccurate until the connection issues are resolved.\n"
     ]
    },
    {
     "name": "stdout",
     "output_type": "stream",
     "text": [
      "\u001b[1m141/225\u001b[0m \u001b[32m━━━━━━━━━━━━\u001b[0m\u001b[37m━━━━━━━━\u001b[0m \u001b[1m10:53\u001b[0m 8s/step - loss: 3748.1953"
     ]
    },
    {
     "name": "stderr",
     "output_type": "stream",
     "text": [
      "WARNING:urllib3.connectionpool:Retrying (Retry(total=0, connect=None, read=None, redirect=None, status=None)) after connection broken by 'NameResolutionError(\"<urllib3.connection.HTTPSConnection object at 0x0000022CEDB4F650>: Failed to resolve 'www.comet.com' ([Errno 11001] getaddrinfo failed)\")': /clientlib/rest/v2/write/experiment/output\n"
     ]
    },
    {
     "name": "stdout",
     "output_type": "stream",
     "text": [
      "\u001b[1m146/225\u001b[0m \u001b[32m━━━━━━━━━━━━\u001b[0m\u001b[37m━━━━━━━━\u001b[0m \u001b[1m10:20\u001b[0m 8s/step - loss: 3727.1509"
     ]
    },
    {
     "name": "stderr",
     "output_type": "stream",
     "text": [
      "WARNING:urllib3.connectionpool:Retrying (Retry(total=2, connect=None, read=None, redirect=None, status=None)) after connection broken by 'RemoteDisconnected('Remote end closed connection without response')': /clientlib/batch/logger/experiment/metric\n"
     ]
    },
    {
     "name": "stdout",
     "output_type": "stream",
     "text": [
      "\u001b[1m225/225\u001b[0m \u001b[32m━━━━━━━━━━━━━━━━━━━━\u001b[0m\u001b[37m\u001b[0m \u001b[1m0s\u001b[0m 7s/step - loss: 3495.9768\n",
      "Epoch 1: saving model to artifacts/models/crnn/crnn_synthdata_custom_7_epoch_01.h5\n"
     ]
    },
    {
     "name": "stderr",
     "output_type": "stream",
     "text": [
      "WARNING:absl:You are saving your model as an HDF5 file via `model.save()` or `keras.saving.save_model(model)`. This file format is considered legacy. We recommend using instead the native Keras format, e.g. `model.save('my_model.keras')` or `keras.saving.save_model(model, 'my_model.keras')`. \n"
     ]
    },
    {
     "name": "stdout",
     "output_type": "stream",
     "text": [
      "\u001b[1m225/225\u001b[0m \u001b[32m━━━━━━━━━━━━━━━━━━━━\u001b[0m\u001b[37m\u001b[0m \u001b[1m1630s\u001b[0m 7s/step - loss: 3493.8555 - val_loss: 2775.6309 - learning_rate: 7.0000e-04\n",
      "Epoch 2/30\n",
      "\u001b[1m225/225\u001b[0m \u001b[32m━━━━━━━━━━━━━━━━━━━━\u001b[0m\u001b[37m\u001b[0m \u001b[1m0s\u001b[0m 4s/step - loss: 2660.2527\n",
      "Epoch 2: saving model to artifacts/models/crnn/crnn_synthdata_custom_7_epoch_02.h5\n"
     ]
    },
    {
     "name": "stderr",
     "output_type": "stream",
     "text": [
      "WARNING:absl:You are saving your model as an HDF5 file via `model.save()` or `keras.saving.save_model(model)`. This file format is considered legacy. We recommend using instead the native Keras format, e.g. `model.save('my_model.keras')` or `keras.saving.save_model(model, 'my_model.keras')`. \n"
     ]
    },
    {
     "name": "stdout",
     "output_type": "stream",
     "text": [
      "\u001b[1m225/225\u001b[0m \u001b[32m━━━━━━━━━━━━━━━━━━━━\u001b[0m\u001b[37m\u001b[0m \u001b[1m1027s\u001b[0m 5s/step - loss: 2659.7551 - val_loss: 2351.5320 - learning_rate: 7.0000e-04\n",
      "Epoch 3/30\n",
      "\u001b[1m225/225\u001b[0m \u001b[32m━━━━━━━━━━━━━━━━━━━━\u001b[0m\u001b[37m\u001b[0m \u001b[1m0s\u001b[0m 4s/step - loss: 2137.6411\n",
      "Epoch 3: saving model to artifacts/models/crnn/crnn_synthdata_custom_7_epoch_03.h5\n"
     ]
    },
    {
     "name": "stderr",
     "output_type": "stream",
     "text": [
      "WARNING:absl:You are saving your model as an HDF5 file via `model.save()` or `keras.saving.save_model(model)`. This file format is considered legacy. We recommend using instead the native Keras format, e.g. `model.save('my_model.keras')` or `keras.saving.save_model(model, 'my_model.keras')`. \n"
     ]
    },
    {
     "name": "stdout",
     "output_type": "stream",
     "text": [
      "\u001b[1m225/225\u001b[0m \u001b[32m━━━━━━━━━━━━━━━━━━━━\u001b[0m\u001b[37m\u001b[0m \u001b[1m1051s\u001b[0m 5s/step - loss: 2136.8301 - val_loss: 1610.6483 - learning_rate: 7.0000e-04\n",
      "Epoch 4/30\n",
      "\u001b[1m225/225\u001b[0m \u001b[32m━━━━━━━━━━━━━━━━━━━━\u001b[0m\u001b[37m\u001b[0m \u001b[1m0s\u001b[0m 4s/step - loss: 1381.7437\n",
      "Epoch 4: saving model to artifacts/models/crnn/crnn_synthdata_custom_7_epoch_04.h5\n"
     ]
    },
    {
     "name": "stderr",
     "output_type": "stream",
     "text": [
      "WARNING:absl:You are saving your model as an HDF5 file via `model.save()` or `keras.saving.save_model(model)`. This file format is considered legacy. We recommend using instead the native Keras format, e.g. `model.save('my_model.keras')` or `keras.saving.save_model(model, 'my_model.keras')`. \n"
     ]
    },
    {
     "name": "stdout",
     "output_type": "stream",
     "text": [
      "\u001b[1m225/225\u001b[0m \u001b[32m━━━━━━━━━━━━━━━━━━━━\u001b[0m\u001b[37m\u001b[0m \u001b[1m930s\u001b[0m 4s/step - loss: 1381.1976 - val_loss: 1163.7694 - learning_rate: 7.0000e-04\n",
      "Epoch 5/30\n",
      "\u001b[1m225/225\u001b[0m \u001b[32m━━━━━━━━━━━━━━━━━━━━\u001b[0m\u001b[37m\u001b[0m \u001b[1m0s\u001b[0m 3s/step - loss: 981.4210\n",
      "Epoch 5: saving model to artifacts/models/crnn/crnn_synthdata_custom_7_epoch_05.h5\n"
     ]
    },
    {
     "name": "stderr",
     "output_type": "stream",
     "text": [
      "WARNING:absl:You are saving your model as an HDF5 file via `model.save()` or `keras.saving.save_model(model)`. This file format is considered legacy. We recommend using instead the native Keras format, e.g. `model.save('my_model.keras')` or `keras.saving.save_model(model, 'my_model.keras')`. \n"
     ]
    },
    {
     "name": "stdout",
     "output_type": "stream",
     "text": [
      "\u001b[1m225/225\u001b[0m \u001b[32m━━━━━━━━━━━━━━━━━━━━\u001b[0m\u001b[37m\u001b[0m \u001b[1m889s\u001b[0m 4s/step - loss: 981.1973 - val_loss: 927.7768 - learning_rate: 7.0000e-04\n",
      "Epoch 6/30\n",
      "\u001b[1m225/225\u001b[0m \u001b[32m━━━━━━━━━━━━━━━━━━━━\u001b[0m\u001b[37m\u001b[0m \u001b[1m0s\u001b[0m 4s/step - loss: 792.3860\n",
      "Epoch 6: saving model to artifacts/models/crnn/crnn_synthdata_custom_7_epoch_06.h5\n"
     ]
    },
    {
     "name": "stderr",
     "output_type": "stream",
     "text": [
      "WARNING:absl:You are saving your model as an HDF5 file via `model.save()` or `keras.saving.save_model(model)`. This file format is considered legacy. We recommend using instead the native Keras format, e.g. `model.save('my_model.keras')` or `keras.saving.save_model(model, 'my_model.keras')`. \n"
     ]
    },
    {
     "name": "stdout",
     "output_type": "stream",
     "text": [
      "\u001b[1m225/225\u001b[0m \u001b[32m━━━━━━━━━━━━━━━━━━━━\u001b[0m\u001b[37m\u001b[0m \u001b[1m912s\u001b[0m 4s/step - loss: 792.2595 - val_loss: 831.7398 - learning_rate: 7.0000e-04\n",
      "Epoch 7/30\n",
      "\u001b[1m225/225\u001b[0m \u001b[32m━━━━━━━━━━━━━━━━━━━━\u001b[0m\u001b[37m\u001b[0m \u001b[1m0s\u001b[0m 4s/step - loss: 676.7442\n",
      "Epoch 7: saving model to artifacts/models/crnn/crnn_synthdata_custom_7_epoch_07.h5\n"
     ]
    },
    {
     "name": "stderr",
     "output_type": "stream",
     "text": [
      "WARNING:absl:You are saving your model as an HDF5 file via `model.save()` or `keras.saving.save_model(model)`. This file format is considered legacy. We recommend using instead the native Keras format, e.g. `model.save('my_model.keras')` or `keras.saving.save_model(model, 'my_model.keras')`. \n"
     ]
    },
    {
     "name": "stdout",
     "output_type": "stream",
     "text": [
      "\u001b[1m225/225\u001b[0m \u001b[32m━━━━━━━━━━━━━━━━━━━━\u001b[0m\u001b[37m\u001b[0m \u001b[1m913s\u001b[0m 4s/step - loss: 676.6917 - val_loss: 770.7498 - learning_rate: 7.0000e-04\n",
      "Epoch 8/30\n",
      "\u001b[1m225/225\u001b[0m \u001b[32m━━━━━━━━━━━━━━━━━━━━\u001b[0m\u001b[37m\u001b[0m \u001b[1m0s\u001b[0m 3s/step - loss: 608.3903\n",
      "Epoch 8: saving model to artifacts/models/crnn/crnn_synthdata_custom_7_epoch_08.h5\n"
     ]
    },
    {
     "name": "stderr",
     "output_type": "stream",
     "text": [
      "WARNING:absl:You are saving your model as an HDF5 file via `model.save()` or `keras.saving.save_model(model)`. This file format is considered legacy. We recommend using instead the native Keras format, e.g. `model.save('my_model.keras')` or `keras.saving.save_model(model, 'my_model.keras')`. \n"
     ]
    },
    {
     "name": "stdout",
     "output_type": "stream",
     "text": [
      "\u001b[1m225/225\u001b[0m \u001b[32m━━━━━━━━━━━━━━━━━━━━\u001b[0m\u001b[37m\u001b[0m \u001b[1m890s\u001b[0m 4s/step - loss: 608.3454 - val_loss: 716.3930 - learning_rate: 7.0000e-04\n",
      "Epoch 9/30\n",
      "\u001b[1m225/225\u001b[0m \u001b[32m━━━━━━━━━━━━━━━━━━━━\u001b[0m\u001b[37m\u001b[0m \u001b[1m0s\u001b[0m 4s/step - loss: 546.9578"
     ]
    },
    {
     "name": "stderr",
     "output_type": "stream",
     "text": [
      "WARNING:urllib3.connectionpool:Retrying (Retry(total=2, connect=None, read=None, redirect=None, status=None)) after connection broken by 'ReadTimeoutError(\"HTTPSConnectionPool(host='www.comet.com', port=443): Read timed out. (read timeout=10)\")': /clientlib/status-report/update\n"
     ]
    },
    {
     "name": "stdout",
     "output_type": "stream",
     "text": [
      "\n",
      "Epoch 9: saving model to artifacts/models/crnn/crnn_synthdata_custom_7_epoch_09.h5\n"
     ]
    },
    {
     "name": "stderr",
     "output_type": "stream",
     "text": [
      "WARNING:absl:You are saving your model as an HDF5 file via `model.save()` or `keras.saving.save_model(model)`. This file format is considered legacy. We recommend using instead the native Keras format, e.g. `model.save('my_model.keras')` or `keras.saving.save_model(model, 'my_model.keras')`. \n"
     ]
    },
    {
     "name": "stdout",
     "output_type": "stream",
     "text": [
      "\u001b[1m225/225\u001b[0m \u001b[32m━━━━━━━━━━━━━━━━━━━━\u001b[0m\u001b[37m\u001b[0m \u001b[1m912s\u001b[0m 4s/step - loss: 546.9443 - val_loss: 744.1953 - learning_rate: 7.0000e-04\n",
      "Epoch 10/30\n",
      "\u001b[1m  3/225\u001b[0m \u001b[37m━━━━━━━━━━━━━━━━━━━━\u001b[0m \u001b[1m12:59\u001b[0m 4s/step - loss: 532.9526"
     ]
    },
    {
     "name": "stderr",
     "output_type": "stream",
     "text": [
      "WARNING:urllib3.connectionpool:Retrying (Retry(total=1, connect=None, read=None, redirect=None, status=None)) after connection broken by 'ConnectTimeoutError(<urllib3.connection.HTTPSConnection object at 0x0000022CF7D62990>, 'Connection to www.comet.com timed out. (connect timeout=10)')': /clientlib/status-report/update\n"
     ]
    },
    {
     "name": "stdout",
     "output_type": "stream",
     "text": [
      "\u001b[1m 12/225\u001b[0m \u001b[32m━\u001b[0m\u001b[37m━━━━━━━━━━━━━━━━━━━\u001b[0m \u001b[1m13:09\u001b[0m 4s/step - loss: 520.0724"
     ]
    },
    {
     "name": "stderr",
     "output_type": "stream",
     "text": [
      "WARNING:urllib3.connectionpool:Retrying (Retry(total=0, connect=None, read=None, redirect=None, status=None)) after connection broken by 'NewConnectionError('<urllib3.connection.HTTPSConnection object at 0x0000022CF7D783E0>: Failed to establish a new connection: [WinError 10053] An established connection was aborted by the software in your host machine')': /clientlib/status-report/update\n"
     ]
    },
    {
     "name": "stdout",
     "output_type": "stream",
     "text": [
      "\u001b[1m225/225\u001b[0m \u001b[32m━━━━━━━━━━━━━━━━━━━━\u001b[0m\u001b[37m\u001b[0m \u001b[1m0s\u001b[0m 4s/step - loss: 508.9302\n",
      "Epoch 10: saving model to artifacts/models/crnn/crnn_synthdata_custom_7_epoch_10.h5\n"
     ]
    },
    {
     "name": "stderr",
     "output_type": "stream",
     "text": [
      "WARNING:absl:You are saving your model as an HDF5 file via `model.save()` or `keras.saving.save_model(model)`. This file format is considered legacy. We recommend using instead the native Keras format, e.g. `model.save('my_model.keras')` or `keras.saving.save_model(model, 'my_model.keras')`. \n"
     ]
    },
    {
     "name": "stdout",
     "output_type": "stream",
     "text": [
      "\u001b[1m225/225\u001b[0m \u001b[32m━━━━━━━━━━━━━━━━━━━━\u001b[0m\u001b[37m\u001b[0m \u001b[1m906s\u001b[0m 4s/step - loss: 508.8918 - val_loss: 702.4428 - learning_rate: 7.0000e-04\n",
      "Epoch 11/30\n",
      "\u001b[1m225/225\u001b[0m \u001b[32m━━━━━━━━━━━━━━━━━━━━\u001b[0m\u001b[37m\u001b[0m \u001b[1m0s\u001b[0m 4s/step - loss: 464.9958\n",
      "Epoch 11: saving model to artifacts/models/crnn/crnn_synthdata_custom_7_epoch_11.h5\n"
     ]
    },
    {
     "name": "stderr",
     "output_type": "stream",
     "text": [
      "WARNING:absl:You are saving your model as an HDF5 file via `model.save()` or `keras.saving.save_model(model)`. This file format is considered legacy. We recommend using instead the native Keras format, e.g. `model.save('my_model.keras')` or `keras.saving.save_model(model, 'my_model.keras')`. \n"
     ]
    },
    {
     "name": "stdout",
     "output_type": "stream",
     "text": [
      "\u001b[1m225/225\u001b[0m \u001b[32m━━━━━━━━━━━━━━━━━━━━\u001b[0m\u001b[37m\u001b[0m \u001b[1m909s\u001b[0m 4s/step - loss: 464.9645 - val_loss: 716.1620 - learning_rate: 7.0000e-04\n",
      "Epoch 12/30\n",
      "\u001b[1m225/225\u001b[0m \u001b[32m━━━━━━━━━━━━━━━━━━━━\u001b[0m\u001b[37m\u001b[0m \u001b[1m0s\u001b[0m 4s/step - loss: 431.7834\n",
      "Epoch 12: ReduceLROnPlateau reducing learning rate to 6.99999975040555e-05.\n",
      "\n",
      "Epoch 12: saving model to artifacts/models/crnn/crnn_synthdata_custom_7_epoch_12.h5\n"
     ]
    },
    {
     "name": "stderr",
     "output_type": "stream",
     "text": [
      "WARNING:absl:You are saving your model as an HDF5 file via `model.save()` or `keras.saving.save_model(model)`. This file format is considered legacy. We recommend using instead the native Keras format, e.g. `model.save('my_model.keras')` or `keras.saving.save_model(model, 'my_model.keras')`. \n"
     ]
    },
    {
     "name": "stdout",
     "output_type": "stream",
     "text": [
      "\u001b[1m225/225\u001b[0m \u001b[32m━━━━━━━━━━━━━━━━━━━━\u001b[0m\u001b[37m\u001b[0m \u001b[1m907s\u001b[0m 4s/step - loss: 431.7786 - val_loss: 743.8361 - learning_rate: 7.0000e-04\n",
      "Epoch 13/30\n",
      "\u001b[1m225/225\u001b[0m \u001b[32m━━━━━━━━━━━━━━━━━━━━\u001b[0m\u001b[37m\u001b[0m \u001b[1m0s\u001b[0m 4s/step - loss: 374.7693\n",
      "Epoch 13: saving model to artifacts/models/crnn/crnn_synthdata_custom_7_epoch_13.h5\n"
     ]
    },
    {
     "name": "stderr",
     "output_type": "stream",
     "text": [
      "WARNING:absl:You are saving your model as an HDF5 file via `model.save()` or `keras.saving.save_model(model)`. This file format is considered legacy. We recommend using instead the native Keras format, e.g. `model.save('my_model.keras')` or `keras.saving.save_model(model, 'my_model.keras')`. \n"
     ]
    },
    {
     "name": "stdout",
     "output_type": "stream",
     "text": [
      "\u001b[1m225/225\u001b[0m \u001b[32m━━━━━━━━━━━━━━━━━━━━\u001b[0m\u001b[37m\u001b[0m \u001b[1m904s\u001b[0m 4s/step - loss: 374.6676 - val_loss: 636.8914 - learning_rate: 7.0000e-05\n",
      "Epoch 14/30\n",
      "\u001b[1m225/225\u001b[0m \u001b[32m━━━━━━━━━━━━━━━━━━━━\u001b[0m\u001b[37m\u001b[0m \u001b[1m0s\u001b[0m 3s/step - loss: 333.5593\n",
      "Epoch 14: saving model to artifacts/models/crnn/crnn_synthdata_custom_7_epoch_14.h5\n"
     ]
    },
    {
     "name": "stderr",
     "output_type": "stream",
     "text": [
      "WARNING:absl:You are saving your model as an HDF5 file via `model.save()` or `keras.saving.save_model(model)`. This file format is considered legacy. We recommend using instead the native Keras format, e.g. `model.save('my_model.keras')` or `keras.saving.save_model(model, 'my_model.keras')`. \n"
     ]
    },
    {
     "name": "stdout",
     "output_type": "stream",
     "text": [
      "\u001b[1m225/225\u001b[0m \u001b[32m━━━━━━━━━━━━━━━━━━━━\u001b[0m\u001b[37m\u001b[0m \u001b[1m898s\u001b[0m 4s/step - loss: 333.5058 - val_loss: 638.1080 - learning_rate: 7.0000e-05\n",
      "Epoch 15/30\n",
      "\u001b[1m225/225\u001b[0m \u001b[32m━━━━━━━━━━━━━━━━━━━━\u001b[0m\u001b[37m\u001b[0m \u001b[1m0s\u001b[0m 4s/step - loss: 316.0231\n",
      "Epoch 15: ReduceLROnPlateau reducing learning rate to 6.999999459367246e-06.\n",
      "\n",
      "Epoch 15: saving model to artifacts/models/crnn/crnn_synthdata_custom_7_epoch_15.h5\n"
     ]
    },
    {
     "name": "stderr",
     "output_type": "stream",
     "text": [
      "WARNING:absl:You are saving your model as an HDF5 file via `model.save()` or `keras.saving.save_model(model)`. This file format is considered legacy. We recommend using instead the native Keras format, e.g. `model.save('my_model.keras')` or `keras.saving.save_model(model, 'my_model.keras')`. \n"
     ]
    },
    {
     "name": "stdout",
     "output_type": "stream",
     "text": [
      "\u001b[1m225/225\u001b[0m \u001b[32m━━━━━━━━━━━━━━━━━━━━\u001b[0m\u001b[37m\u001b[0m \u001b[1m927s\u001b[0m 4s/step - loss: 315.9790 - val_loss: 640.9428 - learning_rate: 7.0000e-05\n",
      "Epoch 16/30\n",
      "\u001b[1m159/225\u001b[0m \u001b[32m━━━━━━━━━━━━━━\u001b[0m\u001b[37m━━━━━━\u001b[0m \u001b[1m3:52\u001b[0m 4s/step - loss: 305.7462"
     ]
    },
    {
     "name": "stderr",
     "output_type": "stream",
     "text": [
      "WARNING:urllib3.connectionpool:Retrying (Retry(total=2, connect=None, read=None, redirect=None, status=None)) after connection broken by 'NameResolutionError(\"<urllib3.connection.HTTPSConnection object at 0x0000022CED805940>: Failed to resolve 'www.comet.com' ([Errno 11002] getaddrinfo failed)\")': /clientlib/batch/logger/experiment/metric\n"
     ]
    },
    {
     "name": "stdout",
     "output_type": "stream",
     "text": [
      "\u001b[1m160/225\u001b[0m \u001b[32m━━━━━━━━━━━━━━\u001b[0m\u001b[37m━━━━━━\u001b[0m \u001b[1m3:49\u001b[0m 4s/step - loss: 305.7304"
     ]
    },
    {
     "name": "stderr",
     "output_type": "stream",
     "text": [
      "WARNING:urllib3.connectionpool:Retrying (Retry(total=1, connect=None, read=None, redirect=None, status=None)) after connection broken by 'NameResolutionError(\"<urllib3.connection.HTTPSConnection object at 0x0000022CEDF35EE0>: Failed to resolve 'www.comet.com' ([Errno 11002] getaddrinfo failed)\")': /clientlib/batch/logger/experiment/metric\n",
      "WARNING:urllib3.connectionpool:Retrying (Retry(total=2, connect=None, read=None, redirect=None, status=None)) after connection broken by 'ReadTimeoutError(\"HTTPSConnectionPool(host='www.comet.com', port=443): Read timed out. (read timeout=10)\")': /clientlib/status-report/update\n"
     ]
    },
    {
     "name": "stdout",
     "output_type": "stream",
     "text": [
      "\u001b[1m161/225\u001b[0m \u001b[32m━━━━━━━━━━━━━━\u001b[0m\u001b[37m━━━━━━\u001b[0m \u001b[1m3:45\u001b[0m 4s/step - loss: 305.7167"
     ]
    },
    {
     "name": "stderr",
     "output_type": "stream",
     "text": [
      "WARNING:urllib3.connectionpool:Retrying (Retry(total=1, connect=None, read=None, redirect=None, status=None)) after connection broken by 'NameResolutionError(\"<urllib3.connection.HTTPSConnection object at 0x0000022CF7FA8EF0>: Failed to resolve 'www.comet.com' ([Errno 11002] getaddrinfo failed)\")': /clientlib/status-report/update\n"
     ]
    },
    {
     "name": "stdout",
     "output_type": "stream",
     "text": [
      "\u001b[1m162/225\u001b[0m \u001b[32m━━━━━━━━━━━━━━\u001b[0m\u001b[37m━━━━━━\u001b[0m \u001b[1m3:42\u001b[0m 4s/step - loss: 305.7011"
     ]
    },
    {
     "name": "stderr",
     "output_type": "stream",
     "text": [
      "WARNING:urllib3.connectionpool:Retrying (Retry(total=0, connect=None, read=None, redirect=None, status=None)) after connection broken by 'NameResolutionError(\"<urllib3.connection.HTTPSConnection object at 0x0000022CF7FA89E0>: Failed to resolve 'www.comet.com' ([Errno 11002] getaddrinfo failed)\")': /clientlib/batch/logger/experiment/metric\n"
     ]
    },
    {
     "name": "stdout",
     "output_type": "stream",
     "text": [
      "\u001b[1m163/225\u001b[0m \u001b[32m━━━━━━━━━━━━━━\u001b[0m\u001b[37m━━━━━━\u001b[0m \u001b[1m3:38\u001b[0m 4s/step - loss: 305.6829"
     ]
    },
    {
     "name": "stderr",
     "output_type": "stream",
     "text": [
      "WARNING:urllib3.connectionpool:Retrying (Retry(total=0, connect=None, read=None, redirect=None, status=None)) after connection broken by 'NameResolutionError(\"<urllib3.connection.HTTPSConnection object at 0x0000022CF7C58F20>: Failed to resolve 'www.comet.com' ([Errno 11002] getaddrinfo failed)\")': /clientlib/status-report/update\n"
     ]
    },
    {
     "name": "stdout",
     "output_type": "stream",
     "text": [
      "\u001b[1m165/225\u001b[0m \u001b[32m━━━━━━━━━━━━━━\u001b[0m\u001b[37m━━━━━━\u001b[0m \u001b[1m3:31\u001b[0m 4s/step - loss: 305.6391"
     ]
    },
    {
     "name": "stderr",
     "output_type": "stream",
     "text": [
      "WARNING:urllib3.connectionpool:Retrying (Retry(total=2, connect=None, read=None, redirect=None, status=None)) after connection broken by 'ReadTimeoutError(\"HTTPSConnectionPool(host='www.comet.com', port=443): Read timed out. (read timeout=10)\")': /clientlib/rest/v2/write/experiment/output\n"
     ]
    },
    {
     "name": "stdout",
     "output_type": "stream",
     "text": [
      "\u001b[1m166/225\u001b[0m \u001b[32m━━━━━━━━━━━━━━\u001b[0m\u001b[37m━━━━━━\u001b[0m \u001b[1m3:28\u001b[0m 4s/step - loss: 305.6155"
     ]
    },
    {
     "name": "stderr",
     "output_type": "stream",
     "text": [
      "WARNING:urllib3.connectionpool:Retrying (Retry(total=1, connect=None, read=None, redirect=None, status=None)) after connection broken by 'NameResolutionError(\"<urllib3.connection.HTTPSConnection object at 0x0000022CF7F98470>: Failed to resolve 'www.comet.com' ([Errno 11002] getaddrinfo failed)\")': /clientlib/rest/v2/write/experiment/output\n"
     ]
    },
    {
     "name": "stdout",
     "output_type": "stream",
     "text": [
      "\u001b[1m168/225\u001b[0m \u001b[32m━━━━━━━━━━━━━━\u001b[0m\u001b[37m━━━━━━\u001b[0m \u001b[1m3:21\u001b[0m 4s/step - loss: 305.5688"
     ]
    },
    {
     "name": "stderr",
     "output_type": "stream",
     "text": [
      "WARNING:urllib3.connectionpool:Retrying (Retry(total=0, connect=None, read=None, redirect=None, status=None)) after connection broken by 'NameResolutionError(\"<urllib3.connection.HTTPSConnection object at 0x0000022CF7F9B230>: Failed to resolve 'www.comet.com' ([Errno 11002] getaddrinfo failed)\")': /clientlib/rest/v2/write/experiment/output\n"
     ]
    },
    {
     "name": "stdout",
     "output_type": "stream",
     "text": [
      "\u001b[1m225/225\u001b[0m \u001b[32m━━━━━━━━━━━━━━━━━━━━\u001b[0m\u001b[37m\u001b[0m \u001b[1m0s\u001b[0m 4s/step - loss: 302.7311\n",
      "Epoch 16: saving model to artifacts/models/crnn/crnn_synthdata_custom_7_epoch_16.h5\n"
     ]
    },
    {
     "name": "stderr",
     "output_type": "stream",
     "text": [
      "WARNING:absl:You are saving your model as an HDF5 file via `model.save()` or `keras.saving.save_model(model)`. This file format is considered legacy. We recommend using instead the native Keras format, e.g. `model.save('my_model.keras')` or `keras.saving.save_model(model, 'my_model.keras')`. \n"
     ]
    },
    {
     "name": "stdout",
     "output_type": "stream",
     "text": [
      "\u001b[1m225/225\u001b[0m \u001b[32m━━━━━━━━━━━━━━━━━━━━\u001b[0m\u001b[37m\u001b[0m \u001b[1m909s\u001b[0m 4s/step - loss: 302.6755 - val_loss: 622.0205 - learning_rate: 7.0000e-06\n",
      "Epoch 17/30\n",
      "\u001b[1m225/225\u001b[0m \u001b[32m━━━━━━━━━━━━━━━━━━━━\u001b[0m\u001b[37m\u001b[0m \u001b[1m0s\u001b[0m 4s/step - loss: 297.5706\n",
      "Epoch 17: saving model to artifacts/models/crnn/crnn_synthdata_custom_7_epoch_17.h5\n"
     ]
    },
    {
     "name": "stderr",
     "output_type": "stream",
     "text": [
      "WARNING:absl:You are saving your model as an HDF5 file via `model.save()` or `keras.saving.save_model(model)`. This file format is considered legacy. We recommend using instead the native Keras format, e.g. `model.save('my_model.keras')` or `keras.saving.save_model(model, 'my_model.keras')`. \n"
     ]
    },
    {
     "name": "stdout",
     "output_type": "stream",
     "text": [
      "\u001b[1m225/225\u001b[0m \u001b[32m━━━━━━━━━━━━━━━━━━━━\u001b[0m\u001b[37m\u001b[0m \u001b[1m920s\u001b[0m 4s/step - loss: 297.5222 - val_loss: 622.1116 - learning_rate: 7.0000e-06\n",
      "Epoch 18/30\n",
      "\u001b[1m225/225\u001b[0m \u001b[32m━━━━━━━━━━━━━━━━━━━━\u001b[0m\u001b[37m\u001b[0m \u001b[1m0s\u001b[0m 3s/step - loss: 295.2016\n",
      "Epoch 18: ReduceLROnPlateau reducing learning rate to 6.999999641266187e-07.\n",
      "\n",
      "Epoch 18: saving model to artifacts/models/crnn/crnn_synthdata_custom_7_epoch_18.h5\n"
     ]
    },
    {
     "name": "stderr",
     "output_type": "stream",
     "text": [
      "WARNING:absl:You are saving your model as an HDF5 file via `model.save()` or `keras.saving.save_model(model)`. This file format is considered legacy. We recommend using instead the native Keras format, e.g. `model.save('my_model.keras')` or `keras.saving.save_model(model, 'my_model.keras')`. \n"
     ]
    },
    {
     "name": "stdout",
     "output_type": "stream",
     "text": [
      "\u001b[1m225/225\u001b[0m \u001b[32m━━━━━━━━━━━━━━━━━━━━\u001b[0m\u001b[37m\u001b[0m \u001b[1m895s\u001b[0m 4s/step - loss: 295.1556 - val_loss: 622.5302 - learning_rate: 7.0000e-06\n",
      "Epoch 19/30\n",
      "\u001b[1m225/225\u001b[0m \u001b[32m━━━━━━━━━━━━━━━━━━━━\u001b[0m\u001b[37m\u001b[0m \u001b[1m0s\u001b[0m 4s/step - loss: 293.3634\n",
      "Epoch 19: saving model to artifacts/models/crnn/crnn_synthdata_custom_7_epoch_19.h5\n"
     ]
    },
    {
     "name": "stderr",
     "output_type": "stream",
     "text": [
      "WARNING:absl:You are saving your model as an HDF5 file via `model.save()` or `keras.saving.save_model(model)`. This file format is considered legacy. We recommend using instead the native Keras format, e.g. `model.save('my_model.keras')` or `keras.saving.save_model(model, 'my_model.keras')`. \n"
     ]
    },
    {
     "name": "stdout",
     "output_type": "stream",
     "text": [
      "\u001b[1m225/225\u001b[0m \u001b[32m━━━━━━━━━━━━━━━━━━━━\u001b[0m\u001b[37m\u001b[0m \u001b[1m922s\u001b[0m 4s/step - loss: 293.3154 - val_loss: 622.4073 - learning_rate: 7.0000e-07\n",
      "Epoch 20/30\n",
      "\u001b[1m225/225\u001b[0m \u001b[32m━━━━━━━━━━━━━━━━━━━━\u001b[0m\u001b[37m\u001b[0m \u001b[1m0s\u001b[0m 4s/step - loss: 292.9389\n",
      "Epoch 20: ReduceLROnPlateau reducing learning rate to 6.999999868639861e-08.\n",
      "\n",
      "Epoch 20: saving model to artifacts/models/crnn/crnn_synthdata_custom_7_epoch_20.h5\n"
     ]
    },
    {
     "name": "stderr",
     "output_type": "stream",
     "text": [
      "WARNING:absl:You are saving your model as an HDF5 file via `model.save()` or `keras.saving.save_model(model)`. This file format is considered legacy. We recommend using instead the native Keras format, e.g. `model.save('my_model.keras')` or `keras.saving.save_model(model, 'my_model.keras')`. \n"
     ]
    },
    {
     "name": "stdout",
     "output_type": "stream",
     "text": [
      "\u001b[1m225/225\u001b[0m \u001b[32m━━━━━━━━━━━━━━━━━━━━\u001b[0m\u001b[37m\u001b[0m \u001b[1m914s\u001b[0m 4s/step - loss: 292.8917 - val_loss: 622.3884 - learning_rate: 7.0000e-07\n",
      "Epoch 20: early stopping\n",
      "Restoring model weights from the end of the best epoch: 16.\n"
     ]
    },
    {
     "name": "stderr",
     "output_type": "stream",
     "text": [
      "\u001b[1;38;5;39mCOMET INFO:\u001b[0m ---------------------------------------------------------------------------------------\n",
      "\u001b[1;38;5;39mCOMET INFO:\u001b[0m Comet.ml Experiment Summary\n",
      "\u001b[1;38;5;39mCOMET INFO:\u001b[0m ---------------------------------------------------------------------------------------\n",
      "\u001b[1;38;5;39mCOMET INFO:\u001b[0m   Data:\n",
      "\u001b[1;38;5;39mCOMET INFO:\u001b[0m     display_summary_level : 1\n",
      "\u001b[1;38;5;39mCOMET INFO:\u001b[0m     name                  : free_elderberry_5245\n",
      "\u001b[1;38;5;39mCOMET INFO:\u001b[0m     url                   : https://www.comet.com/shrut2702/text-recognition/afa0d23ed9ed45799b1c30760755320a\n",
      "\u001b[1;38;5;39mCOMET INFO:\u001b[0m   Metrics [count] (min, max):\n",
      "\u001b[1;38;5;39mCOMET INFO:\u001b[0m     learning_rate [20] : (6.999999868639861e-07, 0.000699999975040555)\n",
      "\u001b[1;38;5;39mCOMET INFO:\u001b[0m     train_loss [20]    : (282.2577209472656, 3016.51171875)\n",
      "\u001b[1;38;5;39mCOMET INFO:\u001b[0m     val_loss [20]      : (622.0205078125, 2775.630859375)\n",
      "\u001b[1;38;5;39mCOMET INFO:\u001b[0m   Parameters:\n",
      "\u001b[1;38;5;39mCOMET INFO:\u001b[0m     Approach    : Custom\n",
      "\u001b[1;38;5;39mCOMET INFO:\u001b[0m     activation  : selu\n",
      "\u001b[1;38;5;39mCOMET INFO:\u001b[0m     batch_size  : 100\n",
      "\u001b[1;38;5;39mCOMET INFO:\u001b[0m     description : CRNN with custom approach 7 (model 9), number of channels changed (shuffle=true and yes ReduceLROnPlateau)\n",
      "\u001b[1;38;5;39mCOMET INFO:\u001b[0m     epochs      : 30\n",
      "\u001b[1;38;5;39mCOMET INFO:\u001b[0m     image_size  : (256,64)\n",
      "\u001b[1;38;5;39mCOMET INFO:\u001b[0m     model       : CRNN (model 9)\n",
      "\u001b[1;38;5;39mCOMET INFO:\u001b[0m     optimizer   : Adam\n",
      "\u001b[1;38;5;39mCOMET INFO:\u001b[0m   Uploads:\n",
      "\u001b[1;38;5;39mCOMET INFO:\u001b[0m     environment details      : 1\n",
      "\u001b[1;38;5;39mCOMET INFO:\u001b[0m     filename                 : 1\n",
      "\u001b[1;38;5;39mCOMET INFO:\u001b[0m     git metadata             : 1\n",
      "\u001b[1;38;5;39mCOMET INFO:\u001b[0m     git-patch (uncompressed) : 1 (25.25 KB)\n",
      "\u001b[1;38;5;39mCOMET INFO:\u001b[0m     installed packages       : 1\n",
      "\u001b[1;38;5;39mCOMET INFO:\u001b[0m     notebook                 : 1\n",
      "\u001b[1;38;5;39mCOMET INFO:\u001b[0m     source_code              : 1\n",
      "\u001b[1;38;5;39mCOMET INFO:\u001b[0m \n",
      "\u001b[1;38;5;214mCOMET WARNING:\u001b[0m To get all data logged automatically, import comet_ml before the following modules: tensorflow, keras, sklearn.\n",
      "WARNING:urllib3.connectionpool:Retrying (Retry(total=2, connect=None, read=None, redirect=None, status=None)) after connection broken by 'NewConnectionError('<urllib3.connection.HTTPSConnection object at 0x0000022CEDAA73E0>: Failed to establish a new connection: [WinError 10061] No connection could be made because the target machine actively refused it')': /api/rest/v2/experiment/metadata?experimentKey=afa0d23ed9ed45799b1c30760755320a\n",
      "WARNING:urllib3.connectionpool:Retrying (Retry(total=1, connect=None, read=None, redirect=None, status=None)) after connection broken by 'ConnectTimeoutError(<urllib3.connection.HTTPSConnection object at 0x0000022CF7F981A0>, 'Connection to www.comet.com timed out. (connect timeout=10)')': /api/rest/v2/experiment/metadata?experimentKey=afa0d23ed9ed45799b1c30760755320a\n",
      "WARNING:urllib3.connectionpool:Retrying (Retry(total=0, connect=None, read=None, redirect=None, status=None)) after connection broken by 'NewConnectionError('<urllib3.connection.HTTPSConnection object at 0x0000022CF7FAA840>: Failed to establish a new connection: [WinError 10061] No connection could be made because the target machine actively refused it')': /api/rest/v2/experiment/metadata?experimentKey=afa0d23ed9ed45799b1c30760755320a\n",
      "\u001b[1;38;5;39mCOMET INFO:\u001b[0m Using 'e:\\\\GCET\\\\Machine Learning\\\\Deep Learning Projects\\\\text_recognition\\\\.cometml-runs' path as offline directory. Pass 'offline_directory' parameter into constructor or set the 'COMET_OFFLINE_DIRECTORY' environment variable to manually choose where to store offline experiment archives.\n",
      "\u001b[1;38;5;214mCOMET WARNING:\u001b[0m Could not send live data to Comet during experiment runtime. An offline experiment will be available for upload:\n",
      "    comet upload --force-reupload e:\\GCET\\Machine Learning\\Deep Learning Projects\\text_recognition\\.cometml-runs\\afa0d23ed9ed45799b1c30760755320a-RELCfy.zip\n"
     ]
    }
   ],
   "source": [
    "model.fit(train_dataset,validation_data=test_dataset,callbacks=callbacks,epochs=30, shuffle=True)\n",
    "\n",
    "experiment.end()"
   ]
  },
  {
   "cell_type": "code",
   "execution_count": null,
   "id": "14ccfc94",
   "metadata": {},
   "outputs": [
    {
     "name": "stdout",
     "output_type": "stream",
     "text": [
      "\u001b[1m75/75\u001b[0m \u001b[32m━━━━━━━━━━━━━━━━━━━━\u001b[0m\u001b[37m\u001b[0m \u001b[1m167s\u001b[0m 2s/step\n"
     ]
    }
   ],
   "source": [
    "pred=model.predict(test_dataset)"
   ]
  },
  {
   "cell_type": "code",
   "execution_count": null,
   "id": "27167cd9",
   "metadata": {},
   "outputs": [
    {
     "data": {
      "image/png": "[encoded data removed]",
      "text/plain": [
       "<Figure size 640x480 with 1 Axes>"
      ]
     },
     "metadata": {},
     "output_type": "display_data"
    }
   ],
   "source": [
    "import matplotlib.pyplot as plt\n",
    "\n",
    "for batch in test_dataset.take(1):\n",
    "    images=batch['image']\n",
    "\n",
    "    #img=(images[22]*255).numpy().astype('uint8')\n",
    "    img=images[3]\n",
    "    \n",
    "    plt.imshow(img)\n"
   ]
  },
  {
   "cell_type": "code",
   "execution_count": null,
   "id": "983f0f55",
   "metadata": {},
   "outputs": [
    {
     "data": {
      "text/plain": [
       "['Dieefulness',\n",
       " 'NICKING',\n",
       " 'WILLIWAW',\n",
       " 'sussBG',\n",
       " 'scholars',\n",
       " 'EVILLEST',\n",
       " 'Tracey',\n",
       " 'TODD',\n",
       " 'ALACK',\n",
       " 'PAUPERS',\n",
       " 'RECOLONIEATION',\n",
       " 'Staunchness',\n",
       " 'Recurrences',\n",
       " 'garnishes',\n",
       " 'Dejecrian',\n",
       " 'BLAUEN',\n",
       " 'chagall',\n",
       " 'outvoting',\n",
       " 'pismires',\n",
       " 'ready',\n",
       " 'retook',\n",
       " 'Seraiters',\n",
       " 'CECCCAN',\n",
       " 'Ahaaating',\n",
       " 'perpetrator',\n",
       " 'LOCKABLE',\n",
       " 'iviiglies',\n",
       " 'Oasis',\n",
       " 'cltroen',\n",
       " 'swardls',\n",
       " 'marbleibe',\n",
       " 'Carl',\n",
       " 'rehabilitate',\n",
       " 'Perambulates',\n",
       " 'SNUGS',\n",
       " 'CRALAIKAS',\n",
       " 'MeAtRACK',\n",
       " 'XARARRY',\n",
       " 'bondage',\n",
       " 'Philby',\n",
       " 'toddhising',\n",
       " 'mutation',\n",
       " 'Detoxes',\n",
       " 'MIRITIAE',\n",
       " 'FLEMBLE',\n",
       " 'PIZZAN',\n",
       " 'Cortwheated',\n",
       " 'began',\n",
       " 'Mlap',\n",
       " 'inaugeral',\n",
       " 'encapsulation',\n",
       " 'Def',\n",
       " 'breeds',\n",
       " 'Moptaiine',\n",
       " 'Dictatorial',\n",
       " 'SUCKERED',\n",
       " 'LAPELS',\n",
       " 'CANDIDACIES',\n",
       " 'Chimp',\n",
       " 'thief',\n",
       " 'Myself',\n",
       " 'uulsecrached',\n",
       " 'GOSs',\n",
       " 'SKANST',\n",
       " 'ONGGAS',\n",
       " 'Shot',\n",
       " 'Concepcion',\n",
       " 'Persevered',\n",
       " 'Forecourit',\n",
       " 'aprils',\n",
       " 'SCARFED',\n",
       " 'federalist',\n",
       " 'Pitfalls',\n",
       " 'hombutgs',\n",
       " 'CONTOURING',\n",
       " 'bntiint',\n",
       " 'mishit',\n",
       " 'FORMAL',\n",
       " 'EYEUITNESS',\n",
       " 'VACUOUS',\n",
       " 'refit',\n",
       " 'BURNETT',\n",
       " 'stean',\n",
       " 'Supports',\n",
       " 'avior',\n",
       " 'Chameleors',\n",
       " 'ODDEST',\n",
       " 'Upliftings',\n",
       " 'ORLON',\n",
       " 'Payouts',\n",
       " 'STLLGILUDS',\n",
       " 'interwove',\n",
       " 'SARKED',\n",
       " 'PRMaL',\n",
       " 'TEMMCRIES',\n",
       " 'PENATURED',\n",
       " 'taoxicab',\n",
       " 'RESOWN',\n",
       " 'IMPRIMATUR',\n",
       " 'MUTTON',\n",
       " 'PRAGMATIC',\n",
       " 'CHARILY',\n",
       " 'hemispheres',\n",
       " 'PERiGY',\n",
       " 'PReacH',\n",
       " 'ulitaus',\n",
       " 'gelcap',\n",
       " 'Tongar',\n",
       " 'Lytette',\n",
       " 'grtnaindicate',\n",
       " 'CHARACTEIZD',\n",
       " 'Frumpy',\n",
       " 'UPPERCUTS',\n",
       " 'POOPING',\n",
       " 'Shortages',\n",
       " 'HOUERCRAFT',\n",
       " 'order',\n",
       " 'Baubles',\n",
       " 'CABLECAST',\n",
       " 'DISCOUNTER',\n",
       " 'Contamptuous',\n",
       " 'SEMANTIO',\n",
       " 'Predominate',\n",
       " 'Rerantation',\n",
       " 'AIRBRUSHES',\n",
       " 'Snitch',\n",
       " 'Vicisstudes',\n",
       " 'mulligans',\n",
       " 'RSURGENCY',\n",
       " 'DOORHNOCKERS',\n",
       " 'NNORTARe',\n",
       " 'undulations',\n",
       " 'conically',\n",
       " 'TOERAGS',\n",
       " 'PICHLT',\n",
       " 'Holiness',\n",
       " 'Deoopulated',\n",
       " 'Cartilage',\n",
       " 'appropriatiom',\n",
       " 'MOLEBT',\n",
       " 'eleanor',\n",
       " 'TUGEER',\n",
       " 'RENTEORATING',\n",
       " 'zeiger',\n",
       " 'MOUSY',\n",
       " 'BECKETT',\n",
       " 'priususlens',\n",
       " 'SANdER',\n",
       " 'Secedes',\n",
       " 'Saymberska',\n",
       " 'ceglorblindnes',\n",
       " 'skulduggery',\n",
       " 'delicacy',\n",
       " 'sophia',\n",
       " 'Huarache',\n",
       " 'COOUETTISH',\n",
       " 'Coyote',\n",
       " 'Grubby',\n",
       " 'MCIOFS',\n",
       " 'insoluble',\n",
       " 'Emperors',\n",
       " 'Bricad',\n",
       " 'iradees',\n",
       " 'Lemme',\n",
       " 'Backhoe',\n",
       " 'RUnNELS',\n",
       " 'Storyteller',\n",
       " 'BEdesnaUece',\n",
       " 'frisking',\n",
       " 'Reide',\n",
       " 'EUMENSES',\n",
       " 'lotuses',\n",
       " 'quaked',\n",
       " 'raches',\n",
       " 'Waterway',\n",
       " 'natches',\n",
       " 'Hurl',\n",
       " 'REVVIFIED',\n",
       " 'oranjestad',\n",
       " 'unwillingness',\n",
       " 'Entasta',\n",
       " 'sharbusity',\n",
       " 'SLITHBLD',\n",
       " 'Trltiay',\n",
       " 'deadwood',\n",
       " 'lazer',\n",
       " 'tnemfolly',\n",
       " 'Onoiss',\n",
       " 'BACULATION',\n",
       " 'CV',\n",
       " 'jum',\n",
       " 'OFFENBACH',\n",
       " 'Flruntioateet',\n",
       " 'Erasperatingly',\n",
       " 'Leusued',\n",
       " 'Cgps',\n",
       " 'recoiling',\n",
       " 'Also',\n",
       " 'Neckest',\n",
       " 'JANGLES',\n",
       " 'EXTRICATED',\n",
       " 'SrTO',\n",
       " 'GRUSADER',\n",
       " 'Perns',\n",
       " 'Kobgabllins',\n",
       " 'FOBLES',\n",
       " 'oushmasters',\n",
       " 'Question',\n",
       " 'chauriaitatie',\n",
       " 'Enigrants',\n",
       " 'catv',\n",
       " 'Sicko',\n",
       " 'LALING',\n",
       " 'FOLYMERIZATION',\n",
       " 'Inimitably',\n",
       " 'GIROS',\n",
       " 'Frappes',\n",
       " 'COUABORATIVE',\n",
       " 'OGRESS',\n",
       " 'FPS',\n",
       " 'Resntafg',\n",
       " 'ATROPHHIES',\n",
       " 'nontamsnabe',\n",
       " 'Verizon',\n",
       " 'ELONGATE',\n",
       " 'renumbered',\n",
       " 'caagpiamcratod',\n",
       " 'Gradient',\n",
       " 'Jabbed',\n",
       " 'Irregularities',\n",
       " 'SUTHETIGALLY',\n",
       " 'Confucianism',\n",
       " 'HERRERA',\n",
       " 'Fuel',\n",
       " 'Beecher',\n",
       " 'plushier',\n",
       " 'spoliation',\n",
       " 'DISCDNAECIONS',\n",
       " 'GENOME',\n",
       " 'Inverted',\n",
       " 'gaborone',\n",
       " 'blinder',\n",
       " 'slumlord',\n",
       " 'Cunfmefomins',\n",
       " 'bodice',\n",
       " 'doans',\n",
       " 'incoimpetent',\n",
       " 'fenced',\n",
       " 'MOUSERS',\n",
       " 'overoalancina',\n",
       " 'credentialing',\n",
       " 'CAREFULLEST',\n",
       " 'BIIDGRIES',\n",
       " 'ungoverned',\n",
       " 'hoodiwinike',\n",
       " 'brat',\n",
       " 'suitchblade',\n",
       " '5',\n",
       " 'Tuneup',\n",
       " 'lambs',\n",
       " 'DOMNATION',\n",
       " 'adduce',\n",
       " 'COLLIDING',\n",
       " 'LER',\n",
       " 'MASK',\n",
       " 'DISPRAISING',\n",
       " 'CHICKADHES',\n",
       " 'drapary',\n",
       " 'DESEIVE',\n",
       " 'SURETIES',\n",
       " 'JACK',\n",
       " 'Rapturously',\n",
       " 'sattd',\n",
       " 'Suppurates',\n",
       " 'Mynas',\n",
       " 'camcarders',\n",
       " 'Aehterzlide',\n",
       " 'Ultra',\n",
       " 'trrotip',\n",
       " 'SADDUCEE',\n",
       " 'IRREPROACIARLE',\n",
       " 'FLATLY',\n",
       " 'SORDIDLY',\n",
       " 'ordeals',\n",
       " 'primroses',\n",
       " 'Haggiah',\n",
       " 'Traci',\n",
       " 'Mood',\n",
       " 'PRIGHREUL',\n",
       " 'MISCHEF',\n",
       " 'IINSTIMUETHICAL',\n",
       " 'invols',\n",
       " 'Kinking',\n",
       " 'sutra',\n",
       " 'underpart',\n",
       " 'ERENGLOGIOT',\n",
       " 'inntam',\n",
       " 'Deprecating',\n",
       " 'Ss',\n",
       " 'Jacksonian',\n",
       " 'CY',\n",
       " 'Abiured',\n",
       " 'mdn',\n",
       " 'playfully',\n",
       " 'Ermeds',\n",
       " 'Cleanly',\n",
       " 'Drumbeats',\n",
       " 'NONCOMMITTAL',\n",
       " 'MOTHERBOARDS',\n",
       " 'C1S',\n",
       " 'FORETASTE',\n",
       " 'mISpLAMS',\n",
       " 'adrenalin',\n",
       " 'INFLATIONARY',\n",
       " 'Reduction',\n",
       " 'meg',\n",
       " 'SUNTANMING',\n",
       " 'copycats',\n",
       " 'Nevada',\n",
       " 'atakfess',\n",
       " 'SENTENCING',\n",
       " 'tightener',\n",
       " 'POtties',\n",
       " 'HOPS',\n",
       " 'OMIT',\n",
       " 'Tidelands',\n",
       " 'REESTABLSHNC',\n",
       " 'bestially',\n",
       " 'dockrines',\n",
       " 'Plonker',\n",
       " 'Corrosion',\n",
       " 'Caldden',\n",
       " 'hucksan',\n",
       " 'legislarively',\n",
       " 'DOOLALLY',\n",
       " 'losther',\n",
       " 'Lingerings',\n",
       " 'RAVINES',\n",
       " 'Lucian',\n",
       " 'KARl',\n",
       " 'washtubs',\n",
       " 'DROSIER',\n",
       " 'Teaks',\n",
       " 'CONNodE',\n",
       " 'BROILING',\n",
       " 'WEIRDIES',\n",
       " 'mics',\n",
       " 'caliatit',\n",
       " 'callowest',\n",
       " 'Wv',\n",
       " 'ilorescs',\n",
       " 'Tranqutt',\n",
       " 'Rubric',\n",
       " 'mgged',\n",
       " 'PRECHESER',\n",
       " 'WHOOPING',\n",
       " 'Stacie',\n",
       " 'MREOFEY',\n",
       " 'Mmacle',\n",
       " 'zOURS',\n",
       " 'HMECUE',\n",
       " 'suLlener',\n",
       " 'NPATENTS',\n",
       " 'dastardliness',\n",
       " 'LOOniEes',\n",
       " 'DISAGREED',\n",
       " 'COWER',\n",
       " 'indiupclitios',\n",
       " 'MATH',\n",
       " 'stapled',\n",
       " 'weak',\n",
       " 'Serters',\n",
       " 'Gonedias',\n",
       " 'depletion',\n",
       " 'LAMES',\n",
       " 'troesee',\n",
       " 'RESTRICTION',\n",
       " 'TOBY',\n",
       " 'aaancntange',\n",
       " 'ClNTaam',\n",
       " 'endow',\n",
       " 'Leafing',\n",
       " 'harness',\n",
       " 'tiangular',\n",
       " 'COPAACTEST',\n",
       " 'cuizine',\n",
       " 'Tangerine',\n",
       " 'Decoratively',\n",
       " 'agnostic',\n",
       " 'Affx',\n",
       " 'zephaniah',\n",
       " 'INFILLING',\n",
       " 'Interloped',\n",
       " 'simulator',\n",
       " 'Serge',\n",
       " 'mureale',\n",
       " 'Melended',\n",
       " 'bewilders',\n",
       " 'SPLAY',\n",
       " 'FACTORZES',\n",
       " 'HUMANEST',\n",
       " 'uoheing',\n",
       " 'toikycoddle',\n",
       " 'I11O',\n",
       " 'bodikn',\n",
       " 'whealed',\n",
       " 'sulked',\n",
       " 'LEPER',\n",
       " 'Rolliing',\n",
       " 'Redirecta',\n",
       " 'Caarta',\n",
       " 'caricatured',\n",
       " 'baanlsens',\n",
       " 'PHEQUEICE',\n",
       " 'incantormabic',\n",
       " 'ISSUE',\n",
       " 'Continues',\n",
       " 'Cloppily',\n",
       " 'Diffuscly',\n",
       " 'CORKING',\n",
       " 'STUMBLERS',\n",
       " 'TREELIKE',\n",
       " 'PHOTONS',\n",
       " 'approvingly',\n",
       " 'ealguln',\n",
       " 'Eaorcioas',\n",
       " 'RNDUETIUET',\n",
       " 'tucks',\n",
       " 'MIRTHLESSLY',\n",
       " 'SCHMUCKS',\n",
       " 'SPONTANEOUSLY',\n",
       " 'GAIARS',\n",
       " 'diauiest',\n",
       " 'PERISHING',\n",
       " 'baypine',\n",
       " 'astrophysicist',\n",
       " 'astrologist',\n",
       " 'tabletops',\n",
       " 'EAPRESSUENESS',\n",
       " 'Engender',\n",
       " 'Armament',\n",
       " 'robustness',\n",
       " 'HROCTS',\n",
       " 'CAMMING',\n",
       " 'CAMRANOLOOIST',\n",
       " 'sallow',\n",
       " 'beriery',\n",
       " 'Voiced',\n",
       " 'Both',\n",
       " 'SHEAVED',\n",
       " 'PPEEOMEPTBNG',\n",
       " 'ROLDATHAKERS',\n",
       " 'lowed',\n",
       " 'dery',\n",
       " 'VITALIZING',\n",
       " 'stewed',\n",
       " 'slinashet',\n",
       " 'Savings',\n",
       " 'SOUTHWIEL',\n",
       " 'quaiiraties',\n",
       " 'COLTS',\n",
       " 'DETERMENT',\n",
       " 'Smoatinass',\n",
       " 'CEWTING',\n",
       " 'HEADWAITER',\n",
       " 'KITCHENWARE',\n",
       " 'novae',\n",
       " 'CONTRNUALLY',\n",
       " 'Undoubted',\n",
       " 'Hussein',\n",
       " 'Layered',\n",
       " 'sleepwer',\n",
       " 'BRIEFNESS',\n",
       " 'GILDERS',\n",
       " 'Czarists',\n",
       " 'towlines',\n",
       " 'UNAMGIFIOUS',\n",
       " 'MANSTREAMED',\n",
       " 'Attention',\n",
       " 'CRADLING',\n",
       " 'Skoal',\n",
       " 'BUTCHERS',\n",
       " 'UNHAMDY',\n",
       " 'MOONDOGGLERS',\n",
       " 'Staving',\n",
       " 'fuckers',\n",
       " 'Senselessly',\n",
       " 'peckish',\n",
       " 'GRAPEVINE',\n",
       " 'Melioration',\n",
       " 'Lamps',\n",
       " 'Oocurred',\n",
       " 'Ss',\n",
       " 'TITLING',\n",
       " 'Reposes',\n",
       " 'DIRARRERS',\n",
       " 'WHEEZE',\n",
       " 'chidingly',\n",
       " 'Raphael',\n",
       " 'EHTETULATICI',\n",
       " 'fenits',\n",
       " 'INDSCHARCED',\n",
       " 'LODGES',\n",
       " 'Carbonating',\n",
       " 'GAES',\n",
       " 'Negotiates',\n",
       " 'sharpen',\n",
       " 'hedged',\n",
       " 'Devices',\n",
       " 'nohow',\n",
       " 'hyphenates',\n",
       " 'Uuarterly',\n",
       " 'REINOCULATED',\n",
       " 'INCIMERATE',\n",
       " 'RETINUES',\n",
       " 'ghariah',\n",
       " 'Greengrocers',\n",
       " 'MARINATED',\n",
       " 'ensues',\n",
       " 'SUSPECHET',\n",
       " 'CONTREAU',\n",
       " 'Insurgences',\n",
       " 'insolverts',\n",
       " 'CATWALKS',\n",
       " 'Jss',\n",
       " 'RECAPITULATIONS',\n",
       " 'ludicrous',\n",
       " 'CAROUSER',\n",
       " 'oiviating',\n",
       " 'Intestine',\n",
       " 'RECOTFIRTNG',\n",
       " 'Temestrially',\n",
       " 'aspilre',\n",
       " 'Dispensary',\n",
       " 'KELSTONES',\n",
       " 'commendable',\n",
       " 'CUBRNS',\n",
       " 'tanmed',\n",
       " 'food',\n",
       " 'Gtraitened',\n",
       " 'DINGBATS',\n",
       " 'MALREATS',\n",
       " 'Cramly',\n",
       " 'Prergizes',\n",
       " 'ASPIRATIONS',\n",
       " 'JTRATBOURG',\n",
       " 'feinting',\n",
       " 'surf',\n",
       " 'cuba',\n",
       " 'UNLAGLIED',\n",
       " 'brownstone',\n",
       " 'Aceountant',\n",
       " 'housecoats',\n",
       " 'MEET',\n",
       " 'abresivnnuss',\n",
       " 'Parkas',\n",
       " 'Satdiar',\n",
       " 'romindes',\n",
       " 'Plundier',\n",
       " 'sttendancer',\n",
       " 'THONG',\n",
       " 'LOCK',\n",
       " 'Incoherence',\n",
       " 'hemstitching',\n",
       " 'othilistic',\n",
       " 'cralere',\n",
       " 'Bpimendtered',\n",
       " 'CpeErt',\n",
       " 'Fueps',\n",
       " 'DEBAUCHED',\n",
       " 'primness',\n",
       " 'Cernsurable',\n",
       " 'saccharin',\n",
       " 'indisinguisiably',\n",
       " 'ioneramuses',\n",
       " 'SPILLING',\n",
       " 'FASHION',\n",
       " 'GRUBS',\n",
       " 'MMOVABILITY',\n",
       " 'retrofired',\n",
       " 'garnering',\n",
       " 'EMBODY',\n",
       " 'contormance',\n",
       " 'CHEERING',\n",
       " 'Sable',\n",
       " 'Rudolph',\n",
       " 'FROLICKER',\n",
       " 'Farted',\n",
       " 'aussies',\n",
       " 'Nan',\n",
       " 'GUNNERS',\n",
       " 'cReapnS',\n",
       " 'usable',\n",
       " 'ms',\n",
       " 'RECREITING',\n",
       " 'Pnatisas',\n",
       " 'INPUT',\n",
       " 'eLeVeNTRS',\n",
       " 'calving',\n",
       " 'romulus',\n",
       " 'Lauyaes',\n",
       " 'MEGALITA',\n",
       " 'TELEMARKETING',\n",
       " 'forms',\n",
       " 'hardeners',\n",
       " 'VIRUS',\n",
       " 'Janacek',\n",
       " 'Grhucks',\n",
       " 'MCTORCAE',\n",
       " 'proofs',\n",
       " 'RAWALPINDI',\n",
       " 'Tbs',\n",
       " 'Potions',\n",
       " 'DILEMMA',\n",
       " 'blowholes',\n",
       " 'Coeaice',\n",
       " 'Trills',\n",
       " 'collateral',\n",
       " 'SNOWSHOE',\n",
       " 'mestinghaude',\n",
       " 'WINNER',\n",
       " 'Buriside',\n",
       " 'shrinking',\n",
       " 'FLADPERS',\n",
       " 'OVERDEVELOP',\n",
       " 'BALEARK',\n",
       " 'Traveled',\n",
       " 'Kinswomat',\n",
       " 'CACUSTA',\n",
       " 'pueveved',\n",
       " 'Rice',\n",
       " 'Defending',\n",
       " 'standing',\n",
       " 'SwUfrUrcT',\n",
       " 'As',\n",
       " 'pharynx',\n",
       " 'Inconeistenes',\n",
       " 'Veat',\n",
       " 'Bloomer',\n",
       " 'capagiro',\n",
       " 'CaunOss',\n",
       " 'GGE',\n",
       " 'waiter',\n",
       " 'pseuds',\n",
       " 'Superstores',\n",
       " 'ThouSAINOTA',\n",
       " 'Ps',\n",
       " 'sweeps',\n",
       " 'STRANDING',\n",
       " 'THNGUMIMES',\n",
       " 'MD',\n",
       " 'UNILEVER',\n",
       " 'PEIET',\n",
       " 'Twvitlier',\n",
       " 'Aspirator',\n",
       " 'Storefronts',\n",
       " 'PUDIEST',\n",
       " 'COssavg',\n",
       " 'INSTANTLY',\n",
       " 'Pythons',\n",
       " 'thrills',\n",
       " 'ILIE',\n",
       " 'Didactic',\n",
       " 'CONGULCS',\n",
       " 'TROSTEBSHIP',\n",
       " 'petttz',\n",
       " 'ecolerists',\n",
       " 'usable',\n",
       " 'DIFFUSELY',\n",
       " 'attrition',\n",
       " 'Pincuchtons',\n",
       " 'CONCILTBLE',\n",
       " 'MULRONEY',\n",
       " 'belching',\n",
       " 'TCHAKOVISY',\n",
       " 'MiSMAnagING',\n",
       " 'Soundness',\n",
       " 'Tef',\n",
       " 'QUTBALANCED',\n",
       " 'babind',\n",
       " 'lnchtine',\n",
       " 'Ungracious',\n",
       " 'secludes',\n",
       " 'insufferable',\n",
       " 'FLNITTY',\n",
       " 'SWAPS',\n",
       " 'nompracticing',\n",
       " 'Ecclesiastic',\n",
       " 'Cs',\n",
       " 'CHNBER',\n",
       " 'VIVIDNESS',\n",
       " 'GOUCNBTTE',\n",
       " 'CES',\n",
       " 'Cs',\n",
       " 'EXHBITIONS',\n",
       " 'Zols',\n",
       " 'iedesigning',\n",
       " 'omnivores',\n",
       " 'smuttiest',\n",
       " 'GLOTTISES',\n",
       " 'uppaid',\n",
       " 'trinidad',\n",
       " 'BARNAUL',\n",
       " 'CRASRS',\n",
       " 'oola',\n",
       " 'inbeaten',\n",
       " 'Gumboil',\n",
       " 'Ouerselling',\n",
       " 'Event',\n",
       " 'Rattan',\n",
       " 'VHF',\n",
       " 'unoosen',\n",
       " 'distributors',\n",
       " 'Patkological',\n",
       " 'grioow',\n",
       " 'SOUPS',\n",
       " 'Mcdaniel',\n",
       " 'MUERONOSRSATES',\n",
       " 'mackintoshes',\n",
       " 'ingetndnaly',\n",
       " 'Eggshelils',\n",
       " 'AZTECS',\n",
       " 'muffling',\n",
       " 'Facl',\n",
       " 'ERODES',\n",
       " 'dairyuoman',\n",
       " 'Eremonp',\n",
       " 'Pratestation',\n",
       " 'Liza',\n",
       " 'Unperurbed',\n",
       " 'ululated',\n",
       " 'Organizer',\n",
       " 'Knuth',\n",
       " 'Sxraggerer',\n",
       " 'AMBOEXTROUSLY',\n",
       " 'grubbily',\n",
       " 'Pad',\n",
       " 'Proving',\n",
       " 'SRATELOARDERS',\n",
       " 'cheeses',\n",
       " 'SLURRED',\n",
       " 'Winauips',\n",
       " 'Elected',\n",
       " 'Laping',\n",
       " 'Seasoning',\n",
       " 'glimmering',\n",
       " 'DETACH',\n",
       " 'syUPIUEeS',\n",
       " 'Netflix',\n",
       " 'eaciturnity',\n",
       " 'PHIMOSL',\n",
       " 'WILDCATIED',\n",
       " 'rewrites',\n",
       " 'perreacns',\n",
       " 'Scrump',\n",
       " 'Bleated',\n",
       " 'Compurertes',\n",
       " 'schoolgirl',\n",
       " 'commemorates',\n",
       " 'greene',\n",
       " 'TOPICALLY',\n",
       " 'pariamentarians',\n",
       " 'carjackings',\n",
       " 'Cimcrach',\n",
       " 'reforge',\n",
       " 'MICRAINE',\n",
       " 'Rabbit',\n",
       " 'TNOERESSIN',\n",
       " 'DECLINES',\n",
       " 'wives',\n",
       " 'Fundamontaly',\n",
       " 'ARBITRAGEUR',\n",
       " 'incising',\n",
       " 'SLEICHING',\n",
       " 'STAND',\n",
       " 'Ghvarhaner',\n",
       " 'Saved',\n",
       " 'jiggliest',\n",
       " 'Fees',\n",
       " 'Documentations',\n",
       " 'I',\n",
       " 'LT',\n",
       " 'GALL',\n",
       " 'stickleback',\n",
       " 'Humvee',\n",
       " 'Syndication',\n",
       " 'Bogaiea',\n",
       " 'RENUNCIATION',\n",
       " 'BETA',\n",
       " 'HOOKaAnICES',\n",
       " 'Stereotype',\n",
       " 'desalinating',\n",
       " 'LavoS',\n",
       " 'CSONKA',\n",
       " 'RACKETEER',\n",
       " 'PAGEN',\n",
       " 'evolves',\n",
       " 'correlative',\n",
       " 'SEDUCTRESS',\n",
       " 'Wlats',\n",
       " 'richest',\n",
       " 'disdaining',\n",
       " 'Flonwerbed',\n",
       " 'apses',\n",
       " 'BASQUE',\n",
       " 'Tavigate',\n",
       " 'drgeous',\n",
       " 'annotating',\n",
       " 'Skyiackers',\n",
       " 'puds',\n",
       " 'BOARZES',\n",
       " 'Fascinated',\n",
       " 'stubby',\n",
       " 'RS',\n",
       " 'Splice',\n",
       " 'Sintam',\n",
       " 'vatican',\n",
       " 'baotou',\n",
       " 'potile',\n",
       " 'dunusagient',\n",
       " 'BOWLIng',\n",
       " 'STUDY',\n",
       " 'PIOUSNESS',\n",
       " 'UNCARING',\n",
       " 'Unpacs',\n",
       " 'aatans',\n",
       " 'Sagged',\n",
       " 'TRANSLUCENCE',\n",
       " 'Concaraumal',\n",
       " 'hdreea',\n",
       " 'Ta',\n",
       " 'misusing',\n",
       " 'Scblingb',\n",
       " 'Cotsairs',\n",
       " 'REDCURRANT',\n",
       " 'elisa',\n",
       " 'SHIMMERY',\n",
       " 'benestsaties',\n",
       " 'SWARI',\n",
       " 'mobbing',\n",
       " 'BAGNTELLE',\n",
       " 'cebena',\n",
       " 'HAIRSTYLIST',\n",
       " 'ABBREVIATED',\n",
       " 'flanders',\n",
       " 'Dandifying',\n",
       " 'mbsturtiive',\n",
       " 'SREAEITFED',\n",
       " 'SURGE',\n",
       " 'CORACTLLL',\n",
       " 'Reservists',\n",
       " 'Deviiing',\n",
       " 'tonssyus',\n",
       " 'Overyhelming',\n",
       " 'Rigor',\n",
       " 'Prastvatiens',\n",
       " 'assigners',\n",
       " 'MTONNE',\n",
       " 'tILS',\n",
       " 'ripplier',\n",
       " 'ACHOO',\n",
       " 'chisels',\n",
       " 'peacetime',\n",
       " 'OiaANeas',\n",
       " 'Operators',\n",
       " 'Repeating',\n",
       " 'REDDENS',\n",
       " 'Clmsey',\n",
       " 'obstatrictans',\n",
       " 'Designers',\n",
       " 'Oums',\n",
       " 'Hilltop',\n",
       " 'TOLEDOS',\n",
       " 'milt',\n",
       " 'PNS',\n",
       " 'Syothecize',\n",
       " 'IMPRESSING',\n",
       " 'bye',\n",
       " 'Siggraphaotd',\n",
       " 'ukases',\n",
       " 'corislibr',\n",
       " 'Sisterc',\n",
       " 'Freeminentto',\n",
       " 'geehiest',\n",
       " 'sREsGE',\n",
       " 'CIPEGCTICIRE',\n",
       " 'TERMITES',\n",
       " 'COMINT',\n",
       " 'antispasmodics',\n",
       " 'Gargied',\n",
       " 'TRIVET',\n",
       " 'WacifRe',\n",
       " 'DEBARKED',\n",
       " 'fymesters',\n",
       " 'sanaatioranes',\n",
       " 'REMARKS',\n",
       " 'GIRLINER',\n",
       " 'Conferments',\n",
       " 'ENDEMICS',\n",
       " 'WISE',\n",
       " 'DANCED',\n",
       " 'sapinrs',\n",
       " 'cemplclences',\n",
       " 'Mersnged',\n",
       " 'KINDREARTTEDLY',\n",
       " 'FAXES',\n",
       " 'Descend',\n",
       " 'mraying',\n",
       " 'ANDORRAN',\n",
       " 'Fickle',\n",
       " 'ROUES',\n",
       " 'fawbreakers',\n",
       " 'Asininities',\n",
       " 'symphonic',\n",
       " 'Spragying',\n",
       " 'TRRSt',\n",
       " 'aalg',\n",
       " 'Hammertoe',\n",
       " 'starves',\n",
       " 'PURBONN',\n",
       " 'Adjourned',\n",
       " 'operands',\n",
       " 'HmH',\n",
       " 'TABLESPOON',\n",
       " 'Eguivocations',\n",
       " 'Southeastward',\n",
       " 'Gimmes',\n",
       " 'Mutineers',\n",
       " 'POMERANIAN',\n",
       " 'SCRUMS',\n",
       " 'Shirker',\n",
       " 'glued',\n",
       " 'serviette',\n",
       " 'baes',\n",
       " 'Aucustness',\n",
       " 'Spokesman',\n",
       " 'Gradation',\n",
       " 'Deadlocking',\n",
       " 'inaculaties',\n",
       " 'YELLOWEST',\n",
       " 'Frumpy',\n",
       " 'marauder',\n",
       " 'RANDOMIZED',\n",
       " 'Wms',\n",
       " 'Babusiiter',\n",
       " 'PROMULGATED',\n",
       " 'Aity',\n",
       " 'raAS',\n",
       " 'CHANGEABLY',\n",
       " 'CLASSICAL',\n",
       " 'hole',\n",
       " 'Korean',\n",
       " 'veciays',\n",
       " 'Silicate',\n",
       " 'Dinker',\n",
       " 'burgeons',\n",
       " 'craftier',\n",
       " 'BASTARD',\n",
       " 'Autnologiat',\n",
       " 'armlets',\n",
       " 'CAPUICHIN',\n",
       " 'Secondly',\n",
       " 'Omsk',\n",
       " 'RTTER',\n",
       " 'Orlons',\n",
       " 'observantly',\n",
       " 'aouGss',\n",
       " 'Horrors',\n",
       " 'Aduisasee',\n",
       " 'CANASTA',\n",
       " 'fires',\n",
       " 'POWERING',\n",
       " 'RESURVEVET',\n",
       " 'Chronological',\n",
       " 'Underwrites',\n",
       " 'Villi',\n",
       " 'dispensable',\n",
       " 'Lemon',\n",
       " 'HMrM',\n",
       " 'IIETETOLOGISTS',\n",
       " 'PAOLEM',\n",
       " 'datrnaing',\n",
       " 'Plagschool',\n",
       " 'Wauaying',\n",
       " 'Memoraie',\n",
       " 'Nastier',\n",
       " 'leases',\n",
       " 'Ledng',\n",
       " 'Become',\n",
       " 'Mten',\n",
       " 'EIGels',\n",
       " 'MILDEWING',\n",
       " 'LENSTS',\n",
       " 'juuicy',\n",
       " 'cardiologist',\n",
       " 'FODATION',\n",
       " 'FRISKEST',\n",
       " 'PASSTA',\n",
       " 'POACHER',\n",
       " 'SHASTA',\n",
       " ...]"
      ]
     },
     "execution_count": 94,
     "metadata": {},
     "output_type": "execute_result"
    }
   ],
   "source": [
    "ctc_decoder(pred)"
   ]
  },
  {
   "cell_type": "code",
   "execution_count": 93,
   "id": "9f53f296",
   "metadata": {},
   "outputs": [
    {
     "data": {
      "text/plain": [
       "np.str_('D:/mnt/ramdisk/max/90kDICT32px\\\\./124/6/122_sussex_76563.jpg')"
      ]
     },
     "execution_count": 93,
     "metadata": {},
     "output_type": "execute_result"
    }
   ],
   "source": [
    "test_img_path[3]"
   ]
  },
  {
   "cell_type": "markdown",
   "id": "21d7bd40",
   "metadata": {},
   "source": [
    "# **Prediction**"
   ]
  },
  {
   "cell_type": "code",
   "execution_count": null,
   "id": "047c1a43",
   "metadata": {},
   "outputs": [],
   "source": [
    "\"\"\" def crnn_pred():\n",
    "    inputs = Input(shape=(32, 128, 1), name=\"image\")\n",
    "\n",
    "    labels = layers.Input(name=\"label\", shape=(None,), dtype=\"int32\")\n",
    "\n",
    "    conv_1 = Conv2D(32, (3,3), activation = \"selu\", padding='same')(inputs)\n",
    "    pool_1 = MaxPool2D(pool_size=(2, 2))(conv_1)\n",
    "    \n",
    "    conv_2 = Conv2D(64, (3,3), activation = \"selu\", padding='same')(pool_1)\n",
    "    pool_2 = MaxPool2D(pool_size=(2, 2))(conv_2)\n",
    "\n",
    "    conv_3 = Conv2D(128, (3,3), activation = \"selu\", padding='same')(pool_2)\n",
    "    conv_4 = Conv2D(128, (3,3), activation = \"selu\", padding='same')(conv_3)\n",
    "\n",
    "    pool_4 = MaxPool2D(pool_size=(2, 1))(conv_4)\n",
    "    \n",
    "    conv_5 = Conv2D(256, (3,3), activation = \"selu\", padding='same')(pool_4)\n",
    "    \n",
    "    # Batch normalization layer\n",
    "    batch_norm_5 = BatchNormalization()(conv_5)\n",
    "    \n",
    "    conv_6 = Conv2D(256, (3,3), activation = \"selu\", padding='same')(batch_norm_5)\n",
    "    batch_norm_6 = BatchNormalization()(conv_6)\n",
    "    pool_6 = MaxPool2D(pool_size=(2, 1))(batch_norm_6)\n",
    "    \n",
    "    conv_7 = Conv2D(64, (2,2), activation = \"selu\")(pool_6)\n",
    "    \n",
    "    squeezed = Lambda(lambda x: K.squeeze(x, 1))(conv_7)\n",
    "    \n",
    "    # bidirectional LSTM layers with units=128\n",
    "    blstm_1 = Bidirectional(LSTM(128, return_sequences=True))(squeezed)\n",
    "    blstm_2 = Bidirectional(LSTM(128, return_sequences=True))(blstm_1)\n",
    "\n",
    "    output = Dense(len(char_list) + 1, activation = 'softmax', name=\"dense\")(blstm_2)\n",
    "\n",
    "    model = Model(inputs=inputs, outputs=output)\n",
    "\n",
    "    return model \"\"\"\n",
    "\n",
    "def crnn_pred():\n",
    "    inputs = Input(shape=(32, 128, 1), name=\"image\")\n",
    "    labels = Input(name=\"label\", shape=(None,), dtype=\"float32\")\n",
    "\n",
    "    conv_1 = Conv2D(16, (3,3), activation=\"selu\", padding='same')(inputs)  # FIXED: filters = 16\n",
    "    pool_1 = MaxPool2D(pool_size=(2, 2))(conv_1)\n",
    "\n",
    "    conv_2 = Conv2D(32, (3,3), activation=\"selu\", padding='same')(pool_1)\n",
    "    pool_2 = MaxPool2D(pool_size=(2, 2))(conv_2)\n",
    "\n",
    "    conv_3 = Conv2D(64, (3,3), activation=\"selu\", padding='same')(pool_2)\n",
    "    conv_4 = Conv2D(64, (3,3), activation=\"selu\", padding='same')(conv_3)\n",
    "    pool_4 = MaxPool2D(pool_size=(2, 1))(conv_4)\n",
    "\n",
    "    conv_5 = Conv2D(64, (3,3), activation=\"selu\", padding='same')(pool_4)\n",
    "    batch_norm_5 = BatchNormalization()(conv_5)\n",
    "\n",
    "    conv_6 = Conv2D(64, (3,3), activation=\"selu\", padding='same')(batch_norm_5)\n",
    "    batch_norm_6 = BatchNormalization()(conv_6)\n",
    "    pool_6 = MaxPool2D(pool_size=(2, 1))(batch_norm_6)\n",
    "\n",
    "    conv_7 = Conv2D(64, (2,2), activation=\"selu\")(pool_6)\n",
    "    squeezed = Lambda(lambda x: K.squeeze(x, 1))(conv_7)\n",
    "\n",
    "    blstm_1 = Bidirectional(LSTM(128, return_sequences=True))(squeezed)\n",
    "    blstm_2 = Bidirectional(LSTM(128, return_sequences=True))(blstm_1)\n",
    "\n",
    "    output = Dense(62 + 1, activation='softmax', name=\"dense\")(blstm_2)\n",
    "\n",
    "    model = Model(inputs=inputs, outputs=output)\n",
    "    return model\n",
    "\n",
    "def crnn_pred1():\n",
    "    inputs = Input(shape=(64, 256, 1), name=\"image\")\n",
    "\n",
    "    labels = layers.Input(name=\"label\", shape=(None,), dtype=\"float32\")\n",
    "\n",
    "    conv_1 = Conv2D(32, (3,3), activation = \"selu\", padding='same')(inputs)\n",
    "    pool_1 = MaxPool2D(pool_size=(2, 2))(conv_1)\n",
    "    \n",
    "    conv_2 = Conv2D(64, (3,3), activation = \"selu\", padding='same')(pool_1)\n",
    "    pool_2 = MaxPool2D(pool_size=(2, 2))(conv_2)\n",
    "\n",
    "    conv_3 = Conv2D(128, (3,3), activation = \"selu\", padding='same')(pool_2)\n",
    "    pool_3 = MaxPool2D(pool_size=(2, 2))(conv_3)\n",
    "\n",
    "    conv_4 = Conv2D(128, (3,3), activation = \"selu\", padding='same')(pool_3)\n",
    "    pool_4 = MaxPool2D(pool_size=(2, 1))(conv_4)\n",
    "    \n",
    "    conv_5 = Conv2D(256, (3,3), activation = \"selu\", padding='same')(pool_4)\n",
    "    \n",
    "    # Batch normalization layer\n",
    "    batch_norm_5 = BatchNormalization()(conv_5)\n",
    "    \n",
    "    conv_6 = Conv2D(256, (3,3), activation = \"selu\", padding='same')(batch_norm_5)\n",
    "    batch_norm_6 = BatchNormalization()(conv_6)\n",
    "    pool_6 = MaxPool2D(pool_size=(2, 1))(batch_norm_6)\n",
    "    \n",
    "    conv_7 = Conv2D(64, (2,2), activation = \"selu\")(pool_6)\n",
    "    \n",
    "    squeezed = Lambda(lambda x: K.squeeze(x, 1))(conv_7)\n",
    "    \n",
    "    # bidirectional LSTM layers with units=128\n",
    "    blstm_1 = Bidirectional(LSTM(128, return_sequences=True))(squeezed)\n",
    "    blstm_2 = Bidirectional(LSTM(128, return_sequences=True))(blstm_1)\n",
    "\n",
    "    output = Dense(62 + 1, activation='softmax', name=\"dense\")(blstm_2)\n",
    "\n",
    "    model = Model(inputs=inputs, outputs=output)\n",
    "\n",
    "    return model"
   ]
  },
  {
   "cell_type": "code",
   "execution_count": null,
   "id": "0557e662",
   "metadata": {},
   "outputs": [],
   "source": [
    "crnn_pred=crnn_pred()"
   ]
  },
  {
   "cell_type": "code",
   "execution_count": null,
   "id": "0b027640",
   "metadata": {},
   "outputs": [],
   "source": [
    "model_x = crnn_pred()\n",
    "model_x.load_weights(\"artifacts/models/crnn/C_LSTM_best(w&b).hdf5\", by_name=True,skip_mismatch=True)\n",
    "\n",
    "model_y = crnn_pred1()\n",
    "model_y.load_weights(\"artifacts/models/crnn/crnn_synthdata_customapproach_3_epoch_09.h5\")"
   ]
  },
  {
   "cell_type": "code",
   "execution_count": null,
   "id": "4ed003c3",
   "metadata": {},
   "outputs": [],
   "source": [
    "def transfer_weights_by_type(target_model, source_model, layer_class, prefix=\"\"):\n",
    "    t_layers = [l for l in target_model.layers if isinstance(l, layer_class)]\n",
    "    s_layers = [l for l in source_model.layers if isinstance(l, layer_class)]\n",
    "\n",
    "    print(s_layers)\n",
    "\n",
    "    count = min(len(t_layers), len(s_layers))\n",
    "    for i in range(count):\n",
    "        t_layers[i].set_weights(s_layers[i].get_weights())\n",
    "        print(f\"{prefix} Loaded weights for {layer_class.__name__} layer {i}\")"
   ]
  },
  {
   "cell_type": "code",
   "execution_count": null,
   "id": "c270955a",
   "metadata": {},
   "outputs": [],
   "source": [
    "def copy_bidirectional_lstm_weights(dest_model, src_model):\n",
    "    src_bilstm = [l for l in src_model.layers if isinstance(l, Bidirectional)]\n",
    "    dest_bilstm = [l for l in dest_model.layers if isinstance(l, Bidirectional)]\n",
    "\n",
    "    for i in range(min(len(src_bilstm), len(dest_bilstm))):\n",
    "        try:\n",
    "            dest_bilstm[i].forward_layer.set_weights(src_bilstm[i].forward_layer.get_weights())\n",
    "            dest_bilstm[i].backward_layer.set_weights(src_bilstm[i].backward_layer.get_weights())\n",
    "            print(f\"Copied weights for Bidirectional LSTM layer {i}\")\n",
    "        except Exception as e:\n",
    "            print(f\"⚠️ Skipped Bidirectional LSTM layer {i}: {e}\")"
   ]
  },
  {
   "cell_type": "code",
   "execution_count": null,
   "id": "15b3094f",
   "metadata": {},
   "outputs": [
    {
     "name": "stdout",
     "output_type": "stream",
     "text": [
      "[<Conv2D name=conv2d_91, built=True>, <Conv2D name=conv2d_92, built=True>, <Conv2D name=conv2d_93, built=True>, <Conv2D name=conv2d_94, built=True>, <Conv2D name=conv2d_95, built=True>, <Conv2D name=conv2d_96, built=True>, <Conv2D name=conv2d_97, built=True>]\n",
      "CNN Loaded weights for Conv2D layer 0\n",
      "CNN Loaded weights for Conv2D layer 1\n",
      "CNN Loaded weights for Conv2D layer 2\n",
      "CNN Loaded weights for Conv2D layer 3\n",
      "CNN Loaded weights for Conv2D layer 4\n",
      "CNN Loaded weights for Conv2D layer 5\n",
      "CNN Loaded weights for Conv2D layer 6\n",
      "Copied weights for Bidirectional LSTM layer 0\n",
      "Copied weights for Bidirectional LSTM layer 1\n",
      "[<Dense name=dense, built=True>]\n",
      "Dense Loaded weights for Dense layer 0\n"
     ]
    }
   ],
   "source": [
    "transfer_weights_by_type(crnn_pred, model_x, Conv2D, prefix=\"CNN\")\n",
    "\n",
    "# Load LSTM weights from Model Y\n",
    "copy_bidirectional_lstm_weights(crnn_pred, model_y)\n",
    "\n",
    "# Load Dense layer from Model Y (softmax output)\n",
    "transfer_weights_by_type(crnn_pred, model_y, Dense, prefix=\"Dense\")"
   ]
  },
  {
   "cell_type": "code",
   "execution_count": null,
   "id": "9b763eaa",
   "metadata": {},
   "outputs": [
    {
     "name": "stdout",
     "output_type": "stream",
     "text": [
      "(1, 32, 128, 1)\n"
     ]
    }
   ],
   "source": [
    "img=get_image('D:/mnt/ramdisk/max/90kDICT32px\\\\./802/1/131_IRREVOCABLY_40879.jpg')\n",
    "\n",
    "img = np.expand_dims(img, axis=0) \n",
    "\n",
    "print(img.shape)"
   ]
  },
  {
   "cell_type": "code",
   "execution_count": null,
   "id": "c839f700",
   "metadata": {},
   "outputs": [
    {
     "name": "stdout",
     "output_type": "stream",
     "text": [
      "\u001b[1m1/1\u001b[0m \u001b[32m━━━━━━━━━━━━━━━━━━━━\u001b[0m\u001b[37m\u001b[0m \u001b[1m1s\u001b[0m 568ms/step\n"
     ]
    }
   ],
   "source": [
    "prediction=crnn_pred.predict(img)"
   ]
  },
  {
   "cell_type": "code",
   "execution_count": null,
   "id": "9ec2eefd",
   "metadata": {},
   "outputs": [
    {
     "data": {
      "text/plain": [
       "['P']"
      ]
     },
     "execution_count": 80,
     "metadata": {},
     "output_type": "execute_result"
    }
   ],
   "source": [
    "ctc_decoder(prediction)"
   ]
  },
  {
   "cell_type": "code",
   "execution_count": 95,
   "id": "73896aff",
   "metadata": {},
   "outputs": [
    {
     "data": {
      "image/png": "[encoded data removed]",
      "text/plain": [
       "<Figure size 640x480 with 1 Axes>"
      ]
     },
     "metadata": {},
     "output_type": "display_data"
    }
   ],
   "source": [
    "import matplotlib.pyplot as plt\n",
    "\n",
    "plt.imshow(cv2.imread('D:/mnt/ramdisk/max/90kDICT32px\\\\./124/6/122_sussex_76563.jpg', cv2.IMREAD_GRAYSCALE), cmap='gray')  # Use cmap='gray' for grayscale images if needed\n",
    "#plt.imshow(cv2.imread('D:/mnt/ramdisk/max/90kDICT32px\\\\./181/5/121_Temple_78079.jpg'))  # Use cmap='gray' for grayscale images if needed\n",
    "plt.axis('off')  # Remove axes for better visualization\n",
    "plt.show() "
   ]
  }
 ],
 "metadata": {
  "kernelspec": {
   "display_name": "vir_env",
   "language": "python",
   "name": "python3"
  },
  "language_info": {
   "codemirror_mode": {
    "name": "ipython",
    "version": 3
   },
   "file_extension": ".py",
   "mimetype": "text/x-python",
   "name": "python",
   "nbconvert_exporter": "python",
   "pygments_lexer": "ipython3",
   "version": "3.12.3"
  }
 },
 "nbformat": 4,
 "nbformat_minor": 5
}
